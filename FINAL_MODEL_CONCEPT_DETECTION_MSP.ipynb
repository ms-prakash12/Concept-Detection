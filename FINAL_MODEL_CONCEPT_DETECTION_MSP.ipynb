{
  "nbformat": 4,
  "nbformat_minor": 0,
  "metadata": {
    "accelerator": "GPU",
    "colab": {
      "name": "FINAL_MODEL_CONCEPT_DETECTION_MSP.ipynb",
      "provenance": []
    },
    "kernelspec": {
      "display_name": "Python 3",
      "language": "python",
      "name": "python3"
    },
    "language_info": {
      "codemirror_mode": {
        "name": "ipython",
        "version": 3
      },
      "file_extension": ".py",
      "mimetype": "text/x-python",
      "name": "python",
      "nbconvert_exporter": "python",
      "pygments_lexer": "ipython3",
      "version": "3.5.4"
    }
  },
  "cells": [
    {
      "cell_type": "code",
      "metadata": {
        "colab": {
          "base_uri": "https://localhost:8080/"
        },
        "id": "Do2hGlyBA0_O",
        "outputId": "746c7624-ff09-4761-f21f-6c480781a624"
      },
      "source": [
        "!pip install ktrain"
      ],
      "execution_count": null,
      "outputs": [
        {
          "output_type": "stream",
          "text": [
            "Collecting ktrain\n",
            "  Downloading ktrain-0.27.2.tar.gz (25.3 MB)\n",
            "\u001b[K     |████████████████████████████████| 25.3 MB 105 kB/s \n",
            "\u001b[?25hCollecting scikit-learn==0.23.2\n",
            "  Downloading scikit_learn-0.23.2-cp37-cp37m-manylinux1_x86_64.whl (6.8 MB)\n",
            "\u001b[K     |████████████████████████████████| 6.8 MB 58.7 MB/s \n",
            "\u001b[?25hRequirement already satisfied: matplotlib>=3.0.0 in /usr/local/lib/python3.7/dist-packages (from ktrain) (3.2.2)\n",
            "Requirement already satisfied: pandas>=1.0.1 in /usr/local/lib/python3.7/dist-packages (from ktrain) (1.1.5)\n",
            "Requirement already satisfied: fastprogress>=0.1.21 in /usr/local/lib/python3.7/dist-packages (from ktrain) (1.0.0)\n",
            "Requirement already satisfied: requests in /usr/local/lib/python3.7/dist-packages (from ktrain) (2.23.0)\n",
            "Requirement already satisfied: joblib in /usr/local/lib/python3.7/dist-packages (from ktrain) (1.0.1)\n",
            "Requirement already satisfied: packaging in /usr/local/lib/python3.7/dist-packages (from ktrain) (21.0)\n",
            "Requirement already satisfied: ipython in /usr/local/lib/python3.7/dist-packages (from ktrain) (5.5.0)\n",
            "Collecting langdetect\n",
            "  Downloading langdetect-1.0.9.tar.gz (981 kB)\n",
            "\u001b[K     |████████████████████████████████| 981 kB 64.7 MB/s \n",
            "\u001b[?25hRequirement already satisfied: jieba in /usr/local/lib/python3.7/dist-packages (from ktrain) (0.42.1)\n",
            "Collecting cchardet\n",
            "  Downloading cchardet-2.1.7-cp37-cp37m-manylinux2010_x86_64.whl (263 kB)\n",
            "\u001b[K     |████████████████████████████████| 263 kB 60.1 MB/s \n",
            "\u001b[?25hRequirement already satisfied: chardet in /usr/local/lib/python3.7/dist-packages (from ktrain) (3.0.4)\n",
            "Collecting syntok\n",
            "  Downloading syntok-1.3.1.tar.gz (23 kB)\n",
            "Collecting seqeval==0.0.19\n",
            "  Downloading seqeval-0.0.19.tar.gz (30 kB)\n",
            "Collecting transformers<=4.3.3,>=4.0.0\n",
            "  Downloading transformers-4.3.3-py3-none-any.whl (1.9 MB)\n",
            "\u001b[K     |████████████████████████████████| 1.9 MB 54.3 MB/s \n",
            "\u001b[?25hCollecting sentencepiece\n",
            "  Downloading sentencepiece-0.1.96-cp37-cp37m-manylinux_2_17_x86_64.manylinux2014_x86_64.whl (1.2 MB)\n",
            "\u001b[K     |████████████████████████████████| 1.2 MB 62.1 MB/s \n",
            "\u001b[?25hCollecting keras_bert>=0.86.0\n",
            "  Downloading keras-bert-0.88.0.tar.gz (26 kB)\n",
            "Requirement already satisfied: networkx>=2.3 in /usr/local/lib/python3.7/dist-packages (from ktrain) (2.6.2)\n",
            "Collecting whoosh\n",
            "  Downloading Whoosh-2.7.4-py2.py3-none-any.whl (468 kB)\n",
            "\u001b[K     |████████████████████████████████| 468 kB 59.8 MB/s \n",
            "\u001b[?25hRequirement already satisfied: numpy>=1.13.3 in /usr/local/lib/python3.7/dist-packages (from scikit-learn==0.23.2->ktrain) (1.19.5)\n",
            "Collecting threadpoolctl>=2.0.0\n",
            "  Downloading threadpoolctl-2.2.0-py3-none-any.whl (12 kB)\n",
            "Requirement already satisfied: scipy>=0.19.1 in /usr/local/lib/python3.7/dist-packages (from scikit-learn==0.23.2->ktrain) (1.4.1)\n",
            "Requirement already satisfied: Keras>=2.2.4 in /usr/local/lib/python3.7/dist-packages (from seqeval==0.0.19->ktrain) (2.4.3)\n",
            "Requirement already satisfied: h5py in /usr/local/lib/python3.7/dist-packages (from Keras>=2.2.4->seqeval==0.0.19->ktrain) (3.1.0)\n",
            "Requirement already satisfied: pyyaml in /usr/local/lib/python3.7/dist-packages (from Keras>=2.2.4->seqeval==0.0.19->ktrain) (3.13)\n",
            "Collecting keras-transformer>=0.39.0\n",
            "  Downloading keras-transformer-0.39.0.tar.gz (11 kB)\n",
            "Collecting keras-pos-embd>=0.12.0\n",
            "  Downloading keras-pos-embd-0.12.0.tar.gz (6.0 kB)\n",
            "Collecting keras-multi-head>=0.28.0\n",
            "  Downloading keras-multi-head-0.28.0.tar.gz (14 kB)\n",
            "Collecting keras-layer-normalization>=0.15.0\n",
            "  Downloading keras-layer-normalization-0.15.0.tar.gz (4.2 kB)\n",
            "Collecting keras-position-wise-feed-forward>=0.7.0\n",
            "  Downloading keras-position-wise-feed-forward-0.7.0.tar.gz (4.5 kB)\n",
            "Collecting keras-embed-sim>=0.9.0\n",
            "  Downloading keras-embed-sim-0.9.0.tar.gz (4.1 kB)\n",
            "Collecting keras-self-attention>=0.50.0\n",
            "  Downloading keras-self-attention-0.50.0.tar.gz (12 kB)\n",
            "Requirement already satisfied: cycler>=0.10 in /usr/local/lib/python3.7/dist-packages (from matplotlib>=3.0.0->ktrain) (0.10.0)\n",
            "Requirement already satisfied: pyparsing!=2.0.4,!=2.1.2,!=2.1.6,>=2.0.1 in /usr/local/lib/python3.7/dist-packages (from matplotlib>=3.0.0->ktrain) (2.4.7)\n",
            "Requirement already satisfied: kiwisolver>=1.0.1 in /usr/local/lib/python3.7/dist-packages (from matplotlib>=3.0.0->ktrain) (1.3.1)\n",
            "Requirement already satisfied: python-dateutil>=2.1 in /usr/local/lib/python3.7/dist-packages (from matplotlib>=3.0.0->ktrain) (2.8.2)\n",
            "Requirement already satisfied: six in /usr/local/lib/python3.7/dist-packages (from cycler>=0.10->matplotlib>=3.0.0->ktrain) (1.15.0)\n",
            "Requirement already satisfied: pytz>=2017.2 in /usr/local/lib/python3.7/dist-packages (from pandas>=1.0.1->ktrain) (2018.9)\n",
            "Requirement already satisfied: filelock in /usr/local/lib/python3.7/dist-packages (from transformers<=4.3.3,>=4.0.0->ktrain) (3.0.12)\n",
            "Requirement already satisfied: importlib-metadata in /usr/local/lib/python3.7/dist-packages (from transformers<=4.3.3,>=4.0.0->ktrain) (4.6.3)\n",
            "Requirement already satisfied: tqdm>=4.27 in /usr/local/lib/python3.7/dist-packages (from transformers<=4.3.3,>=4.0.0->ktrain) (4.62.0)\n",
            "Collecting sacremoses\n",
            "  Downloading sacremoses-0.0.45-py3-none-any.whl (895 kB)\n",
            "\u001b[K     |████████████████████████████████| 895 kB 58.3 MB/s \n",
            "\u001b[?25hCollecting tokenizers<0.11,>=0.10.1\n",
            "  Downloading tokenizers-0.10.3-cp37-cp37m-manylinux_2_5_x86_64.manylinux1_x86_64.manylinux_2_12_x86_64.manylinux2010_x86_64.whl (3.3 MB)\n",
            "\u001b[K     |████████████████████████████████| 3.3 MB 37.5 MB/s \n",
            "\u001b[?25hRequirement already satisfied: regex!=2019.12.17 in /usr/local/lib/python3.7/dist-packages (from transformers<=4.3.3,>=4.0.0->ktrain) (2019.12.20)\n",
            "Requirement already satisfied: cached-property in /usr/local/lib/python3.7/dist-packages (from h5py->Keras>=2.2.4->seqeval==0.0.19->ktrain) (1.5.2)\n",
            "Requirement already satisfied: typing-extensions>=3.6.4 in /usr/local/lib/python3.7/dist-packages (from importlib-metadata->transformers<=4.3.3,>=4.0.0->ktrain) (3.7.4.3)\n",
            "Requirement already satisfied: zipp>=0.5 in /usr/local/lib/python3.7/dist-packages (from importlib-metadata->transformers<=4.3.3,>=4.0.0->ktrain) (3.5.0)\n",
            "Requirement already satisfied: pexpect in /usr/local/lib/python3.7/dist-packages (from ipython->ktrain) (4.8.0)\n",
            "Requirement already satisfied: prompt-toolkit<2.0.0,>=1.0.4 in /usr/local/lib/python3.7/dist-packages (from ipython->ktrain) (1.0.18)\n",
            "Requirement already satisfied: simplegeneric>0.8 in /usr/local/lib/python3.7/dist-packages (from ipython->ktrain) (0.8.1)\n",
            "Requirement already satisfied: pickleshare in /usr/local/lib/python3.7/dist-packages (from ipython->ktrain) (0.7.5)\n",
            "Requirement already satisfied: decorator in /usr/local/lib/python3.7/dist-packages (from ipython->ktrain) (4.4.2)\n",
            "Requirement already satisfied: pygments in /usr/local/lib/python3.7/dist-packages (from ipython->ktrain) (2.6.1)\n",
            "Requirement already satisfied: setuptools>=18.5 in /usr/local/lib/python3.7/dist-packages (from ipython->ktrain) (57.2.0)\n",
            "Requirement already satisfied: traitlets>=4.2 in /usr/local/lib/python3.7/dist-packages (from ipython->ktrain) (5.0.5)\n",
            "Requirement already satisfied: wcwidth in /usr/local/lib/python3.7/dist-packages (from prompt-toolkit<2.0.0,>=1.0.4->ipython->ktrain) (0.2.5)\n",
            "Requirement already satisfied: ipython-genutils in /usr/local/lib/python3.7/dist-packages (from traitlets>=4.2->ipython->ktrain) (0.2.0)\n",
            "Requirement already satisfied: ptyprocess>=0.5 in /usr/local/lib/python3.7/dist-packages (from pexpect->ipython->ktrain) (0.7.0)\n",
            "Requirement already satisfied: urllib3!=1.25.0,!=1.25.1,<1.26,>=1.21.1 in /usr/local/lib/python3.7/dist-packages (from requests->ktrain) (1.24.3)\n",
            "Requirement already satisfied: certifi>=2017.4.17 in /usr/local/lib/python3.7/dist-packages (from requests->ktrain) (2021.5.30)\n",
            "Requirement already satisfied: idna<3,>=2.5 in /usr/local/lib/python3.7/dist-packages (from requests->ktrain) (2.10)\n",
            "Requirement already satisfied: click in /usr/local/lib/python3.7/dist-packages (from sacremoses->transformers<=4.3.3,>=4.0.0->ktrain) (7.1.2)\n",
            "Building wheels for collected packages: ktrain, seqeval, keras-bert, keras-transformer, keras-embed-sim, keras-layer-normalization, keras-multi-head, keras-pos-embd, keras-position-wise-feed-forward, keras-self-attention, langdetect, syntok\n",
            "  Building wheel for ktrain (setup.py) ... \u001b[?25l\u001b[?25hdone\n",
            "  Created wheel for ktrain: filename=ktrain-0.27.2-py3-none-any.whl size=25283088 sha256=d7c62f598c980d29d37e8754df7035cc3014117c70966a9f76f51e8e0947397f\n",
            "  Stored in directory: /root/.cache/pip/wheels/88/be/4a/971c83a380a40f12e877f643ca1b94dc65f528f94c88dbcff7\n",
            "  Building wheel for seqeval (setup.py) ... \u001b[?25l\u001b[?25hdone\n",
            "  Created wheel for seqeval: filename=seqeval-0.0.19-py3-none-any.whl size=9929 sha256=031c4e206e9e364f49340ece0ceb3315ada4731ad6d2d898e4c7a6c6f8205a30\n",
            "  Stored in directory: /root/.cache/pip/wheels/f5/ac/f1/4e13d7aff05c722d142b7d20a88ad63f9aab11b895411241a4\n",
            "  Building wheel for keras-bert (setup.py) ... \u001b[?25l\u001b[?25hdone\n",
            "  Created wheel for keras-bert: filename=keras_bert-0.88.0-py3-none-any.whl size=34204 sha256=4ceb138f66882f43566752a1d8223a77ada82c6055e3fcc7c3a2127d7b5ecc62\n",
            "  Stored in directory: /root/.cache/pip/wheels/a2/90/cd/c038f2366929a3a5e3414a303b673e10235e802d871d29a835\n",
            "  Building wheel for keras-transformer (setup.py) ... \u001b[?25l\u001b[?25hdone\n",
            "  Created wheel for keras-transformer: filename=keras_transformer-0.39.0-py3-none-any.whl size=12842 sha256=b95ec85e61d52a188c3d5ae422672853a2fabe44616113901b91be30bc22f841\n",
            "  Stored in directory: /root/.cache/pip/wheels/bc/01/e0/5a1a14bed6726f2ed73f7917d2d2c2d4081d2c88426dea07ce\n",
            "  Building wheel for keras-embed-sim (setup.py) ... \u001b[?25l\u001b[?25hdone\n",
            "  Created wheel for keras-embed-sim: filename=keras_embed_sim-0.9.0-py3-none-any.whl size=4504 sha256=1c55c4f32ea96d3be9922055297785cd9497f2cdf313f947d6475d857272a00f\n",
            "  Stored in directory: /root/.cache/pip/wheels/a8/1e/d2/9bc15513dd2f8b9de3e628b3aa9d2de49e721deef6bbd1497e\n",
            "  Building wheel for keras-layer-normalization (setup.py) ... \u001b[?25l\u001b[?25hdone\n",
            "  Created wheel for keras-layer-normalization: filename=keras_layer_normalization-0.15.0-py3-none-any.whl size=5224 sha256=fb3ea7b6379eb0ce302a40d29893c887ab65d193879120df59ac3ee8f2ce491d\n",
            "  Stored in directory: /root/.cache/pip/wheels/4d/be/fe/55422f77ac11fe6ddcb471198038de8a26b5a4dd1557883c1e\n",
            "  Building wheel for keras-multi-head (setup.py) ... \u001b[?25l\u001b[?25hdone\n",
            "  Created wheel for keras-multi-head: filename=keras_multi_head-0.28.0-py3-none-any.whl size=15559 sha256=cc3208f96526c4d3e35cbe5b2968e428b496b1e26f5a66e46d1de3dbc4f3fc45\n",
            "  Stored in directory: /root/.cache/pip/wheels/79/4a/ea/9503ab5a02201dfb8635ba2cc8f30844661623c684a5b44472\n",
            "  Building wheel for keras-pos-embd (setup.py) ... \u001b[?25l\u001b[?25hdone\n",
            "  Created wheel for keras-pos-embd: filename=keras_pos_embd-0.12.0-py3-none-any.whl size=7469 sha256=794733adfdca1d6cf337960eb3a8fe580e8e3dce935bff590cddac9128536af7\n",
            "  Stored in directory: /root/.cache/pip/wheels/77/99/fd/dd98f4876c3ebbef7aab0dbfbd37bca41d7db37d3a28b2cb09\n",
            "  Building wheel for keras-position-wise-feed-forward (setup.py) ... \u001b[?25l\u001b[?25hdone\n",
            "  Created wheel for keras-position-wise-feed-forward: filename=keras_position_wise_feed_forward-0.7.0-py3-none-any.whl size=5541 sha256=eccbe15184786e491ba1300bd0b9c4c8c13cfc7d67959f73d6eccb9da434a790\n",
            "  Stored in directory: /root/.cache/pip/wheels/2d/12/02/1ad455c4f181cda1a4e60c5445855853d5c2ea91f942586a04\n",
            "  Building wheel for keras-self-attention (setup.py) ... \u001b[?25l\u001b[?25hdone\n",
            "  Created wheel for keras-self-attention: filename=keras_self_attention-0.50.0-py3-none-any.whl size=19414 sha256=6eb5d5fc83ac3340d260c44552fab6e7be661151930ddb1217b86dd85d7873c3\n",
            "  Stored in directory: /root/.cache/pip/wheels/92/7a/a3/231bef5803298e7ec1815215bc0613239cb1e9c03c57b13c14\n",
            "  Building wheel for langdetect (setup.py) ... \u001b[?25l\u001b[?25hdone\n",
            "  Created wheel for langdetect: filename=langdetect-1.0.9-py3-none-any.whl size=993242 sha256=c65e4f35a7bacfae3796f1112ea2ee0dafb0efaec8c5d8400c45826f1ecb0133\n",
            "  Stored in directory: /root/.cache/pip/wheels/c5/96/8a/f90c59ed25d75e50a8c10a1b1c2d4c402e4dacfa87f3aff36a\n",
            "  Building wheel for syntok (setup.py) ... \u001b[?25l\u001b[?25hdone\n",
            "  Created wheel for syntok: filename=syntok-1.3.1-py3-none-any.whl size=20917 sha256=72dcfdbb05d772f4880a3dfd4cdc764f0d71f85a38cea8a65365bb889e070f97\n",
            "  Stored in directory: /root/.cache/pip/wheels/5e/c2/33/e5d7d8f2f8b0c391d76bf82b844c3151bf23a84d75d02b185f\n",
            "Successfully built ktrain seqeval keras-bert keras-transformer keras-embed-sim keras-layer-normalization keras-multi-head keras-pos-embd keras-position-wise-feed-forward keras-self-attention langdetect syntok\n",
            "Installing collected packages: keras-self-attention, keras-position-wise-feed-forward, keras-pos-embd, keras-multi-head, keras-layer-normalization, keras-embed-sim, tokenizers, threadpoolctl, sacremoses, keras-transformer, whoosh, transformers, syntok, seqeval, sentencepiece, scikit-learn, langdetect, keras-bert, cchardet, ktrain\n",
            "  Attempting uninstall: scikit-learn\n",
            "    Found existing installation: scikit-learn 0.22.2.post1\n",
            "    Uninstalling scikit-learn-0.22.2.post1:\n",
            "      Successfully uninstalled scikit-learn-0.22.2.post1\n",
            "Successfully installed cchardet-2.1.7 keras-bert-0.88.0 keras-embed-sim-0.9.0 keras-layer-normalization-0.15.0 keras-multi-head-0.28.0 keras-pos-embd-0.12.0 keras-position-wise-feed-forward-0.7.0 keras-self-attention-0.50.0 keras-transformer-0.39.0 ktrain-0.27.2 langdetect-1.0.9 sacremoses-0.0.45 scikit-learn-0.23.2 sentencepiece-0.1.96 seqeval-0.0.19 syntok-1.3.1 threadpoolctl-2.2.0 tokenizers-0.10.3 transformers-4.3.3 whoosh-2.7.4\n"
          ],
          "name": "stdout"
        }
      ]
    },
    {
      "cell_type": "code",
      "metadata": {
        "id": "_SIaIek3BAKa"
      },
      "source": [
        "import tensorflow as tf\n",
        "from ktrain import text\n",
        "import pandas as pd\n",
        "import numpy as np\n",
        "import ktrain\n",
        "import nltk\n",
        "import re\n",
        "from collections import defaultdict"
      ],
      "execution_count": null,
      "outputs": []
    },
    {
      "cell_type": "code",
      "metadata": {
        "id": "Ay9JgGTaBRPv"
      },
      "source": [
        "DataFrame = pd.read_csv(\"/content/Final_Data.xlsx - Sheet1.csv\")\n",
        "DataFrame_For_Questions = pd.read_csv(\"/content/Final_Data.xlsx - Sheet1.csv\")"
      ],
      "execution_count": null,
      "outputs": []
    },
    {
      "cell_type": "code",
      "metadata": {
        "colab": {
          "base_uri": "https://localhost:8080/"
        },
        "id": "sR4VcPCYnnm1",
        "outputId": "38aa065d-33b3-4970-821d-22386eaa74c3"
      },
      "source": [
        "len(DataFrame)"
      ],
      "execution_count": null,
      "outputs": [
        {
          "output_type": "execute_result",
          "data": {
            "text/plain": [
              "31587"
            ]
          },
          "metadata": {
            "tags": []
          },
          "execution_count": 4
        }
      ]
    },
    {
      "cell_type": "code",
      "metadata": {
        "colab": {
          "base_uri": "https://localhost:8080/"
        },
        "id": "PCrkRiLLoFDv",
        "outputId": "e91739fb-ac6f-4ffa-d8d4-fa41f70c3740"
      },
      "source": [
        "for ix in range(len(DataFrame['Concepts'])):\n",
        "  z = (DataFrame['Concepts'][ix][1:-1]).split(',')\n",
        "  if len(z) >= 2:\n",
        "    print(z)"
      ],
      "execution_count": null,
      "outputs": [
        {
          "output_type": "stream",
          "text": [
            "['INFERENCE__COMPREHENSION_PASSAGE', ' COMPREHENSION_PASSAGE']\n",
            "['INFERENCE__COMPREHENSION_PASSAGE', ' COMPREHENSION_PASSAGE']\n",
            "['COMPREHENSION_PASSAGE', ' INFERENCE__COMPREHENSION_PASSAGE']\n",
            "['COMPREHENSION_PASSAGE', ' INFERENCE__COMPREHENSION_PASSAGE']\n",
            "['INFERENCE__COMPREHENSION_PASSAGE', ' COMPREHENSION_PASSAGE']\n",
            "['HCF', ' LCM']\n",
            "['PIPE_AND_CISTERN', ' TIME_AND_WORK']\n",
            "['PIPE_AND_CISTERN', ' TIME_AND_WORK']\n",
            "['INFERENCE__COMPREHENSION_PASSAGE', ' COMPREHENSION_PASSAGE']\n",
            "['COMPREHENSION_PASSAGE', ' INFERENCE__COMPREHENSION_PASSAGE']\n",
            "['INFERENCE__COMPREHENSION_PASSAGE', ' COMPREHENSION_PASSAGE']\n",
            "['COMPREHENSION_PASSAGE', ' INFERENCE__COMPREHENSION_PASSAGE']\n",
            "['DISTANCE_AND_DIRECTION', ' CRITICAL_THINKING']\n",
            "['RANDOM_FOREST', ' DECISION_TREES']\n",
            "['LCM', ' HCF']\n",
            "['DISTANCE_AND_DIRECTION', ' CRITICAL_THINKING']\n",
            "['LOGISTIC_REGRESSION', ' LINEAR_REGRESSION']\n",
            "['DISTANCE_AND_DIRECTION', ' CRITICAL_THINKING']\n",
            "['SUPPORT_VECTOR_MACHINES', ' BIAS_VARIANCE_TRADEOFF']\n",
            "['GRADIENT_DESCENT', ' LINEAR_REGRESSION']\n",
            "['GAMES_AND_SPORTS', ' FAMOUS_PERSONALITIES']\n",
            "['PERCENTAGE', ' PERIMETER_AREA_OF_2D_SHAPES']\n",
            "['TRIANGLES', ' CIRCLE']\n",
            "['RATIO', ' ALGEBRAIC_EQUATIONS']\n",
            "['TIME_AND_WORK', ' LCM']\n",
            "['CIRCLE', ' TRIANGLES']\n",
            "['ANGLES', ' QUADRILATERALS']\n",
            "['RATIO', ' TIME_AND_WORK']\n",
            "['MISCELLANEOUS_GK', ' FAMOUS_PERSONALITIES']\n",
            "['MISCELLANEOUS_GK', ' COMPUTERS']\n",
            "['CONSTITUTION', ' IMPORTANT_DATES']\n",
            "['MISCELLANEOUS_GK', ' INDIAN_PHYSICAL_GEOGRAPHY']\n",
            "['CHEMISTRY', ' MISCELLANEOUS_GK']\n",
            "['ANCIENT_HISTORY', ' MUGHALS__MEDIEVAL_INDIA']\n",
            "['MISCELLANEOUS_GK', ' INDIAN_ECONOMY']\n",
            "['FAMOUS_PERSONALITIES', ' MISCELLANEOUS_GK']\n",
            "['CONSTITUTION', ' FAMOUS_PERSONALITIES']\n",
            "['FAMOUS_PERSONALITIES', ' MISCELLANEOUS_GK']\n",
            "['ART_AND_CULTURE_OF_INDIA', ' MISCELLANEOUS_GK']\n",
            "['MISCELLANEOUS_GK', ' CHEMISTRY']\n",
            "['INDIAN_ECONOMY', ' MISCELLANEOUS_GK']\n",
            "['CHEMISTRY', ' FAMOUS_PERSONALITIES']\n",
            "['ANCIENT_HISTORY', ' MONUMENTS_AND_PLACES_OF_INDIA']\n",
            "['DISTANCE_AND_DIRECTION', ' CRITICAL_THINKING']\n",
            "['PROBLEM_SOLVING', ' CRITICAL_THINKING']\n",
            "['ANCIENT_HISTORY', ' AUTHORS_AND_BOOKS']\n",
            "['TRAIN_PROBLEM', ' SPEED_TIME_AND_DISTANCE']\n",
            "['MIRROR_IMAGE', ' CRITICAL_THINKING']\n",
            "['GAMES_AND_SPORTS', ' FAMOUS_PERSONALITIES']\n",
            "['GAMES_AND_SPORTS', ' FAMOUS_PERSONALITIES']\n",
            "['MISCELLANEOUS__CURRENT_AFFAIRS', ' INDIAN_ECONOMY']\n",
            "['RIVERS', ' MISCELLANEOUS__CURRENT_AFFAIRS']\n",
            "['MISCELLANEOUS__CURRENT_AFFAIRS', ' INDIAN_ECONOMY']\n",
            "['BODMAS', ' ALGEBRAIC_EQUATIONS']\n",
            "['INDIAN_ECONOMY', ' MISCELLANEOUS__CURRENT_AFFAIRS']\n",
            "['RATIO', ' TABLE']\n",
            "['CONSTITUTION', ' POLITICAL_SYSTEM_OF_INDIA']\n",
            "['MOUNTAINS', ' FAMOUS_PERSONALITIES']\n",
            "['RATIO', ' DISCOUNT_PROBLEMS']\n",
            "['AWARDS', ' GAMES_AND_SPORTS']\n",
            "['FAMOUS_PERSONALITIES', ' MISCELLANEOUS__CURRENT_AFFAIRS']\n",
            "['MISCELLANEOUS_GK', ' RIVERS']\n",
            "['AWARDS', ' AUTHORS_AND_BOOKS']\n",
            "['PHYSICS', ' EARTH_AND_ITS_ATMOSPHERE']\n",
            "['MISCELLANEOUS__CURRENT_AFFAIRS', ' CONSTITUTION']\n",
            "['MISCELLANEOUS_GK', ' ANCIENT_HISTORY']\n",
            "['CHEMISTRY', ' PHYSICS']\n",
            "['AWARDS', ' MISCELLANEOUS__CURRENT_AFFAIRS']\n",
            "['MISCELLANEOUS__CURRENT_AFFAIRS', ' INDIAN_ECONOMY']\n",
            "['LCM', ' HCF']\n",
            "['TIME_AND_WORK', ' EFFICIENCY_PROBLEM']\n",
            "['PERIMETER_AREA_OF_2D_SHAPES', ' TRIANGLES']\n",
            "['RATIO', ' PROPORTION']\n",
            "['RATIO', ' SURFACE_AREA_VOLUME_OF_3D_SHAPES']\n",
            "['EFFICIENCY_PROBLEM', ' TIME_AND_WORK']\n",
            "['UNDETERMINED', ' CRITICAL_THINKING']\n",
            "['EFFICIENCY_PROBLEM', ' TIME_AND_WORK']\n",
            "['COST_PRICE_SELLING_PRICE', ' RATIO']\n",
            "['SPEED_TIME_AND_DISTANCE', ' TRAIN_PROBLEM']\n",
            "['RATIO', ' PROPORTION']\n",
            "['UNDETERMINED', ' BIOLOGY']\n",
            "['CIRCLE', ' PERIMETER_AREA_OF_2D_SHAPES']\n",
            "['PROPORTION', ' RATIO']\n",
            "['COST_PRICE_SELLING_PRICE', ' PROFIT_LOSS_PERCENTAGE']\n",
            "['SURFACE_AREA_VOLUME_OF_3D_SHAPES', ' PERCENTAGE_CHANGE']\n",
            "['CIRCLE', ' QUADRILATERALS']\n",
            "['EFFICIENCY_PROBLEM', ' TIME_AND_WORK']\n",
            "['AP_GP', ' SPEED_TIME_AND_DISTANCE']\n",
            "['PROFIT_LOSS_PERCENTAGE', ' ALGEBRAIC_EQUATIONS']\n",
            "['FILL_IN_THE_BLANKS', ' GRAMMAR']\n",
            "['AVERAGES', ' PERCENTAGE']\n",
            "['AWARDS', ' UNDETERMINED']\n",
            "['MEAN', ' MODE']\n",
            "['SIMPLE_INTEREST', ' COMPOUND_INTEREST']\n",
            "['SIMPLE_INTEREST', ' COMPOUND_INTEREST']\n",
            "['SIMPLE_INTEREST', ' COMPOUND_INTEREST']\n",
            "['MODE', ' MEDIAN']\n",
            "['SPEED_TIME_AND_DISTANCE', ' TRAIN_PROBLEM']\n",
            "['DIVISION_MULTIPLICATION', ' BODMAS']\n",
            "['SURDS_AND_INDICES', ' BODMAS']\n",
            "['MEAN', ' MODE', ' MEDIAN']\n",
            "['FIRSTS', ' POLITICAL_SYSTEM_OF_INDIA']\n",
            "['LCM', ' HCF']\n",
            "['LCM', ' HCF']\n",
            "['HCF', ' LCM']\n",
            "['PERFECT_SQUARE', ' LCM']\n",
            "['PROFIT_LOSS_PERCENTAGE', ' DISCOUNT_PROBLEMS']\n",
            "['PROFIT_LOSS_PERCENTAGE', ' COST_PRICE_SELLING_PRICE']\n",
            "['PROFIT_LOSS_PERCENTAGE', ' COST_PRICE_SELLING_PRICE']\n",
            "['PERCENTAGE', ' RATIO']\n",
            "['PERCENTAGE', ' SIMPLE_EQUATIONS']\n",
            "['GAMES_AND_SPORTS__CURRENT_AFFAIRS', ' MISCELLANEOUS__CURRENT_AFFAIRS']\n",
            "['FAMOUS_PERSONALITIES', ' MISCELLANEOUS__CURRENT_AFFAIRS']\n",
            "['UNIVERSE_AND_SOLAR_SYSTEM', ' MISCELLANEOUS__CURRENT_AFFAIRS']\n",
            "['MISCELLANEOUS__CURRENT_AFFAIRS', ' AWARDS']\n",
            "['MISCELLANEOUS__CURRENT_AFFAIRS', ' FIRSTS']\n",
            "['MISCELLANEOUS__CURRENT_AFFAIRS', ' ECONOMY__CURRENT_AFFAIRS']\n",
            "['AWARDS', ' MISCELLANEOUS__CURRENT_AFFAIRS']\n",
            "['MISCELLANEOUS__CURRENT_AFFAIRS', ' POLITY__CURRENT_AFFAIRS']\n",
            "['GAMES_AND_SPORTS__CURRENT_AFFAIRS', ' MISCELLANEOUS__CURRENT_AFFAIRS']\n",
            "['AWARDS', ' MISCELLANEOUS__CURRENT_AFFAIRS']\n",
            "['MISCELLANEOUS__CURRENT_AFFAIRS', ' FIRSTS']\n",
            "['FAMOUS_PERSONALITIES', ' ART_AND_CULTURE_OF_INDIA']\n",
            "['FLAGSHIP_GOVERNMENT_PROGRAMS', ' INDIA_AFTER_INDEPENDENCE__MODERN_INDIA']\n",
            "['SCIENTIFIC_DEVELOPMENTS', ' FLAGSHIP_GOVERNMENT_PROGRAMS']\n",
            "['GAMES_AND_SPORTS__CURRENT_AFFAIRS', ' GAMES_AND_SPORTS']\n",
            "['SIMPLE_EQUATIONS', ' RATIO']\n",
            "['MONUMENTS_AND_PLACES_OF_INDIA', ' WORLD_GEOGRAPHY']\n",
            "['MEAN', ' MEDIAN']\n",
            "['INDIAN_ECONOMY', ' FIRSTS']\n",
            "['DISCOUNT_PROBLEMS', ' PROFIT_LOSS_PERCENTAGE']\n",
            "['CONSTITUTION', ' POLITICAL_SYSTEM_OF_INDIA']\n",
            "['ADDITION_SUBTRACTION', ' SIMPLE_EQUATIONS']\n",
            "['INDIAN_PHYSICAL_GEOGRAPHY', ' INDIAN_PHYSICAL_GEOGRAPHY']\n",
            "['SIMPLE_EQUATIONS', ' RATIO']\n",
            "['RATIO', ' SIMPLE_EQUATIONS']\n",
            "['HCF', ' RATIO']\n",
            "['PERCENTAGE', ' RATIO']\n",
            "['SIMPLE_EQUATIONS', ' RATIO']\n",
            "['RATIO', ' AVERAGES']\n",
            "['RATIO', ' SIMPLE_EQUATIONS']\n",
            "['RATIO', ' SIMPLE_EQUATIONS']\n",
            "['RATIO', ' SIMPLE_EQUATIONS']\n",
            "['FIRSTS', ' SCIENTIFIC_DEVELOPMENTS']\n",
            "['HCF', ' LCM']\n",
            "['MODE', ' MEAN']\n",
            "['FLAGSHIP_GOVERNMENT_PROGRAMS', ' ENVIRONMENTAL_ISSUES']\n",
            "['FAMOUS_PERSONALITIES', ' POLITY__CURRENT_AFFAIRS']\n",
            "['FAMOUS_PERSONALITIES', ' INDIA_AFTER_INDEPENDENCE__MODERN_INDIA']\n",
            "['ANALOGY', ' ODD_ONE_OUT__REASONING']\n",
            "['COST_PRICE_SELLING_PRICE', ' PROFIT_LOSS_PERCENTAGE']\n",
            "['DIVISIBILITY', ' LCM']\n",
            "['ANALOGY', ' ODD_ONE_OUT__REASONING']\n",
            "['SOCIAL_AND_ECONOMIC_GEOGRAPHY_OF_INDIA_AND_WORLD', ' FLAGSHIP_GOVERNMENT_PROGRAMS']\n",
            "['SIMPLE_EQUATIONS', ' SURDS_AND_INDICES']\n",
            "['TIME_AND_WORK', ' SIMPLE_EQUATIONS']\n",
            "['MEDIAN', ' MEAN']\n",
            "['GAMES_AND_SPORTS', ' FIRSTS']\n",
            "['ANGLES', ' TRIANGLES']\n",
            "['HCF', ' LCM']\n",
            "['WORLD_GEOGRAPHY', ' INDIAN_PHYSICAL_GEOGRAPHY']\n",
            "['FLAGSHIP_GOVERNMENT_PROGRAMS', ' ENVIRONMENTAL_ISSUES']\n",
            "['PHYSICS', ' PHYSICS']\n",
            "['LCM', ' HCF']\n",
            "['GAMES_AND_SPORTS__CURRENT_AFFAIRS', ' GAMES_AND_SPORTS']\n",
            "['INDIA_AFTER_INDEPENDENCE__MODERN_INDIA', ' IMPORTANT_DATES']\n",
            "['CHEMISTRY', ' ODD_ONE_OUT__REASONING']\n",
            "['BIOLOGY', ' ODD_ONE_OUT__REASONING']\n",
            "['WORLD_GEOGRAPHY', ' ODD_ONE_OUT__REASONING']\n",
            "['ODD_ONE_OUT__REASONING', ' ANGLES']\n",
            "['ODD_TERM_IN_SERIES', ' DIVISIBILITY']\n",
            "['AWARDS', ' FAMOUS_PERSONALITIES']\n",
            "['ECONOMY__CURRENT_AFFAIRS', ' INDIAN_ECONOMY']\n",
            "['INDIAN_ECONOMY', ' ECONOMY__CURRENT_AFFAIRS']\n",
            "['FIRSTS', ' GAMES_AND_SPORTS']\n",
            "['GAMES_AND_SPORTS', ' FIRSTS']\n",
            "['POLITICAL_SYSTEM_OF_INDIA', ' CONSTITUTION']\n",
            "['CONSTITUTION', ' POLITICAL_SYSTEM_OF_INDIA']\n",
            "['FIRSTS', ' SCIENTIFIC_DEVELOPMENTS']\n",
            "['CURRENT_EVENTS_OF_NATIONAL_AND_INTERNATIONAL_IMPORTANCE', ' SCIENTIFIC_DEVELOPMENTS']\n",
            "['CONSTITUTION', ' IMPORTANT_DATES']\n",
            "['PERCENTAGE_CHANGE', ' PERCENTAGE']\n",
            "['RATIO', ' PERCENTAGE']\n",
            "['SYLLOGISM', ' UNDETERMINED']\n",
            "['LCM', ' HCF']\n",
            "['TRIANGLES', ' UNDETERMINED']\n",
            "['UNDETERMINED', ' ARRANGEMENT__PUZZLE']\n",
            "['UNDETERMINED', ' VENN_DIAGRAM']\n",
            "['CONSTITUTION', ' IMPORTANT_DATES']\n",
            "['FIRSTS', ' SCIENTIFIC_DEVELOPMENTS']\n",
            "['BIOLOGY', ' BIOLOGY']\n",
            "['UNIVERSE_AND_SOLAR_SYSTEM', ' CURRENT_EVENTS_OF_NATIONAL_AND_INTERNATIONAL_IMPORTANCE']\n",
            "['CHEMISTRY', ' BIOLOGY']\n",
            "['GAMES_AND_SPORTS', ' FIRSTS']\n",
            "['PROFIT_LOSS_PERCENTAGE', ' COST_PRICE_SELLING_PRICE']\n",
            "['BODMAS', ' ADDITION_SUBTRACTION']\n",
            "['INDIAN_LITERATURE', ' ART_AND_CULTURE_OF_INDIA']\n",
            "['CONSTITUTION', ' POLITICAL_SYSTEM_OF_INDIA']\n",
            "['SCIENTIFIC_DEVELOPMENTS', ' MONUMENTS_AND_PLACES_OF_INDIA']\n",
            "['RATIO', ' SIMPLE_EQUATIONS']\n",
            "['SCIENTIFIC_DEVELOPMENTS', ' UNIVERSE_AND_SOLAR_SYSTEM']\n",
            "['FIRSTS', ' SCIENTIFIC_DEVELOPMENTS']\n",
            "['ANGLES', ' TRIANGLES']\n",
            "['FAMOUS_PERSONALITIES', ' AWARDS']\n",
            "['GAMES_AND_SPORTS', ' GAMES_AND_SPORTS__CURRENT_AFFAIRS']\n",
            "['FIRSTS', ' CHEMISTRY']\n",
            "['AVERAGES', ' DI_TABULAR']\n",
            "['ART_AND_CULTURE_OF_INDIA', ' INDIAN_LITERATURE']\n",
            "['MONUMENTS_AND_PLACES_OF_INDIA', ' DELHI_SULTANATE']\n",
            "['BIOLOGY', ' FIRSTS']\n",
            "['FIRSTS', ' SCIENTIFIC_DEVELOPMENTS']\n",
            "['HCF', ' LCM']\n",
            "['EARTH_AND_ITS_ATMOSPHERE', ' FIRSTS']\n",
            "['LCM', ' HCF']\n",
            "['RATIO', ' SIMPLE_EQUATIONS']\n",
            "['EFFICIENCY_PROBLEM', ' TIME_AND_WORK']\n",
            "['PERCENTAGE', ' DI_TABULAR']\n",
            "['FIRSTS', ' SCIENTIFIC_DEVELOPMENTS']\n",
            "['SPEED_TIME_AND_DISTANCE', ' AVERAGE_SPEED']\n",
            "['COST_PRICE_SELLING_PRICE', ' DISCOUNT_PROBLEMS']\n",
            "['AGE_PROBLEM', ' SIMPLE_EQUATIONS']\n",
            "['UNIVERSE_AND_SOLAR_SYSTEM', ' ODD_ONE_OUT__REASONING']\n",
            "['EARTH_AND_ITS_ATMOSPHERE', ' FIRSTS']\n",
            "['SURFACE_AREA_VOLUME_OF_3D_SHAPES', ' EARTH_AND_ITS_ATMOSPHERE']\n",
            "['PHYSICS', ' UNIVERSE_AND_SOLAR_SYSTEM']\n",
            "['GAMES_AND_SPORTS', ' GAMES_AND_SPORTS__CURRENT_AFFAIRS']\n",
            "['SCIENTIFIC_DEVELOPMENTS', ' FAMOUS_PERSONALITIES', ' PHYSICS']\n",
            "['BOAT_AND_STREAM', ' AVERAGE_SPEED']\n",
            "['UNIVERSE_AND_SOLAR_SYSTEM', ' SCIENTIFIC_DEVELOPMENTS']\n",
            "['GAMES_AND_SPORTS', ' GAMES_AND_SPORTS__CURRENT_AFFAIRS']\n",
            "['CURRENT_EVENTS_OF_NATIONAL_AND_INTERNATIONAL_IMPORTANCE', ' WORLD_GEOGRAPHY']\n",
            "['PERIMETER_AREA_OF_2D_SHAPES', ' SIMPLE_EQUATIONS']\n",
            "['ENVIRONMENTAL_AND_ECOLOGY', ' ENVIRONMENTAL_ISSUES']\n",
            "['ANGLES', ' TRIANGLES']\n",
            "['IMPORTANT_DATES', ' WORLD_GEOGRAPHY']\n",
            "['STATEMENT_AND_CONCLUSION', ' SYLLOGISM']\n",
            "['FLAGSHIP_GOVERNMENT_PROGRAMS', ' CURRENT_EVENTS_OF_NATIONAL_AND_INTERNATIONAL_IMPORTANCE']\n",
            "['ODD_ONE_OUT__REASONING', ' IMPORTANT_DATES']\n",
            "['AWARDS', ' SCIENTIFIC_DEVELOPMENTS']\n",
            "['AWARDS', ' GAMES_AND_SPORTS', ' GAMES_AND_SPORTS__CURRENT_AFFAIRS']\n",
            "['DI_TABULAR', ' RATIO']\n",
            "['PERCENTAGE', ' DI_TABULAR']\n",
            "['GAMES_AND_SPORTS', ' GAMES_AND_SPORTS__CURRENT_AFFAIRS']\n",
            "['GAMES_AND_SPORTS', ' GAMES_AND_SPORTS__CURRENT_AFFAIRS']\n",
            "['MEDIAN', ' MODE']\n"
          ],
          "name": "stdout"
        }
      ]
    },
    {
      "cell_type": "code",
      "metadata": {
        "id": "F8mdtg-kntDI"
      },
      "source": [
        "for ix in range(len(DataFrame['Concepts'])):\n",
        "  z = (DataFrame['Concepts'][ix][1:-1]).split(',')\n",
        "  if len(z) >= 2:\n",
        "    DataFrame = DataFrame.drop(ix)"
      ],
      "execution_count": null,
      "outputs": []
    },
    {
      "cell_type": "code",
      "metadata": {
        "colab": {
          "base_uri": "https://localhost:8080/"
        },
        "id": "nQZ1a2dOnsyi",
        "outputId": "5b0f38ea-3f84-46ea-a2cd-8f79df760512"
      },
      "source": [
        "len(DataFrame)"
      ],
      "execution_count": null,
      "outputs": [
        {
          "output_type": "execute_result",
          "data": {
            "text/plain": [
              "31342"
            ]
          },
          "metadata": {
            "tags": []
          },
          "execution_count": 6
        }
      ]
    },
    {
      "cell_type": "code",
      "metadata": {
        "colab": {
          "base_uri": "https://localhost:8080/",
          "height": 1000
        },
        "id": "cSRxeyrjCRds",
        "outputId": "34a567dc-e6ab-411e-c3a7-cb6e0262874f"
      },
      "source": [
        "DataFrame.head(n=10)"
      ],
      "execution_count": null,
      "outputs": [
        {
          "output_type": "execute_result",
          "data": {
            "text/html": [
              "<div>\n",
              "<style scoped>\n",
              "    .dataframe tbody tr th:only-of-type {\n",
              "        vertical-align: middle;\n",
              "    }\n",
              "\n",
              "    .dataframe tbody tr th {\n",
              "        vertical-align: top;\n",
              "    }\n",
              "\n",
              "    .dataframe thead th {\n",
              "        text-align: right;\n",
              "    }\n",
              "</style>\n",
              "<table border=\"1\" class=\"dataframe\">\n",
              "  <thead>\n",
              "    <tr style=\"text-align: right;\">\n",
              "      <th></th>\n",
              "      <th>Question Id</th>\n",
              "      <th>EN Question</th>\n",
              "      <th>EN Options</th>\n",
              "      <th>EN Solution</th>\n",
              "      <th>HI Question</th>\n",
              "      <th>HI Options</th>\n",
              "      <th>HI Solution</th>\n",
              "      <th>EN Comprehension</th>\n",
              "      <th>HI Comprehension</th>\n",
              "      <th>Active</th>\n",
              "      <th>Correct Responses</th>\n",
              "      <th>Difficulty Level</th>\n",
              "      <th>Concepts</th>\n",
              "      <th>Remarks</th>\n",
              "    </tr>\n",
              "  </thead>\n",
              "  <tbody>\n",
              "    <tr>\n",
              "      <th>0</th>\n",
              "      <td>ELQB251512577Y6J4V</td>\n",
              "      <td>&lt;p&gt;A train 'B' speeding with 100 kmph crosses ...</td>\n",
              "      <td>[\"&lt;p&gt;75&lt;/p&gt;\",\"&lt;p&gt;88&lt;/p&gt;\",\"&lt;p&gt;95&lt;/p&gt;\",\"&lt;p&gt;110&lt;/...</td>\n",
              "      <td>&lt;p&gt;Short Trick:&lt;br&gt;Total distance covered in 2...</td>\n",
              "      <td>&lt;p&gt;100 किमी प्रति घंटे की गति वाली एक ट्रेन 'ब...</td>\n",
              "      <td>[\"&lt;p&gt;75&lt;/p&gt;\",\"&lt;p&gt;88&lt;/p&gt;\",\"&lt;p&gt;95&lt;/p&gt;\",\"&lt;p&gt;110&lt;/...</td>\n",
              "      <td>&lt;p&gt;शॉर्ट ट्रिक:&lt;br&gt;कुल दूरी 2 मिनट में आच्छादि...</td>\n",
              "      <td>NaN</td>\n",
              "      <td>NaN</td>\n",
              "      <td>True</td>\n",
              "      <td>[\"1\"]</td>\n",
              "      <td>3.0</td>\n",
              "      <td>[SPEED_TIME_AND_DISTANCE]</td>\n",
              "      <td>NaN</td>\n",
              "    </tr>\n",
              "    <tr>\n",
              "      <th>1</th>\n",
              "      <td>ELQB8510045971VCSG</td>\n",
              "      <td>&lt;p&gt;A car can finish a certain journey in 10 ho...</td>\n",
              "      <td>[\"&lt;p&gt;12&lt;/p&gt;\",\"&lt;p&gt;15&lt;/p&gt;\",\"&lt;p&gt;18&lt;/p&gt;\",\"&lt;p&gt;24&lt;/p&gt;\"]</td>\n",
              "      <td>&lt;p&gt;Distance covered by car = 42 ×10 = 420 km.&lt;...</td>\n",
              "      <td>&lt;p&gt;एक कार 10 घंटे में 42 किमी प्रति घंटे की रफ...</td>\n",
              "      <td>[\"&lt;p&gt;12&lt;/p&gt;\",\"&lt;p&gt;15&lt;/p&gt;\",\"&lt;p&gt;18&lt;/p&gt;\",\"&lt;p&gt;24&lt;/p&gt;\"]</td>\n",
              "      <td>&lt;p&gt;कार द्वारा कवर की गई दूरी = 42 × 10 = 420 क...</td>\n",
              "      <td>NaN</td>\n",
              "      <td>NaN</td>\n",
              "      <td>True</td>\n",
              "      <td>[\"2\"]</td>\n",
              "      <td>3.0</td>\n",
              "      <td>[SPEED_TIME_AND_DISTANCE]</td>\n",
              "      <td>NaN</td>\n",
              "    </tr>\n",
              "    <tr>\n",
              "      <th>2</th>\n",
              "      <td>ELQB6533772451Z10Y</td>\n",
              "      <td>&lt;p&gt;If the profit on selling an article for Rs....</td>\n",
              "      <td>[\"&lt;p&gt;410&lt;/p&gt;\",\"&lt;p&gt;380&lt;/p&gt;\",\"&lt;p&gt;400&lt;/p&gt;\",\"&lt;p&gt;39...</td>\n",
              "      <td>&lt;p&gt;Let C.P. of the article be Rs. x.&lt;br&gt;Accord...</td>\n",
              "      <td>&lt;p&gt;यदि 425 रुपये के लिए एक लेख बेचने पर लाभ रु...</td>\n",
              "      <td>[\"&lt;p&gt;410&lt;/p&gt;\",\"&lt;p&gt;380&lt;/p&gt;\",\"&lt;p&gt;400&lt;/p&gt;\",\"&lt;p&gt;39...</td>\n",
              "      <td>&lt;p&gt;लेख का सी. पी. पी।&lt;br&gt;प्रश्न के अनुसार।&lt;br&gt;...</td>\n",
              "      <td>NaN</td>\n",
              "      <td>NaN</td>\n",
              "      <td>True</td>\n",
              "      <td>[\"3\"]</td>\n",
              "      <td>3.0</td>\n",
              "      <td>[SIMPLE_AVERAGE]</td>\n",
              "      <td>NaN</td>\n",
              "    </tr>\n",
              "    <tr>\n",
              "      <th>3</th>\n",
              "      <td>ELQB608456610W2SCM</td>\n",
              "      <td>&lt;p&gt;The average of 7 consecutive numbers is 20....</td>\n",
              "      <td>[\"&lt;p&gt;20&lt;/p&gt;\",\"&lt;p&gt;23&lt;/p&gt;\",\"&lt;p&gt;24&lt;/p&gt;\",\"&lt;p&gt;26&lt;/p&gt;\"]</td>\n",
              "      <td>&lt;p&gt;Let the numbers be x, x + 1, x + 2,  x + 3,...</td>\n",
              "      <td>&lt;p&gt;लगातार 7 संख्याओं का औसत 20 है। इनमें से सब...</td>\n",
              "      <td>[\"&lt;p&gt;२०&lt;/p&gt;\",\"&lt;p&gt;23&lt;/p&gt;\",\"&lt;p&gt;24&lt;/p&gt;\",\"&lt;p&gt;26&lt;/p&gt;\"]</td>\n",
              "      <td>&lt;p&gt;संख्याओं को एक्स, एक्स + 1, एक्स + 2, एक्स ...</td>\n",
              "      <td>NaN</td>\n",
              "      <td>NaN</td>\n",
              "      <td>True</td>\n",
              "      <td>[\"1\"]</td>\n",
              "      <td>3.0</td>\n",
              "      <td>[SIMPLE_AVERAGE]</td>\n",
              "      <td>NaN</td>\n",
              "    </tr>\n",
              "    <tr>\n",
              "      <th>4</th>\n",
              "      <td>ELQB069724710WN9BT</td>\n",
              "      <td>&lt;p&gt;The batting average for 40 innings of a cri...</td>\n",
              "      <td>[\"&lt;p&gt;165&lt;/p&gt;\",\"&lt;p&gt;170&lt;/p&gt;\",\"&lt;p&gt;174&lt;/p&gt;\",\"&lt;p&gt;17...</td>\n",
              "      <td>&lt;p&gt;Let the highest score of cricketer be x run...</td>\n",
              "      <td>&lt;p&gt;एक क्रिकेट खिलाड़ी की 40 पारी के लिए बल्लेब...</td>\n",
              "      <td>[\"&lt;p&gt;165&lt;/p&gt;\",\"&lt;p&gt;170&lt;/p&gt;\",\"&lt;p&gt;174&lt;/p&gt;\",\"&lt;p&gt;17...</td>\n",
              "      <td>&lt;p&gt;क्रिकेटर के उच्चतम स्कोर को एक्स रन होने दे...</td>\n",
              "      <td>NaN</td>\n",
              "      <td>NaN</td>\n",
              "      <td>True</td>\n",
              "      <td>[\"2\"]</td>\n",
              "      <td>3.0</td>\n",
              "      <td>[SIMPLE_AVERAGE]</td>\n",
              "      <td>NaN</td>\n",
              "    </tr>\n",
              "    <tr>\n",
              "      <th>5</th>\n",
              "      <td>ELQB8854189324NBD0</td>\n",
              "      <td>&lt;p&gt;The average weight of A, B and C is 45 kg. ...</td>\n",
              "      <td>[\"&lt;p&gt;31&lt;/p&gt;\",\"&lt;p&gt;32&lt;/p&gt;\",\"&lt;p&gt;29.5&lt;/p&gt;\",\"&lt;p&gt;35&lt;...</td>\n",
              "      <td>&lt;p&gt;B’s weight = (A + B)’s weight + [B + C]’s w...</td>\n",
              "      <td>&lt;p&gt;ए, बी और सी का औसत वजन 45 किलोग्राम होता है...</td>\n",
              "      <td>[\"&lt;p&gt;31&lt;/p&gt;\",\"&lt;p&gt;32&lt;/p&gt;\",\"&lt;p&gt;29.5&lt;/p&gt;\",\"&lt;p&gt;35&lt;...</td>\n",
              "      <td>&lt;p&gt;बी का वजन = (ए + बी) का वजन+ [बी + सी] का व...</td>\n",
              "      <td>NaN</td>\n",
              "      <td>NaN</td>\n",
              "      <td>True</td>\n",
              "      <td>[\"0\"]</td>\n",
              "      <td>3.0</td>\n",
              "      <td>[SIMPLE_AVERAGE]</td>\n",
              "      <td>NaN</td>\n",
              "    </tr>\n",
              "    <tr>\n",
              "      <th>6</th>\n",
              "      <td>ELQB3019299627S3MC</td>\n",
              "      <td>&lt;p&gt;Fifteen movie theatres average 600 customer...</td>\n",
              "      <td>[\"&lt;p&gt;900&lt;/p&gt;\",\"&lt;p&gt;1000&lt;/p&gt;\",\"&lt;p&gt;1100&lt;/p&gt;\",\"&lt;p&gt;...</td>\n",
              "      <td>&lt;p&gt;Total number of customers in 15 movie theat...</td>\n",
              "      <td>&lt;p&gt;पंद्रह फिल्म थिएटर प्रति दिन औसतन 600 ग्राह...</td>\n",
              "      <td>[\"&lt;p&gt;900&lt;/p&gt;\",\"&lt;p&gt;१०००&lt;/p&gt;\",\"&lt;p&gt;1100&lt;/p&gt;\",\"&lt;p&gt;...</td>\n",
              "      <td>&lt;p&gt;15 मूवी थिएटरों में ग्राहकों की कुल संख्या ...</td>\n",
              "      <td>NaN</td>\n",
              "      <td>NaN</td>\n",
              "      <td>True</td>\n",
              "      <td>[\"1\"]</td>\n",
              "      <td>3.0</td>\n",
              "      <td>[SIMPLE_AVERAGE]</td>\n",
              "      <td>NaN</td>\n",
              "    </tr>\n",
              "    <tr>\n",
              "      <th>7</th>\n",
              "      <td>ELQB216437525PAVB3</td>\n",
              "      <td>&lt;p&gt;Rs.2420 were divided among A, B, C so that ...</td>\n",
              "      <td>[\"&lt;p&gt;680&lt;/p&gt;\",\"&lt;p&gt;800&lt;/p&gt;\",\"&lt;p&gt;900&lt;/p&gt;\",\"&lt;p&gt;95...</td>\n",
              "      <td>&lt;p&gt;A : B = 5 : 4 = 45 : 36&lt;br&gt;B : C = 9 : 10 =...</td>\n",
              "      <td>&lt;p&gt;2420 रुपये ए, बी, सी के बीच विभाजित किए गए ...</td>\n",
              "      <td>[\"&lt;p&gt;680&lt;/p&gt;\",\"&lt;p&gt;८००&lt;/p&gt;\",\"&lt;p&gt;900&lt;/p&gt;\",\"&lt;p&gt;95...</td>\n",
              "      <td>&lt;p&gt;ए: बी = 5:4 = 45:36&lt;br&gt;बी: सी = 9:10 = 36:4...</td>\n",
              "      <td>NaN</td>\n",
              "      <td>NaN</td>\n",
              "      <td>True</td>\n",
              "      <td>[\"1\"]</td>\n",
              "      <td>3.0</td>\n",
              "      <td>[RATIO]</td>\n",
              "      <td>NaN</td>\n",
              "    </tr>\n",
              "    <tr>\n",
              "      <th>8</th>\n",
              "      <td>ELQB017071963I0W6Q</td>\n",
              "      <td>&lt;p&gt;A watch dealer pays 10% customs duty on a w...</td>\n",
              "      <td>[\"&lt;p&gt;950&lt;/p&gt;\",\"&lt;p&gt;800&lt;/p&gt;\",\"&lt;p&gt;880&lt;/p&gt;\",\"&lt;p&gt;66...</td>\n",
              "      <td>&lt;p&gt;A.T.Q:&lt;br&gt;Actual C.P. of watch (including c...</td>\n",
              "      <td>&lt;p&gt;एक घड़ी डीलर एक घड़ी पर 10% सीमा शुल्क का भ...</td>\n",
              "      <td>[\"&lt;p&gt;950&lt;/p&gt;\",\"&lt;p&gt;८००&lt;/p&gt;\",\"&lt;p&gt;880&lt;/p&gt;\",\"&lt;p&gt;66...</td>\n",
              "      <td>&lt;p&gt;A.T.Q:&lt;br&gt;घड़ी की वास्तविक सीपी (सीमा शुल्क...</td>\n",
              "      <td>NaN</td>\n",
              "      <td>NaN</td>\n",
              "      <td>True</td>\n",
              "      <td>[\"2\"]</td>\n",
              "      <td>3.0</td>\n",
              "      <td>[PROFIT_LOSS_PERCENTAGE]</td>\n",
              "      <td>NaN</td>\n",
              "    </tr>\n",
              "    <tr>\n",
              "      <th>9</th>\n",
              "      <td>ELQB6718515119AFCT</td>\n",
              "      <td>&lt;p&gt;A and B earn in the ratio 2 : 1. They spend...</td>\n",
              "      <td>[\"&lt;p&gt;7000&lt;/p&gt;\",\"&lt;p&gt;14000&lt;/p&gt;\",\"&lt;p&gt;5000&lt;/p&gt;\",\"&lt;...</td>\n",
              "      <td>&lt;p&gt;Let the incomes of A and B be Rs. 2x and Rs...</td>\n",
              "      <td>&lt;p&gt;ए और बी अनुपात 2:1 में कमाते हैं। वे अनुपात...</td>\n",
              "      <td>[\"&lt;p&gt;7000&lt;/p&gt;\",\"&lt;p&gt;14000&lt;/p&gt;\",\"&lt;p&gt;5000&lt;/p&gt;\",\"&lt;...</td>\n",
              "      <td>&lt;p&gt;ए और बी की आय क्रमशः 2x और रुपये x हो और उन...</td>\n",
              "      <td>NaN</td>\n",
              "      <td>NaN</td>\n",
              "      <td>True</td>\n",
              "      <td>[\"0\"]</td>\n",
              "      <td>3.0</td>\n",
              "      <td>[RATIO]</td>\n",
              "      <td>NaN</td>\n",
              "    </tr>\n",
              "  </tbody>\n",
              "</table>\n",
              "</div>"
            ],
            "text/plain": [
              "          Question Id  ... Remarks\n",
              "0  ELQB251512577Y6J4V  ...     NaN\n",
              "1  ELQB8510045971VCSG  ...     NaN\n",
              "2  ELQB6533772451Z10Y  ...     NaN\n",
              "3  ELQB608456610W2SCM  ...     NaN\n",
              "4  ELQB069724710WN9BT  ...     NaN\n",
              "5  ELQB8854189324NBD0  ...     NaN\n",
              "6  ELQB3019299627S3MC  ...     NaN\n",
              "7  ELQB216437525PAVB3  ...     NaN\n",
              "8  ELQB017071963I0W6Q  ...     NaN\n",
              "9  ELQB6718515119AFCT  ...     NaN\n",
              "\n",
              "[10 rows x 14 columns]"
            ]
          },
          "metadata": {
            "tags": []
          },
          "execution_count": 7
        }
      ]
    },
    {
      "cell_type": "code",
      "metadata": {
        "id": "PqVfqrLRPXpe"
      },
      "source": [
        "Mapping_of_Topics = pd.read_csv(\"/content/concept mapping.csv\")"
      ],
      "execution_count": null,
      "outputs": []
    },
    {
      "cell_type": "code",
      "metadata": {
        "id": "8ebzl9JrQ8OY"
      },
      "source": [
        "Concept_to_Topic = defaultdict(list)\n",
        "cnt = 0\n",
        "for id,row in Mapping_of_Topics.iterrows():\n",
        "  Value = row['topic']\n",
        "  Key = row['concept']\n",
        "  if Value not in Concept_to_Topic[Key]:\n",
        "    Concept_to_Topic[Key].append(Value)"
      ],
      "execution_count": null,
      "outputs": []
    },
    {
      "cell_type": "code",
      "metadata": {
        "id": "w3TRtnfcbwuo"
      },
      "source": [
        "Concept_to_Topic[\"Undetermined\"].append(\"Undetermined\")"
      ],
      "execution_count": null,
      "outputs": []
    },
    {
      "cell_type": "code",
      "metadata": {
        "id": "B8JnS2w9Tw1P"
      },
      "source": [
        "Topics = []"
      ],
      "execution_count": null,
      "outputs": []
    },
    {
      "cell_type": "code",
      "metadata": {
        "colab": {
          "base_uri": "https://localhost:8080/"
        },
        "id": "ZEGcvaYbru40",
        "outputId": "5b484c56-660b-421f-ffba-72e839fa9c88"
      },
      "source": [
        "for id,row in DataFrame.iterrows():\n",
        "  Concept = str(row['Concepts'][1:-1])\n",
        "  print(Concept)\n",
        "  break"
      ],
      "execution_count": null,
      "outputs": [
        {
          "output_type": "stream",
          "text": [
            "SPEED_TIME_AND_DISTANCE\n"
          ],
          "name": "stdout"
        }
      ]
    },
    {
      "cell_type": "code",
      "metadata": {
        "id": "GVi2HWW7XXf8",
        "colab": {
          "base_uri": "https://localhost:8080/"
        },
        "outputId": "ce6afa9e-7b5c-41e5-e3c8-e94f7be79428"
      },
      "source": [
        "cnt  = 0\n",
        "for id,row in DataFrame.iterrows():\n",
        "  Concept = str(row['Concepts'][1:-1])\n",
        "  if Concept in Concept_to_Topic.keys():\n",
        "    Topics.append(str(Concept_to_Topic[Concept])[1:-1])\n",
        "  else:\n",
        "    print(Concept)\n",
        "    Topics.append(Concept)\n",
        "    cnt += 1"
      ],
      "execution_count": null,
      "outputs": [
        {
          "output_type": "stream",
          "text": [
            "REVOLT_OF_1857__MODERN_INDIA\n"
          ],
          "name": "stdout"
        }
      ]
    },
    {
      "cell_type": "code",
      "metadata": {
        "colab": {
          "base_uri": "https://localhost:8080/"
        },
        "id": "mtRU3N9EUkAK",
        "outputId": "88a367ab-5cc1-49c2-be43-de69ed8c415b"
      },
      "source": [
        "len(Topics)"
      ],
      "execution_count": null,
      "outputs": [
        {
          "output_type": "execute_result",
          "data": {
            "text/plain": [
              "31342"
            ]
          },
          "metadata": {
            "tags": []
          },
          "execution_count": 18
        }
      ]
    },
    {
      "cell_type": "code",
      "metadata": {
        "id": "m8CERbNNTRSR"
      },
      "source": [
        "DataFrame['Topics'] = Topics"
      ],
      "execution_count": null,
      "outputs": []
    },
    {
      "cell_type": "code",
      "metadata": {
        "colab": {
          "base_uri": "https://localhost:8080/",
          "height": 1000
        },
        "id": "mSLBY-zcsV3S",
        "outputId": "29368dac-9603-44b7-b9db-d55edc59cef5"
      },
      "source": [
        "DataFrame.head(n=30)"
      ],
      "execution_count": null,
      "outputs": [
        {
          "output_type": "execute_result",
          "data": {
            "text/html": [
              "<div>\n",
              "<style scoped>\n",
              "    .dataframe tbody tr th:only-of-type {\n",
              "        vertical-align: middle;\n",
              "    }\n",
              "\n",
              "    .dataframe tbody tr th {\n",
              "        vertical-align: top;\n",
              "    }\n",
              "\n",
              "    .dataframe thead th {\n",
              "        text-align: right;\n",
              "    }\n",
              "</style>\n",
              "<table border=\"1\" class=\"dataframe\">\n",
              "  <thead>\n",
              "    <tr style=\"text-align: right;\">\n",
              "      <th></th>\n",
              "      <th>Question Id</th>\n",
              "      <th>EN Question</th>\n",
              "      <th>EN Options</th>\n",
              "      <th>EN Solution</th>\n",
              "      <th>HI Question</th>\n",
              "      <th>HI Options</th>\n",
              "      <th>HI Solution</th>\n",
              "      <th>EN Comprehension</th>\n",
              "      <th>HI Comprehension</th>\n",
              "      <th>Active</th>\n",
              "      <th>Correct Responses</th>\n",
              "      <th>Difficulty Level</th>\n",
              "      <th>Concepts</th>\n",
              "      <th>Remarks</th>\n",
              "      <th>Topics</th>\n",
              "    </tr>\n",
              "  </thead>\n",
              "  <tbody>\n",
              "    <tr>\n",
              "      <th>0</th>\n",
              "      <td>ELQB251512577Y6J4V</td>\n",
              "      <td>&lt;p&gt;A train 'B' speeding with 100 kmph crosses ...</td>\n",
              "      <td>[\"&lt;p&gt;75&lt;/p&gt;\",\"&lt;p&gt;88&lt;/p&gt;\",\"&lt;p&gt;95&lt;/p&gt;\",\"&lt;p&gt;110&lt;/...</td>\n",
              "      <td>&lt;p&gt;Short Trick:&lt;br&gt;Total distance covered in 2...</td>\n",
              "      <td>&lt;p&gt;100 किमी प्रति घंटे की गति वाली एक ट्रेन 'ब...</td>\n",
              "      <td>[\"&lt;p&gt;75&lt;/p&gt;\",\"&lt;p&gt;88&lt;/p&gt;\",\"&lt;p&gt;95&lt;/p&gt;\",\"&lt;p&gt;110&lt;/...</td>\n",
              "      <td>&lt;p&gt;शॉर्ट ट्रिक:&lt;br&gt;कुल दूरी 2 मिनट में आच्छादि...</td>\n",
              "      <td>NaN</td>\n",
              "      <td>NaN</td>\n",
              "      <td>True</td>\n",
              "      <td>[\"1\"]</td>\n",
              "      <td>3.0</td>\n",
              "      <td>[SPEED_TIME_AND_DISTANCE]</td>\n",
              "      <td>NaN</td>\n",
              "      <td>'TIME_AND_DISTANCE'</td>\n",
              "    </tr>\n",
              "    <tr>\n",
              "      <th>1</th>\n",
              "      <td>ELQB8510045971VCSG</td>\n",
              "      <td>&lt;p&gt;A car can finish a certain journey in 10 ho...</td>\n",
              "      <td>[\"&lt;p&gt;12&lt;/p&gt;\",\"&lt;p&gt;15&lt;/p&gt;\",\"&lt;p&gt;18&lt;/p&gt;\",\"&lt;p&gt;24&lt;/p&gt;\"]</td>\n",
              "      <td>&lt;p&gt;Distance covered by car = 42 ×10 = 420 km.&lt;...</td>\n",
              "      <td>&lt;p&gt;एक कार 10 घंटे में 42 किमी प्रति घंटे की रफ...</td>\n",
              "      <td>[\"&lt;p&gt;12&lt;/p&gt;\",\"&lt;p&gt;15&lt;/p&gt;\",\"&lt;p&gt;18&lt;/p&gt;\",\"&lt;p&gt;24&lt;/p&gt;\"]</td>\n",
              "      <td>&lt;p&gt;कार द्वारा कवर की गई दूरी = 42 × 10 = 420 क...</td>\n",
              "      <td>NaN</td>\n",
              "      <td>NaN</td>\n",
              "      <td>True</td>\n",
              "      <td>[\"2\"]</td>\n",
              "      <td>3.0</td>\n",
              "      <td>[SPEED_TIME_AND_DISTANCE]</td>\n",
              "      <td>NaN</td>\n",
              "      <td>'TIME_AND_DISTANCE'</td>\n",
              "    </tr>\n",
              "    <tr>\n",
              "      <th>2</th>\n",
              "      <td>ELQB6533772451Z10Y</td>\n",
              "      <td>&lt;p&gt;If the profit on selling an article for Rs....</td>\n",
              "      <td>[\"&lt;p&gt;410&lt;/p&gt;\",\"&lt;p&gt;380&lt;/p&gt;\",\"&lt;p&gt;400&lt;/p&gt;\",\"&lt;p&gt;39...</td>\n",
              "      <td>&lt;p&gt;Let C.P. of the article be Rs. x.&lt;br&gt;Accord...</td>\n",
              "      <td>&lt;p&gt;यदि 425 रुपये के लिए एक लेख बेचने पर लाभ रु...</td>\n",
              "      <td>[\"&lt;p&gt;410&lt;/p&gt;\",\"&lt;p&gt;380&lt;/p&gt;\",\"&lt;p&gt;400&lt;/p&gt;\",\"&lt;p&gt;39...</td>\n",
              "      <td>&lt;p&gt;लेख का सी. पी. पी।&lt;br&gt;प्रश्न के अनुसार।&lt;br&gt;...</td>\n",
              "      <td>NaN</td>\n",
              "      <td>NaN</td>\n",
              "      <td>True</td>\n",
              "      <td>[\"3\"]</td>\n",
              "      <td>3.0</td>\n",
              "      <td>[SIMPLE_AVERAGE]</td>\n",
              "      <td>NaN</td>\n",
              "      <td>'AVERAGES'</td>\n",
              "    </tr>\n",
              "    <tr>\n",
              "      <th>3</th>\n",
              "      <td>ELQB608456610W2SCM</td>\n",
              "      <td>&lt;p&gt;The average of 7 consecutive numbers is 20....</td>\n",
              "      <td>[\"&lt;p&gt;20&lt;/p&gt;\",\"&lt;p&gt;23&lt;/p&gt;\",\"&lt;p&gt;24&lt;/p&gt;\",\"&lt;p&gt;26&lt;/p&gt;\"]</td>\n",
              "      <td>&lt;p&gt;Let the numbers be x, x + 1, x + 2,  x + 3,...</td>\n",
              "      <td>&lt;p&gt;लगातार 7 संख्याओं का औसत 20 है। इनमें से सब...</td>\n",
              "      <td>[\"&lt;p&gt;२०&lt;/p&gt;\",\"&lt;p&gt;23&lt;/p&gt;\",\"&lt;p&gt;24&lt;/p&gt;\",\"&lt;p&gt;26&lt;/p&gt;\"]</td>\n",
              "      <td>&lt;p&gt;संख्याओं को एक्स, एक्स + 1, एक्स + 2, एक्स ...</td>\n",
              "      <td>NaN</td>\n",
              "      <td>NaN</td>\n",
              "      <td>True</td>\n",
              "      <td>[\"1\"]</td>\n",
              "      <td>3.0</td>\n",
              "      <td>[SIMPLE_AVERAGE]</td>\n",
              "      <td>NaN</td>\n",
              "      <td>'AVERAGES'</td>\n",
              "    </tr>\n",
              "    <tr>\n",
              "      <th>4</th>\n",
              "      <td>ELQB069724710WN9BT</td>\n",
              "      <td>&lt;p&gt;The batting average for 40 innings of a cri...</td>\n",
              "      <td>[\"&lt;p&gt;165&lt;/p&gt;\",\"&lt;p&gt;170&lt;/p&gt;\",\"&lt;p&gt;174&lt;/p&gt;\",\"&lt;p&gt;17...</td>\n",
              "      <td>&lt;p&gt;Let the highest score of cricketer be x run...</td>\n",
              "      <td>&lt;p&gt;एक क्रिकेट खिलाड़ी की 40 पारी के लिए बल्लेब...</td>\n",
              "      <td>[\"&lt;p&gt;165&lt;/p&gt;\",\"&lt;p&gt;170&lt;/p&gt;\",\"&lt;p&gt;174&lt;/p&gt;\",\"&lt;p&gt;17...</td>\n",
              "      <td>&lt;p&gt;क्रिकेटर के उच्चतम स्कोर को एक्स रन होने दे...</td>\n",
              "      <td>NaN</td>\n",
              "      <td>NaN</td>\n",
              "      <td>True</td>\n",
              "      <td>[\"2\"]</td>\n",
              "      <td>3.0</td>\n",
              "      <td>[SIMPLE_AVERAGE]</td>\n",
              "      <td>NaN</td>\n",
              "      <td>'AVERAGES'</td>\n",
              "    </tr>\n",
              "    <tr>\n",
              "      <th>5</th>\n",
              "      <td>ELQB8854189324NBD0</td>\n",
              "      <td>&lt;p&gt;The average weight of A, B and C is 45 kg. ...</td>\n",
              "      <td>[\"&lt;p&gt;31&lt;/p&gt;\",\"&lt;p&gt;32&lt;/p&gt;\",\"&lt;p&gt;29.5&lt;/p&gt;\",\"&lt;p&gt;35&lt;...</td>\n",
              "      <td>&lt;p&gt;B’s weight = (A + B)’s weight + [B + C]’s w...</td>\n",
              "      <td>&lt;p&gt;ए, बी और सी का औसत वजन 45 किलोग्राम होता है...</td>\n",
              "      <td>[\"&lt;p&gt;31&lt;/p&gt;\",\"&lt;p&gt;32&lt;/p&gt;\",\"&lt;p&gt;29.5&lt;/p&gt;\",\"&lt;p&gt;35&lt;...</td>\n",
              "      <td>&lt;p&gt;बी का वजन = (ए + बी) का वजन+ [बी + सी] का व...</td>\n",
              "      <td>NaN</td>\n",
              "      <td>NaN</td>\n",
              "      <td>True</td>\n",
              "      <td>[\"0\"]</td>\n",
              "      <td>3.0</td>\n",
              "      <td>[SIMPLE_AVERAGE]</td>\n",
              "      <td>NaN</td>\n",
              "      <td>'AVERAGES'</td>\n",
              "    </tr>\n",
              "    <tr>\n",
              "      <th>6</th>\n",
              "      <td>ELQB3019299627S3MC</td>\n",
              "      <td>&lt;p&gt;Fifteen movie theatres average 600 customer...</td>\n",
              "      <td>[\"&lt;p&gt;900&lt;/p&gt;\",\"&lt;p&gt;1000&lt;/p&gt;\",\"&lt;p&gt;1100&lt;/p&gt;\",\"&lt;p&gt;...</td>\n",
              "      <td>&lt;p&gt;Total number of customers in 15 movie theat...</td>\n",
              "      <td>&lt;p&gt;पंद्रह फिल्म थिएटर प्रति दिन औसतन 600 ग्राह...</td>\n",
              "      <td>[\"&lt;p&gt;900&lt;/p&gt;\",\"&lt;p&gt;१०००&lt;/p&gt;\",\"&lt;p&gt;1100&lt;/p&gt;\",\"&lt;p&gt;...</td>\n",
              "      <td>&lt;p&gt;15 मूवी थिएटरों में ग्राहकों की कुल संख्या ...</td>\n",
              "      <td>NaN</td>\n",
              "      <td>NaN</td>\n",
              "      <td>True</td>\n",
              "      <td>[\"1\"]</td>\n",
              "      <td>3.0</td>\n",
              "      <td>[SIMPLE_AVERAGE]</td>\n",
              "      <td>NaN</td>\n",
              "      <td>'AVERAGES'</td>\n",
              "    </tr>\n",
              "    <tr>\n",
              "      <th>7</th>\n",
              "      <td>ELQB216437525PAVB3</td>\n",
              "      <td>&lt;p&gt;Rs.2420 were divided among A, B, C so that ...</td>\n",
              "      <td>[\"&lt;p&gt;680&lt;/p&gt;\",\"&lt;p&gt;800&lt;/p&gt;\",\"&lt;p&gt;900&lt;/p&gt;\",\"&lt;p&gt;95...</td>\n",
              "      <td>&lt;p&gt;A : B = 5 : 4 = 45 : 36&lt;br&gt;B : C = 9 : 10 =...</td>\n",
              "      <td>&lt;p&gt;2420 रुपये ए, बी, सी के बीच विभाजित किए गए ...</td>\n",
              "      <td>[\"&lt;p&gt;680&lt;/p&gt;\",\"&lt;p&gt;८००&lt;/p&gt;\",\"&lt;p&gt;900&lt;/p&gt;\",\"&lt;p&gt;95...</td>\n",
              "      <td>&lt;p&gt;ए: बी = 5:4 = 45:36&lt;br&gt;बी: सी = 9:10 = 36:4...</td>\n",
              "      <td>NaN</td>\n",
              "      <td>NaN</td>\n",
              "      <td>True</td>\n",
              "      <td>[\"1\"]</td>\n",
              "      <td>3.0</td>\n",
              "      <td>[RATIO]</td>\n",
              "      <td>NaN</td>\n",
              "      <td>'RATIO_AND_PROPORTION'</td>\n",
              "    </tr>\n",
              "    <tr>\n",
              "      <th>8</th>\n",
              "      <td>ELQB017071963I0W6Q</td>\n",
              "      <td>&lt;p&gt;A watch dealer pays 10% customs duty on a w...</td>\n",
              "      <td>[\"&lt;p&gt;950&lt;/p&gt;\",\"&lt;p&gt;800&lt;/p&gt;\",\"&lt;p&gt;880&lt;/p&gt;\",\"&lt;p&gt;66...</td>\n",
              "      <td>&lt;p&gt;A.T.Q:&lt;br&gt;Actual C.P. of watch (including c...</td>\n",
              "      <td>&lt;p&gt;एक घड़ी डीलर एक घड़ी पर 10% सीमा शुल्क का भ...</td>\n",
              "      <td>[\"&lt;p&gt;950&lt;/p&gt;\",\"&lt;p&gt;८००&lt;/p&gt;\",\"&lt;p&gt;880&lt;/p&gt;\",\"&lt;p&gt;66...</td>\n",
              "      <td>&lt;p&gt;A.T.Q:&lt;br&gt;घड़ी की वास्तविक सीपी (सीमा शुल्क...</td>\n",
              "      <td>NaN</td>\n",
              "      <td>NaN</td>\n",
              "      <td>True</td>\n",
              "      <td>[\"2\"]</td>\n",
              "      <td>3.0</td>\n",
              "      <td>[PROFIT_LOSS_PERCENTAGE]</td>\n",
              "      <td>NaN</td>\n",
              "      <td>'PROFIT_AND_LOSS'</td>\n",
              "    </tr>\n",
              "    <tr>\n",
              "      <th>9</th>\n",
              "      <td>ELQB6718515119AFCT</td>\n",
              "      <td>&lt;p&gt;A and B earn in the ratio 2 : 1. They spend...</td>\n",
              "      <td>[\"&lt;p&gt;7000&lt;/p&gt;\",\"&lt;p&gt;14000&lt;/p&gt;\",\"&lt;p&gt;5000&lt;/p&gt;\",\"&lt;...</td>\n",
              "      <td>&lt;p&gt;Let the incomes of A and B be Rs. 2x and Rs...</td>\n",
              "      <td>&lt;p&gt;ए और बी अनुपात 2:1 में कमाते हैं। वे अनुपात...</td>\n",
              "      <td>[\"&lt;p&gt;7000&lt;/p&gt;\",\"&lt;p&gt;14000&lt;/p&gt;\",\"&lt;p&gt;5000&lt;/p&gt;\",\"&lt;...</td>\n",
              "      <td>&lt;p&gt;ए और बी की आय क्रमशः 2x और रुपये x हो और उन...</td>\n",
              "      <td>NaN</td>\n",
              "      <td>NaN</td>\n",
              "      <td>True</td>\n",
              "      <td>[\"0\"]</td>\n",
              "      <td>3.0</td>\n",
              "      <td>[RATIO]</td>\n",
              "      <td>NaN</td>\n",
              "      <td>'RATIO_AND_PROPORTION'</td>\n",
              "    </tr>\n",
              "    <tr>\n",
              "      <th>10</th>\n",
              "      <td>ELQB836366200WQVQ1</td>\n",
              "      <td>&lt;p&gt;The marked price of an article is 30% highe...</td>\n",
              "      <td>[\"&lt;p&gt;17&lt;/p&gt;\",\"&lt;p&gt;20&lt;/p&gt;\",\"&lt;p&gt;19&lt;/p&gt;\",\"&lt;p&gt;15&lt;/p&gt;\"]</td>\n",
              "      <td>&lt;p&gt;Let the C.P. of article be Rs. 100.&lt;br&gt;∴ It...</td>\n",
              "      <td>&lt;p&gt;एक लेख की चिह्नित कीमत लागत मूल्य से 30% अध...</td>\n",
              "      <td>[\"&lt;p&gt;17&lt;/p&gt;\",\"&lt;p&gt;२०&lt;/p&gt;\",\"&lt;p&gt;19&lt;/p&gt;\",\"&lt;p&gt;15&lt;/p&gt;\"]</td>\n",
              "      <td>&lt;p&gt;लेख का सीपी 100 रुपये होने दें।&lt;br&gt;∴ इसकी च...</td>\n",
              "      <td>NaN</td>\n",
              "      <td>NaN</td>\n",
              "      <td>True</td>\n",
              "      <td>[\"0\"]</td>\n",
              "      <td>3.0</td>\n",
              "      <td>[PROFIT_LOSS_PERCENTAGE]</td>\n",
              "      <td>NaN</td>\n",
              "      <td>'PROFIT_AND_LOSS'</td>\n",
              "    </tr>\n",
              "    <tr>\n",
              "      <th>11</th>\n",
              "      <td>ELQB823183454TYGTL</td>\n",
              "      <td>&lt;p&gt;A man does double the work done by a boy in...</td>\n",
              "      <td>[\"&lt;p&gt;4&lt;/p&gt;\",\"&lt;p&gt;16&lt;/p&gt;\",\"&lt;p&gt;7 (3/11)&lt;/p&gt;\",\"&lt;p&gt;...</td>\n",
              "      <td>&lt;p&gt;According to the question,&lt;br&gt;1 man = 2 boy...</td>\n",
              "      <td>&lt;p&gt;एक आदमी एक ही समय में लड़के द्वारा किए गए क...</td>\n",
              "      <td>[\"&lt;p&gt;४&lt;/p&gt;\",\"&lt;p&gt;16&lt;/p&gt;\",\"&lt;p&gt;7 (3/11)&lt;/p&gt;\",\"&lt;p&gt;...</td>\n",
              "      <td>&lt;p&gt;प्रश्न के अनुसार,&lt;br&gt;1 आदमी = 2 लड़के&lt;br&gt;∴ ...</td>\n",
              "      <td>NaN</td>\n",
              "      <td>NaN</td>\n",
              "      <td>True</td>\n",
              "      <td>[\"1\"]</td>\n",
              "      <td>3.0</td>\n",
              "      <td>[TIME_AND_WORK]</td>\n",
              "      <td>NaN</td>\n",
              "      <td>'TIME_AND_WORK'</td>\n",
              "    </tr>\n",
              "    <tr>\n",
              "      <th>12</th>\n",
              "      <td>ELQB6385214528U9WC</td>\n",
              "      <td>&lt;p&gt;A water tap fills a tub in 'p' hours and a ...</td>\n",
              "      <td>[\"&lt;p&gt;1/r = 1/p + 1/ q&lt;/p&gt;\",\"&lt;p&gt;1/r = 1/p - 1/ ...</td>\n",
              "      <td>&lt;p&gt;A water tap fills a tub in 'p' hours, then&lt;...</td>\n",
              "      <td>&lt;p&gt;एक पानी का नल 'पी' घंटे में एक टब भरता है औ...</td>\n",
              "      <td>[\"&lt;p&gt;1/आर = 1/पी + 1/ q&lt;/p&gt;\",\"&lt;p&gt;1/आर = 1/पी -...</td>\n",
              "      <td>&lt;p&gt;एक पानी का नल 'पी' घंटे में एक टब भरता है, ...</td>\n",
              "      <td>NaN</td>\n",
              "      <td>NaN</td>\n",
              "      <td>True</td>\n",
              "      <td>[\"1\"]</td>\n",
              "      <td>3.0</td>\n",
              "      <td>[PIPE_AND_CISTERN]</td>\n",
              "      <td>NaN</td>\n",
              "      <td>'TIME_AND_WORK'</td>\n",
              "    </tr>\n",
              "    <tr>\n",
              "      <th>13</th>\n",
              "      <td>ELQB111619103CREJP</td>\n",
              "      <td>&lt;p&gt;In a division sum, the divisor 'd' is 10 ti...</td>\n",
              "      <td>[\"&lt;p&gt;5042&lt;/p&gt;\",\"&lt;p&gt;5328&lt;/p&gt;\",\"&lt;p&gt;5336&lt;br&gt;&lt;/p&gt;\"...</td>\n",
              "      <td>&lt;p&gt;We have,&lt;br&gt;Dividend = Divisor × quotient +...</td>\n",
              "      <td>&lt;p&gt;एक विभाजन राशि में, भाजक 'd' भागफल 'q' का 1...</td>\n",
              "      <td>[\"&lt;p&gt;5042&lt;/p&gt;\",\"&lt;p&gt;5328&lt;/p&gt;\",\"&lt;p&gt;5336&lt;br&gt;&lt;/p&gt;\"...</td>\n",
              "      <td>&lt;p&gt;हमारे पास है,&lt;br&gt;लाभांश = विभाजक × भागफल + ...</td>\n",
              "      <td>NaN</td>\n",
              "      <td>NaN</td>\n",
              "      <td>True</td>\n",
              "      <td>[\"2\"]</td>\n",
              "      <td>3.0</td>\n",
              "      <td>[DIVISIBILITY_PROBLEMS]</td>\n",
              "      <td>NaN</td>\n",
              "      <td>'PROBABILITY'</td>\n",
              "    </tr>\n",
              "    <tr>\n",
              "      <th>14</th>\n",
              "      <td>ELQB854644323JW51U</td>\n",
              "      <td>&lt;p&gt;If the sum of the digits of a three digit n...</td>\n",
              "      <td>[\"&lt;p&gt;3 only&lt;br&gt;&lt;/p&gt;\",\"&lt;p&gt;9 only&lt;br&gt;&lt;/p&gt;\",\"&lt;p&gt;&lt;...</td>\n",
              "      <td>&lt;p&gt;Let a, b and c be the digits of three digit...</td>\n",
              "      <td>&lt;p&gt;यदि तीन अंकों की संख्या के अंकों का योग उस ...</td>\n",
              "      <td>[\"&lt;p&gt;केवल 3&lt;br&gt;&lt;/p&gt;\",\"&lt;p&gt;केवल 9&lt;br&gt;&lt;/p&gt;\",\"&lt;p&gt;&lt;...</td>\n",
              "      <td>&lt;p&gt;ए, बी और सी को तीन अंकों की संख्या के अंक ह...</td>\n",
              "      <td>NaN</td>\n",
              "      <td>NaN</td>\n",
              "      <td>True</td>\n",
              "      <td>[\"2\"]</td>\n",
              "      <td>3.0</td>\n",
              "      <td>[DIVISIBILITY_PROBLEMS]</td>\n",
              "      <td>NaN</td>\n",
              "      <td>'PROBABILITY'</td>\n",
              "    </tr>\n",
              "    <tr>\n",
              "      <th>15</th>\n",
              "      <td>ELQB320526874WYO8S</td>\n",
              "      <td>&lt;p&gt;A person, who can row at 8kmph in still wat...</td>\n",
              "      <td>[\"&lt;p&gt;5/3kmph&lt;/p&gt;\",\"&lt;p&gt;6/5kmph&lt;br&gt;&lt;/p&gt;\",\"&lt;p&gt;7/3...</td>\n",
              "      <td>&lt;p&gt;Let the speed of the current be x kmph&lt;br&gt;T...</td>\n",
              "      <td>&lt;p&gt;एक व्यक्ति, जो अभी भी पानी में 8kmph पर पंक...</td>\n",
              "      <td>[\"&lt;p&gt;5/3 किमी प्रति घंटा&lt;/p&gt;\",\"&lt;p&gt;6/5 किमी प्र...</td>\n",
              "      <td>&lt;p&gt;वर्तमान की गति x kmph हो&lt;br&gt;गति अपस्ट्रीम =...</td>\n",
              "      <td>NaN</td>\n",
              "      <td>NaN</td>\n",
              "      <td>True</td>\n",
              "      <td>[\"3\"]</td>\n",
              "      <td>3.0</td>\n",
              "      <td>[BOAT_AND_STREAM]</td>\n",
              "      <td>NaN</td>\n",
              "      <td>'TIME_AND_DISTANCE'</td>\n",
              "    </tr>\n",
              "    <tr>\n",
              "      <th>16</th>\n",
              "      <td>ELQB0051482226YL04</td>\n",
              "      <td>&lt;p&gt;A person has left an amount of Rs.1,20,000 ...</td>\n",
              "      <td>[\"&lt;p&gt;&lt;br&gt;Rs.48,800&lt;/p&gt;\",\"&lt;p&gt;&lt;br&gt;Rs.57,600&lt;/p&gt;\"...</td>\n",
              "      <td>&lt;p&gt;let the amount of money younger will get = ...</td>\n",
              "      <td>&lt;p&gt;एक व्यक्ति ने 14 साल और 12 साल की उम्र के अ...</td>\n",
              "      <td>[\"&lt;p&gt;&lt;br&gt;48,800 रुपये&lt;/p&gt;\",\"&lt;p&gt;&lt;br&gt;57,600 रुपय...</td>\n",
              "      <td>&lt;p&gt;छोटी राशि की राशि को = x मिलेगा&lt;br&gt;और बड़ी ...</td>\n",
              "      <td>NaN</td>\n",
              "      <td>NaN</td>\n",
              "      <td>True</td>\n",
              "      <td>[\"1\"]</td>\n",
              "      <td>3.0</td>\n",
              "      <td>[SIMPLE_INTEREST]</td>\n",
              "      <td>NaN</td>\n",
              "      <td>'INTEREST', 'SIMPLE_AND_COMPOUND_INTEREST'</td>\n",
              "    </tr>\n",
              "    <tr>\n",
              "      <th>17</th>\n",
              "      <td>ELQB203086536JU62D</td>\n",
              "      <td>&lt;p&gt;A man driving at 3/4 th of his original spe...</td>\n",
              "      <td>[\"&lt;p&gt;&lt;br&gt;45 minutes&lt;/p&gt;\",\"&lt;p&gt;&lt;br&gt;60 minutes&lt;/p...</td>\n",
              "      <td>&lt;p&gt;Speed and time are inversely proportional f...</td>\n",
              "      <td>&lt;p&gt;अपनी मूल गति के 3/4 वें स्थान पर ड्राइविंग ...</td>\n",
              "      <td>[\"&lt;p&gt;&lt;br&gt;45 मिनट&lt;/p&gt;\",\"&lt;p&gt;&lt;br&gt;60 मिनट&lt;/p&gt;\",\"&lt;p...</td>\n",
              "      <td>&lt;p&gt;गति और समय एक निश्चित दूरी के लिए विपरीत रू...</td>\n",
              "      <td>NaN</td>\n",
              "      <td>NaN</td>\n",
              "      <td>True</td>\n",
              "      <td>[\"1\"]</td>\n",
              "      <td>3.0</td>\n",
              "      <td>[SPEED_TIME_AND_DISTANCE]</td>\n",
              "      <td>NaN</td>\n",
              "      <td>'TIME_AND_DISTANCE'</td>\n",
              "    </tr>\n",
              "    <tr>\n",
              "      <th>18</th>\n",
              "      <td>ELQB469192851HQP1E</td>\n",
              "      <td>&lt;p&gt;Maninder bought two horses at Rs.40,000 eac...</td>\n",
              "      <td>[\"&lt;p&gt;Rs. 30,000&lt;/p&gt;\",\"&lt;p&gt;Rs. 30,200&lt;/p&gt;\",\"&lt;p&gt;R...</td>\n",
              "      <td>&lt;p&gt;Profit on the first horse = 15% of 40000 = ...</td>\n",
              "      <td>&lt;p&gt;मनिन्दर ने दो घोड़ों को 40,000 रुपये में खर...</td>\n",
              "      <td>[\"&lt;p&gt;30,000 रुपये&lt;/p&gt;\",\"&lt;p&gt;30,200 रुपये&lt;/p&gt;\",\"...</td>\n",
              "      <td>&lt;p&gt;पहले घोड़े पर लाभ = 40000 का 15% = 6000 रुप...</td>\n",
              "      <td>NaN</td>\n",
              "      <td>NaN</td>\n",
              "      <td>True</td>\n",
              "      <td>[\"3\"]</td>\n",
              "      <td>3.0</td>\n",
              "      <td>[PROFIT_LOSS_PERCENTAGE]</td>\n",
              "      <td>NaN</td>\n",
              "      <td>'PROFIT_AND_LOSS'</td>\n",
              "    </tr>\n",
              "    <tr>\n",
              "      <th>19</th>\n",
              "      <td>ELQB329893886D16ZW</td>\n",
              "      <td>&lt;p&gt;A jar contains 10 red marbles and 30 green ...</td>\n",
              "      <td>[\"&lt;p&gt;25&lt;/p&gt;\",\"&lt;p&gt;30&lt;/p&gt;\",\"&lt;p&gt;35&lt;/p&gt;\",\"&lt;p&gt;40&lt;/p&gt;\"]</td>\n",
              "      <td>&lt;p&gt;Let x red marbles be added.&lt;/p&gt;\\n&lt;p&gt;10+x / ...</td>\n",
              "      <td>&lt;p&gt;एक जार में 10 लाल पत्थर और 30 हरे रंग होते ...</td>\n",
              "      <td>[\"&lt;p&gt;25&lt;/p&gt;\",\"&lt;p&gt;30&lt;/p&gt;\",\"&lt;p&gt;35&lt;/p&gt;\",\"&lt;p&gt;४०&lt;/p&gt;\"]</td>\n",
              "      <td>&lt;p&gt;एक्स लाल पत्थर जोड़े जाने दें।&lt;/p&gt;&lt;p&gt;10+एक्...</td>\n",
              "      <td>NaN</td>\n",
              "      <td>NaN</td>\n",
              "      <td>True</td>\n",
              "      <td>[\"2\"]</td>\n",
              "      <td>3.0</td>\n",
              "      <td>[AVERAGES]</td>\n",
              "      <td>NaN</td>\n",
              "      <td>'AVERAGES'</td>\n",
              "    </tr>\n",
              "    <tr>\n",
              "      <th>20</th>\n",
              "      <td>ELQB752877055099IF</td>\n",
              "      <td>&lt;p&gt;The average marks of 40 students in an Engl...</td>\n",
              "      <td>[\"&lt;p&gt;70&lt;/p&gt;\",\"&lt;p&gt;72&lt;/p&gt;\",\"&lt;p&gt;71.9&lt;/p&gt;\",\"&lt;p&gt;72....</td>\n",
              "      <td>&lt;p&gt;Total marks of 40 students in the English e...</td>\n",
              "      <td>&lt;p&gt;अंग्रेजी परीक्षा में 40 छात्रों का औसत अंक ...</td>\n",
              "      <td>[\"&lt;p&gt;70&lt;/p&gt;\",\"&lt;p&gt;72&lt;/p&gt;\",\"&lt;p&gt;71.9&lt;/p&gt;\",\"&lt;p&gt;72....</td>\n",
              "      <td>&lt;p&gt;अंग्रेजी परीक्षा में 40 छात्रों के कुल अंक ...</td>\n",
              "      <td>NaN</td>\n",
              "      <td>NaN</td>\n",
              "      <td>True</td>\n",
              "      <td>[\"3\"]</td>\n",
              "      <td>3.0</td>\n",
              "      <td>[AVERAGES]</td>\n",
              "      <td>NaN</td>\n",
              "      <td>'AVERAGES'</td>\n",
              "    </tr>\n",
              "    <tr>\n",
              "      <th>21</th>\n",
              "      <td>ELQB661389397HF4BB</td>\n",
              "      <td>&lt;p&gt;The average salary of all the staff in an o...</td>\n",
              "      <td>[\"&lt;p&gt;10&lt;/p&gt;\",\"&lt;p&gt;15&lt;/p&gt;\",\"&lt;p&gt;25&lt;/p&gt;\",\"&lt;p&gt;50&lt;/p&gt;\"]</td>\n",
              "      <td>&lt;p&gt;Short Trick:&lt;br&gt;14000             4000&lt;br&gt; ...</td>\n",
              "      <td>&lt;p&gt;कॉर्पोरेट हाउस के कार्यालय में सभी कर्मचारि...</td>\n",
              "      <td>[\"&lt;p&gt;10&lt;/p&gt;\",\"&lt;p&gt;15&lt;/p&gt;\",\"&lt;p&gt;25&lt;/p&gt;\",\"&lt;p&gt;50&lt;/p&gt;\"]</td>\n",
              "      <td>&lt;p&gt;शॉर्ट ट्रिक:&lt;br&gt;१४००० ४०००&lt;br&gt;5000&lt;br&gt;1000 ...</td>\n",
              "      <td>NaN</td>\n",
              "      <td>NaN</td>\n",
              "      <td>True</td>\n",
              "      <td>[\"3\"]</td>\n",
              "      <td>3.0</td>\n",
              "      <td>[SIMPLE_AVERAGE]</td>\n",
              "      <td>NaN</td>\n",
              "      <td>'AVERAGES'</td>\n",
              "    </tr>\n",
              "    <tr>\n",
              "      <th>22</th>\n",
              "      <td>ELQB786882283RHOSD</td>\n",
              "      <td>&lt;p&gt;The average of three numbers is 154. The fi...</td>\n",
              "      <td>[\"&lt;p&gt;264&lt;/p&gt;\",\"&lt;p&gt;132&lt;/p&gt;\",\"&lt;p&gt;88&lt;/p&gt;\",\"&lt;p&gt;66&lt;...</td>\n",
              "      <td>&lt;p&gt;Let third number be x.&lt;br&gt;&lt;br&gt;Then, Second ...</td>\n",
              "      <td>&lt;p&gt;तीन संख्याओं का औसत 154 है। पहला नंबर दूसरे...</td>\n",
              "      <td>[\"&lt;p&gt;264&lt;/p&gt;\",\"&lt;p&gt;132&lt;/p&gt;\",\"&lt;p&gt;88&lt;/p&gt;\",\"&lt;p&gt;66&lt;...</td>\n",
              "      <td>&lt;p&gt;तीसरे नंबर को एक्स होने दें।&lt;br&gt;&lt;br&gt;फिर, दू...</td>\n",
              "      <td>NaN</td>\n",
              "      <td>NaN</td>\n",
              "      <td>True</td>\n",
              "      <td>[\"0\"]</td>\n",
              "      <td>3.0</td>\n",
              "      <td>[SIMPLE_AVERAGE]</td>\n",
              "      <td>NaN</td>\n",
              "      <td>'AVERAGES'</td>\n",
              "    </tr>\n",
              "    <tr>\n",
              "      <th>23</th>\n",
              "      <td>ELQB899277918NZ1MX</td>\n",
              "      <td>&lt;p&gt;The batting average for 40 innings of a cri...</td>\n",
              "      <td>[\"&lt;p&gt;165&lt;/p&gt;\",\"&lt;p&gt;170&lt;/p&gt;\",\"&lt;p&gt;172&lt;/p&gt;\",\"&lt;p&gt;17...</td>\n",
              "      <td>&lt;p&gt;innings --- score&lt;br&gt;40   ---    50&lt;br&gt;38  ...</td>\n",
              "      <td>&lt;p&gt;एक क्रिकेटर की 40 पारी के लिए बल्लेबाजी औसत...</td>\n",
              "      <td>[\"&lt;p&gt;165&lt;/p&gt;\",\"&lt;p&gt;170&lt;/p&gt;\",\"&lt;p&gt;172&lt;/p&gt;\",\"&lt;p&gt;17...</td>\n",
              "      <td>&lt;p&gt;पारी — स्कोर&lt;br&gt;४० — ५०&lt;br&gt;38 — 48&lt;br&gt;2 पार...</td>\n",
              "      <td>NaN</td>\n",
              "      <td>NaN</td>\n",
              "      <td>True</td>\n",
              "      <td>[\"3\"]</td>\n",
              "      <td>3.0</td>\n",
              "      <td>[AVERAGES]</td>\n",
              "      <td>NaN</td>\n",
              "      <td>'AVERAGES'</td>\n",
              "    </tr>\n",
              "    <tr>\n",
              "      <th>24</th>\n",
              "      <td>ELQB755352762Y0YDZ</td>\n",
              "      <td>&lt;p&gt;An employer reduces the number of his emplo...</td>\n",
              "      <td>[\"&lt;p&gt;&lt;br&gt;20:21&lt;/p&gt;\",\"&lt;p&gt;21:20&lt;/p&gt;\",\"&lt;p&gt;&lt;br&gt;20 ...</td>\n",
              "      <td>&lt;p&gt;Let number of his employees = 9  : 8&lt;br&gt;Inc...</td>\n",
              "      <td>&lt;p&gt;एक नियोक्ता अपने कर्मचारियों की संख्या 9:8 ...</td>\n",
              "      <td>[\"&lt;p&gt;&lt;br&gt;20:21&lt;/p&gt;\",\"&lt;p&gt;21:20&lt;/p&gt;\",\"&lt;p&gt;&lt;br&gt;२०:...</td>\n",
              "      <td>&lt;p&gt;अपने कर्मचारियों की संख्या = 9:8&lt;br&gt;मजदूरी ...</td>\n",
              "      <td>NaN</td>\n",
              "      <td>NaN</td>\n",
              "      <td>True</td>\n",
              "      <td>[\"1\"]</td>\n",
              "      <td>3.0</td>\n",
              "      <td>[RATIO]</td>\n",
              "      <td>NaN</td>\n",
              "      <td>'RATIO_AND_PROPORTION'</td>\n",
              "    </tr>\n",
              "    <tr>\n",
              "      <th>25</th>\n",
              "      <td>ELQB560218508OOD0U</td>\n",
              "      <td>&lt;p&gt;A and B earn in the ratio 2 : 1. They spend...</td>\n",
              "      <td>[\"&lt;p&gt;Rs.7,000&lt;/p&gt;\",\"&lt;p&gt;&lt;br&gt;Rs.14,000&lt;/p&gt;\",\"&lt;p&gt;...</td>\n",
              "      <td>&lt;p&gt;Let the incomes of A and B be Rs. 2x and Rs...</td>\n",
              "      <td>&lt;p&gt;ए और बी अनुपात 2:1 में कमाते हैं। वे अनुपात...</td>\n",
              "      <td>[\"&lt;p&gt;7,000 रुपये&lt;/p&gt;\",\"&lt;p&gt;&lt;br&gt;14,000 रुपये&lt;/p&gt;...</td>\n",
              "      <td>&lt;p&gt;ए और बी की आय क्रमशः 2x और रुपये x हो और उन...</td>\n",
              "      <td>NaN</td>\n",
              "      <td>NaN</td>\n",
              "      <td>True</td>\n",
              "      <td>[\"0\"]</td>\n",
              "      <td>3.0</td>\n",
              "      <td>[RATIO]</td>\n",
              "      <td>NaN</td>\n",
              "      <td>'RATIO_AND_PROPORTION'</td>\n",
              "    </tr>\n",
              "    <tr>\n",
              "      <th>26</th>\n",
              "      <td>ELQB903248463MW3MY</td>\n",
              "      <td>&lt;p&gt;While selling, a businessman allows 40% dis...</td>\n",
              "      <td>[\"&lt;p&gt;10%&lt;/p&gt;\",\"&lt;p&gt;20%&lt;/p&gt;\",\"&lt;p&gt;16(2/3)&lt;/p&gt;\",\"&lt;...</td>\n",
              "      <td>&lt;p&gt;CP*70=MP*60&lt;br&gt;CP/MP=60/70 = 6/7&lt;br&gt;if SP =...</td>\n",
              "      <td>&lt;p&gt;बेचते समय, एक व्यापारी चिह्नित मूल्य पर 40%...</td>\n",
              "      <td>[\"&lt;p&gt;10%&lt;/p&gt;\",\"&lt;p&gt;20%&lt;/p&gt;\",\"&lt;p&gt;16 (2/3)&lt;/p&gt;\",\"...</td>\n",
              "      <td>&lt;p&gt;सीपी* 70 = एमपी* 60&lt;br&gt;सीपी/एमपी = 60/70 = ...</td>\n",
              "      <td>NaN</td>\n",
              "      <td>NaN</td>\n",
              "      <td>True</td>\n",
              "      <td>[\"2\"]</td>\n",
              "      <td>3.0</td>\n",
              "      <td>[PROFIT_LOSS_PERCENTAGE]</td>\n",
              "      <td>NaN</td>\n",
              "      <td>'PROFIT_AND_LOSS'</td>\n",
              "    </tr>\n",
              "    <tr>\n",
              "      <th>27</th>\n",
              "      <td>ELQB951266608RDGL0</td>\n",
              "      <td>&lt;p&gt;P, Q, R are employed to do a work for Rs. 5...</td>\n",
              "      <td>[\"&lt;p&gt;&lt;br&gt;2850&lt;/p&gt;\",\"&lt;p&gt;&lt;br&gt;3750&lt;/p&gt;\",\"&lt;p&gt;&lt;br&gt;2...</td>\n",
              "      <td>&lt;p&gt;Let the total work done by all three be 23 ...</td>\n",
              "      <td>&lt;p&gt;पी, क्यू, आर को 5750 रुपये का काम करने के ल...</td>\n",
              "      <td>[\"&lt;p&gt;&lt;br&gt;2850&lt;/p&gt;\",\"&lt;p&gt;&lt;br&gt;3750&lt;/p&gt;\",\"&lt;p&gt;&lt;br&gt;2...</td>\n",
              "      <td>&lt;p&gt;तीनों द्वारा किए गए कुल कार्य को 23 इकाइयां...</td>\n",
              "      <td>NaN</td>\n",
              "      <td>NaN</td>\n",
              "      <td>True</td>\n",
              "      <td>[\"3\"]</td>\n",
              "      <td>3.0</td>\n",
              "      <td>[TIME_AND_WORK]</td>\n",
              "      <td>NaN</td>\n",
              "      <td>'TIME_AND_WORK'</td>\n",
              "    </tr>\n",
              "    <tr>\n",
              "      <th>28</th>\n",
              "      <td>ELQB8995911476H4R4</td>\n",
              "      <td>&lt;p&gt;If 5 divides the integer n, the remainder i...</td>\n",
              "      <td>[\"&lt;p&gt;2&lt;/p&gt;\",\"&lt;p&gt;1&lt;/p&gt;\",\"&lt;p&gt;3&lt;/p&gt;\",\"&lt;p&gt;4&lt;/p&gt;\"]</td>\n",
              "      <td>&lt;p&gt;n/5 = 2 (Remainder)&lt;br&gt;&lt;br&gt;Let n = 7&lt;br&gt;&lt;br...</td>\n",
              "      <td>&lt;p&gt;यदि 5 पूर्णांक n को विभाजित करता है, तो शेष...</td>\n",
              "      <td>[\"&lt;p&gt;२&lt;/p&gt;\",\"&lt;p&gt;1&lt;/p&gt;\",\"&lt;p&gt;३&lt;/p&gt;\",\"&lt;p&gt;४&lt;/p&gt;\"]</td>\n",
              "      <td>&lt;p&gt;n/5 = 2 (शेष)&lt;br&gt;&lt;br&gt;चलो n = 7&lt;br&gt;&lt;br&gt;अब, 7...</td>\n",
              "      <td>NaN</td>\n",
              "      <td>NaN</td>\n",
              "      <td>True</td>\n",
              "      <td>[\"3\"]</td>\n",
              "      <td>3.0</td>\n",
              "      <td>[DIVISIBILITY]</td>\n",
              "      <td>NaN</td>\n",
              "      <td>'NUMBER_SYSTEM'</td>\n",
              "    </tr>\n",
              "    <tr>\n",
              "      <th>29</th>\n",
              "      <td>ELQB797240157Q67P3</td>\n",
              "      <td>&lt;p&gt;What is the highest number which when divid...</td>\n",
              "      <td>[\"&lt;p&gt;512&lt;/p&gt;\",\"&lt;p&gt;1024&lt;/p&gt;\",\"&lt;p&gt;128&lt;/p&gt;\",\"&lt;p&gt;2...</td>\n",
              "      <td>&lt;p&gt;The numbers are 1026, 2052 and 4102.&lt;br&gt;&lt;br...</td>\n",
              "      <td>&lt;p&gt;1026, 2052 और 4102 की संख्या को विभाजित करत...</td>\n",
              "      <td>[\"&lt;p&gt;512&lt;/p&gt;\",\"&lt;p&gt;1024&lt;/p&gt;\",\"&lt;p&gt;128&lt;/p&gt;\",\"&lt;p&gt;2...</td>\n",
              "      <td>&lt;p&gt;संख्या 1026, 2052 और 4102 हैं।&lt;br&gt;&lt;br&gt;१०२६ ...</td>\n",
              "      <td>NaN</td>\n",
              "      <td>NaN</td>\n",
              "      <td>True</td>\n",
              "      <td>[\"1\"]</td>\n",
              "      <td>3.0</td>\n",
              "      <td>[DIVISIBILITY]</td>\n",
              "      <td>NaN</td>\n",
              "      <td>'NUMBER_SYSTEM'</td>\n",
              "    </tr>\n",
              "  </tbody>\n",
              "</table>\n",
              "</div>"
            ],
            "text/plain": [
              "           Question Id  ...                                      Topics\n",
              "0   ELQB251512577Y6J4V  ...                         'TIME_AND_DISTANCE'\n",
              "1   ELQB8510045971VCSG  ...                         'TIME_AND_DISTANCE'\n",
              "2   ELQB6533772451Z10Y  ...                                  'AVERAGES'\n",
              "3   ELQB608456610W2SCM  ...                                  'AVERAGES'\n",
              "4   ELQB069724710WN9BT  ...                                  'AVERAGES'\n",
              "5   ELQB8854189324NBD0  ...                                  'AVERAGES'\n",
              "6   ELQB3019299627S3MC  ...                                  'AVERAGES'\n",
              "7   ELQB216437525PAVB3  ...                      'RATIO_AND_PROPORTION'\n",
              "8   ELQB017071963I0W6Q  ...                           'PROFIT_AND_LOSS'\n",
              "9   ELQB6718515119AFCT  ...                      'RATIO_AND_PROPORTION'\n",
              "10  ELQB836366200WQVQ1  ...                           'PROFIT_AND_LOSS'\n",
              "11  ELQB823183454TYGTL  ...                             'TIME_AND_WORK'\n",
              "12  ELQB6385214528U9WC  ...                             'TIME_AND_WORK'\n",
              "13  ELQB111619103CREJP  ...                               'PROBABILITY'\n",
              "14  ELQB854644323JW51U  ...                               'PROBABILITY'\n",
              "15  ELQB320526874WYO8S  ...                         'TIME_AND_DISTANCE'\n",
              "16  ELQB0051482226YL04  ...  'INTEREST', 'SIMPLE_AND_COMPOUND_INTEREST'\n",
              "17  ELQB203086536JU62D  ...                         'TIME_AND_DISTANCE'\n",
              "18  ELQB469192851HQP1E  ...                           'PROFIT_AND_LOSS'\n",
              "19  ELQB329893886D16ZW  ...                                  'AVERAGES'\n",
              "20  ELQB752877055099IF  ...                                  'AVERAGES'\n",
              "21  ELQB661389397HF4BB  ...                                  'AVERAGES'\n",
              "22  ELQB786882283RHOSD  ...                                  'AVERAGES'\n",
              "23  ELQB899277918NZ1MX  ...                                  'AVERAGES'\n",
              "24  ELQB755352762Y0YDZ  ...                      'RATIO_AND_PROPORTION'\n",
              "25  ELQB560218508OOD0U  ...                      'RATIO_AND_PROPORTION'\n",
              "26  ELQB903248463MW3MY  ...                           'PROFIT_AND_LOSS'\n",
              "27  ELQB951266608RDGL0  ...                             'TIME_AND_WORK'\n",
              "28  ELQB8995911476H4R4  ...                             'NUMBER_SYSTEM'\n",
              "29  ELQB797240157Q67P3  ...                             'NUMBER_SYSTEM'\n",
              "\n",
              "[30 rows x 15 columns]"
            ]
          },
          "metadata": {
            "tags": []
          },
          "execution_count": 20
        }
      ]
    },
    {
      "cell_type": "code",
      "metadata": {
        "colab": {
          "base_uri": "https://localhost:8080/"
        },
        "id": "q6Zh2RX1Ka3h",
        "outputId": "08024a08-9ab8-478c-b758-3fd79d1e200c"
      },
      "source": [
        "DataFrame.iloc[22988]"
      ],
      "execution_count": null,
      "outputs": [
        {
          "output_type": "execute_result",
          "data": {
            "text/plain": [
              "Question Id                                         ELQB874675239EZ4I6\n",
              "EN Question          <p>In the following question, the sentence giv...\n",
              "EN Options           [\"<p>chance</p>\",\"<p>chances</p>\",\"<p>perchanc...\n",
              "EN Solution                                                    <p></p>\n",
              "HI Question          <p>In the following question, the sentence giv...\n",
              "HI Options           [\"<p>chance</p>\",\"<p>chances</p>\",\"<p>perchanc...\n",
              "HI Solution                                                    <p></p>\n",
              "EN Comprehension                                                   NaN\n",
              "HI Comprehension                                                   NaN\n",
              "Active                                                            True\n",
              "Correct Responses                                                [\"2\"]\n",
              "Difficulty Level                                                   2.5\n",
              "Concepts                                          [FILL_IN_THE_BLANKS]\n",
              "Remarks                                                            NaN\n",
              "Topics                                            'FILL_IN_THE_BLANKS'\n",
              "Name: 23074, dtype: object"
            ]
          },
          "metadata": {
            "tags": []
          },
          "execution_count": 21
        }
      ]
    },
    {
      "cell_type": "markdown",
      "metadata": {
        "id": "HterQcqNVFPQ"
      },
      "source": [
        "TEXT CLEANNG"
      ]
    },
    {
      "cell_type": "code",
      "metadata": {
        "colab": {
          "base_uri": "https://localhost:8080/"
        },
        "id": "aGZ7ruT0C5ZU",
        "outputId": "991922f7-a50a-422e-deb6-2443c47a47e1"
      },
      "source": [
        "nltk.download('punkt')\n",
        "nltk.download('stopwords')\n",
        "nltk.download('wordnet')"
      ],
      "execution_count": null,
      "outputs": [
        {
          "output_type": "stream",
          "text": [
            "[nltk_data] Downloading package punkt to /root/nltk_data...\n",
            "[nltk_data]   Unzipping tokenizers/punkt.zip.\n",
            "[nltk_data] Downloading package stopwords to /root/nltk_data...\n",
            "[nltk_data]   Unzipping corpora/stopwords.zip.\n",
            "[nltk_data] Downloading package wordnet to /root/nltk_data...\n",
            "[nltk_data]   Unzipping corpora/wordnet.zip.\n"
          ],
          "name": "stdout"
        },
        {
          "output_type": "execute_result",
          "data": {
            "text/plain": [
              "True"
            ]
          },
          "metadata": {
            "tags": []
          },
          "execution_count": 22
        }
      ]
    },
    {
      "cell_type": "code",
      "metadata": {
        "id": "r3_BwF1xD4km"
      },
      "source": [
        "from nltk.corpus import stopwords\n",
        "stop_words = stopwords.words('english')\n",
        "import string\n",
        "from nltk.stem import WordNetLemmatizer\n",
        "lemmatizer=WordNetLemmatizer()"
      ],
      "execution_count": null,
      "outputs": []
    },
    {
      "cell_type": "code",
      "metadata": {
        "id": "nxE66gULsxVW"
      },
      "source": [
        "sw = [\"a\", \"about\", \"above\", \"after\", \"again\", \"against\", \"ain\", \"all\", \"am\", \"an\", \"and\", \"any\", \"are\", \"aren\", \"aren't\", \"as\", \"at\", \"be\", \"because\", \"been\", \"before\", \"being\", \"below\", \"between\", \"both\", \"but\", \"by\", \"can\", \"couldn\", \"couldn't\", \"d\", \"did\", \"didn\", \"didn't\", \"do\", \"does\", \"doesn\", \"doesn't\", \"doing\", \"don\", \"don't\", \"down\", \"during\", \"each\", \"few\", \"for\", \"from\", \"further\", \"had\", \"hadn\", \"hadn't\", \"has\", \"hasn\", \"hasn't\", \"have\", \"haven\", \"haven't\", \"having\", \"he\", \"her\", \"here\", \"hers\", \"herself\", \"him\", \"himself\", \"his\", \"how\", \"i\", \"if\", \"in\", \"into\", \"is\", \"isn\", \"isn't\", \"it\", \"it's\", \"its\", \"itself\", \"just\", \"ll\", \"m\", \"ma\", \"me\", \"mightn\", \"mightn't\", \"more\", \"most\", \"mustn\", \"mustn't\", \"my\", \"myself\", \"needn\", \"needn't\", \"no\", \"nor\", \"not\", \"now\", \"o\", \"of\", \"off\", \"on\", \"once\", \"only\", \"or\", \"other\", \"our\", \"ours\", \"ourselves\", \"out\", \"over\", \"own\", \"re\", \"s\", \"same\", \"shan\", \"shan't\", \"she\", \"she's\", \"should\", \"should've\", \"shouldn\", \"shouldn't\", \"so\", \"some\", \"such\", \"t\", \"than\", \"that\", \"that'll\", \"the\", \"their\", \"theirs\", \"them\", \"themselves\", \"then\", \"there\", \"these\", \"they\", \"this\", \"those\", \"through\", \"to\", \"too\", \"under\", \"until\", \"up\", \"ve\", \"very\", \"was\", \"wasn\", \"wasn't\", \"we\", \"were\", \"weren\", \"weren't\", \"what\", \"when\", \"where\", \"which\", \"while\", \"who\", \"whom\", \"why\", \"will\", \"with\", \"won\", \"won't\", \"wouldn\", \"wouldn't\", \"y\", \"you\", \"you'd\", \"you'll\", \"you're\", \"you've\", \"your\", \"yours\", \"yourself\", \"yourselves\", \"could\", \"he'd\", \"he'll\", \"he's\", \"here's\", \"how's\", \"i'd\", \"i'll\", \"i'm\", \"i've\", \"let's\", \"ought\", \"she'd\", \"she'll\", \"that's\", \"there's\", \"they'd\", \"they'll\", \"they're\", \"they've\", \"we'd\", \"we'll\", \"we're\", \"we've\", \"what's\", \"when's\", \"where's\", \"who's\", \"why's\", \"would\", \"able\", \"abst\", \"accordance\", \"according\", \"accordingly\", \"across\", \"act\", \"actually\", \"added\", \"adj\", \"affected\", \"affecting\", \"affects\", \"afterwards\", \"ah\", \"almost\", \"alone\", \"along\", \"already\", \"also\", \"although\", \"always\", \"among\", \"amongst\", \"announce\", \"another\", \"anybody\", \"anyhow\", \"anymore\", \"anyone\", \"anything\", \"anyway\", \"anyways\", \"anywhere\", \"apparently\", \"approximately\", \"arent\", \"arise\", \"around\", \"aside\", \"ask\", \"asking\", \"auth\", \"available\", \"away\", \"awfully\", \"b\", \"back\", \"became\", \"become\", \"becomes\", \"becoming\", \"beforehand\", \"begin\", \"beginning\", \"beginnings\", \"begins\", \"behind\", \"believe\", \"beside\", \"besides\", \"beyond\", \"biol\", \"brief\", \"briefly\", \"c\", \"ca\", \"came\", \"cannot\", \"can't\", \"cause\", \"causes\", \"certain\", \"certainly\", \"co\", \"com\", \"come\", \"comes\", \"contain\", \"containing\", \"contains\", \"couldnt\", \"date\", \"different\", \"done\", \"downwards\", \"due\", \"e\", \"ed\", \"edu\", \"effect\", \"eg\", \"eight\", \"eighty\", \"either\", \"else\", \"elsewhere\", \"end\", \"ending\", \"enough\", \"especially\", \"et\", \"etc\", \"even\", \"ever\", \"every\", \"everybody\", \"everyone\", \"everything\", \"everywhere\", \"ex\", \"except\", \"f\", \"far\", \"ff\", \"fifth\", \"first\", \"five\", \"fix\", \"followed\", \"following\", \"follows\", \"former\", \"formerly\", \"forth\", \"found\", \"four\", \"furthermore\", \"g\", \"gave\", \"get\", \"gets\", \"getting\", \"give\", \"given\", \"gives\", \"giving\", \"go\", \"goes\", \"gone\", \"got\", \"gotten\", \"h\", \"happens\", \"hardly\", \"hed\", \"hence\", \"hereafter\", \"hereby\", \"herein\", \"heres\", \"hereupon\", \"hes\", \"hi\", \"hid\", \"hither\", \"home\", \"howbeit\", \"however\", \"hundred\", \"id\", \"ie\", \"im\", \"immediate\", \"immediately\", \"importance\", \"important\", \"inc\", \"indeed\", \"index\", \"information\", \"instead\", \"invention\", \"inward\", \"itd\", \"it'll\", \"j\", \"k\", \"keep\", \"keeps\", \"kept\", \"kg\", \"km\", \"know\", \"known\", \"knows\", \"l\", \"largely\", \"last\", \"lately\", \"later\", \"latter\", \"latterly\", \"least\", \"less\", \"lest\", \"let\", \"lets\", \"like\", \"liked\", \"likely\", \"line\", \"little\", \"'ll\", \"look\", \"looking\", \"looks\", \"ltd\", \"made\", \"mainly\", \"make\", \"makes\", \"many\", \"may\", \"maybe\", \"mean\", \"means\", \"meantime\", \"meanwhile\", \"merely\", \"mg\", \"might\", \"million\", \"miss\", \"ml\", \"moreover\", \"mostly\", \"mr\", \"mrs\", \"much\", \"mug\", \"must\", \"n\", \"na\", \"name\", \"namely\", \"nay\", \"nd\", \"near\", \"nearly\", \"necessarily\", \"necessary\", \"need\", \"needs\", \"neither\", \"never\", \"nevertheless\", \"new\", \"next\", \"nine\", \"ninety\", \"nobody\", \"non\", \"none\", \"nonetheless\", \"noone\", \"normally\", \"nos\", \"noted\", \"nothing\", \"nowhere\", \"obtain\", \"obtained\", \"obviously\", \"often\", \"oh\", \"ok\", \"okay\", \"old\", \"omitted\", \"one\", \"ones\", \"onto\", \"ord\", \"others\", \"otherwise\", \"outside\", \"overall\", \"owing\", \"p\", \"page\", \"pages\", \"part\", \"particular\", \"particularly\", \"past\", \"per\", \"perhaps\", \"placed\", \"please\", \"plus\", \"poorly\", \"possible\", \"possibly\", \"potentially\", \"pp\", \"predominantly\", \"present\", \"previously\", \"primarily\", \"probably\", \"promptly\", \"proud\", \"provides\", \"put\", \"q\", \"que\", \"quickly\", \"quite\", \"qv\", \"r\", \"ran\", \"rather\", \"rd\", \"readily\", \"really\", \"recent\", \"recently\", \"ref\", \"refs\", \"regarding\", \"regardless\", \"regards\", \"related\", \"relatively\", \"research\", \"respectively\", \"resulted\", \"resulting\", \"results\", \"right\", \"run\", \"said\", \"saw\", \"say\", \"saying\", \"says\", \"sec\", \"section\", \"see\", \"seeing\", \"seem\", \"seemed\", \"seeming\", \"seems\", \"seen\", \"self\", \"selves\", \"sent\", \"seven\", \"several\", \"shall\", \"shed\", \"shes\", \"show\", \"showed\", \"shown\", \"showns\", \"shows\", \"significant\", \"significantly\", \"similar\", \"similarly\", \"since\", \"six\", \"slightly\", \"somebody\", \"somehow\", \"someone\", \"somethan\", \"something\", \"sometime\", \"sometimes\", \"somewhat\", \"somewhere\", \"soon\", \"sorry\", \"specifically\", \"specified\", \"specify\", \"specifying\", \"still\", \"stop\", \"strongly\", \"sub\", \"substantially\", \"successfully\", \"sufficiently\", \"suggest\", \"sup\", \"sure\", \"take\", \"taken\", \"taking\", \"tell\", \"tends\", \"th\", \"thank\", \"thanks\", \"thanx\", \"thats\", \"that've\", \"thence\", \"thereafter\", \"thereby\", \"thered\", \"therefore\", \"therein\", \"there'll\", \"thereof\", \"therere\", \"theres\", \"thereto\", \"thereupon\", \"there've\", \"theyd\", \"theyre\", \"think\", \"thou\", \"though\", \"thoughh\", \"thousand\", \"throug\", \"throughout\", \"thru\", \"thus\", \"til\", \"tip\", \"together\", \"took\", \"toward\", \"towards\", \"tried\", \"tries\", \"truly\", \"try\", \"trying\", \"ts\", \"twice\", \"two\", \"u\", \"un\", \"unfortunately\", \"unless\", \"unlike\", \"unlikely\", \"unto\", \"upon\", \"ups\", \"us\", \"use\", \"used\", \"useful\", \"usefully\", \"usefulness\", \"uses\", \"using\", \"usually\", \"v\", \"value\", \"various\", \"'ve\", \"via\", \"viz\", \"vol\", \"vols\", \"vs\", \"w\", \"want\", \"wants\", \"wasnt\", \"way\", \"wed\", \"welcome\", \"went\", \"werent\", \"whatever\", \"what'll\", \"whats\", \"whence\", \"whenever\", \"whereafter\", \"whereas\", \"whereby\", \"wherein\", \"wheres\", \"whereupon\", \"wherever\", \"whether\", \"whim\", \"whither\", \"whod\", \"whoever\", \"whole\", \"who'll\", \"whomever\", \"whos\", \"whose\", \"widely\", \"willing\", \"wish\", \"within\", \"without\", \"wont\", \"words\", \"world\", \"wouldnt\", \"www\", \"x\", \"yes\", \"yet\", \"youd\", \"youre\", \"z\", \"zero\", \"a's\", \"ain't\", \"allow\", \"allows\", \"apart\", \"appear\", \"appreciate\", \"appropriate\", \"associated\", \"best\", \"better\", \"c'mon\", \"c's\", \"cant\", \"changes\", \"clearly\", \"concerning\", \"consequently\", \"consider\", \"considering\", \"corresponding\", \"course\", \"currently\", \"definitely\", \"described\", \"despite\", \"entirely\", \"exactly\", \"example\", \"going\", \"greetings\", \"hello\", \"help\", \"hopefully\", \"ignored\", \"inasmuch\", \"indicate\", \"indicated\", \"indicates\", \"inner\", \"insofar\", \"it'd\", \"keep\", \"keeps\", \"novel\", \"presumably\", \"reasonably\", \"second\", \"secondly\", \"sensible\", \"serious\", \"seriously\", \"sure\", \"t's\", \"third\", \"thorough\", \"thoroughly\", \"three\", \"well\", \"wonder\", \"a\", \"about\", \"above\", \"above\", \"across\", \"after\", \"afterwards\", \"again\", \"against\", \"all\", \"almost\", \"alone\", \"along\", \"already\", \"also\", \"although\", \"always\", \"am\", \"among\", \"amongst\", \"amoungst\", \"amount\", \"an\", \"and\", \"another\", \"any\", \"anyhow\", \"anyone\", \"anything\", \"anyway\", \"anywhere\", \"are\", \"around\", \"as\", \"at\", \"back\", \"be\", \"became\", \"because\", \"become\", \"becomes\", \"becoming\", \"been\", \"before\", \"beforehand\", \"behind\", \"being\", \"below\", \"beside\", \"besides\", \"between\", \"beyond\", \"bill\", \"both\", \"bottom\", \"but\", \"by\", \"call\", \"can\", \"cannot\", \"cant\", \"co\", \"con\", \"could\", \"couldnt\", \"cry\", \"de\", \"describe\", \"detail\", \"do\", \"done\", \"down\", \"due\", \"during\", \"each\", \"eg\", \"eight\", \"either\", \"eleven\", \"else\", \"elsewhere\", \"empty\", \"enough\", \"etc\", \"even\", \"ever\", \"every\", \"everyone\", \"everything\", \"everywhere\", \"except\", \"few\", \"fifteen\", \"fify\", \"fill\", \"find\", \"fire\", \"first\", \"five\", \"for\", \"former\", \"formerly\", \"forty\", \"found\", \"four\", \"from\", \"front\", \"full\", \"further\", \"get\", \"give\", \"go\", \"had\", \"has\", \"hasnt\", \"have\", \"he\", \"hence\", \"her\", \"here\", \"hereafter\", \"hereby\", \"herein\", \"hereupon\", \"hers\", \"herself\", \"him\", \"himself\", \"his\", \"how\", \"however\", \"hundred\", \"ie\", \"if\", \"in\", \"inc\", \"indeed\", \"interest\", \"into\", \"is\", \"it\", \"its\", \"itself\", \"keep\", \"last\", \"latter\", \"latterly\", \"least\", \"less\", \"ltd\", \"made\", \"many\", \"may\", \"me\", \"meanwhile\", \"might\", \"mill\", \"mine\", \"more\", \"moreover\", \"most\", \"mostly\", \"move\", \"much\", \"must\", \"my\", \"myself\", \"name\", \"namely\", \"neither\", \"never\", \"nevertheless\", \"next\", \"nine\", \"no\", \"nobody\", \"none\", \"noone\", \"nor\", \"not\", \"nothing\", \"now\", \"nowhere\", \"of\", \"off\", \"often\", \"on\", \"once\", \"one\", \"only\", \"onto\", \"or\", \"other\", \"others\", \"otherwise\", \"our\", \"ours\", \"ourselves\", \"out\", \"over\", \"own\", \"part\", \"per\", \"perhaps\", \"please\", \"put\", \"rather\", \"re\", \"same\", \"see\", \"seem\", \"seemed\", \"seeming\", \"seems\", \"serious\", \"several\", \"she\", \"should\", \"show\", \"side\", \"since\", \"sincere\", \"six\", \"sixty\", \"so\", \"some\", \"somehow\", \"someone\", \"something\", \"sometime\", \"sometimes\", \"somewhere\", \"still\", \"such\", \"system\", \"take\", \"ten\", \"than\", \"that\", \"the\", \"their\", \"them\", \"themselves\", \"then\", \"thence\", \"there\", \"thereafter\", \"thereby\", \"therefore\", \"therein\", \"thereupon\", \"these\", \"they\", \"thickv\", \"thin\", \"third\", \"this\", \"those\", \"though\", \"three\", \"through\", \"throughout\", \"thru\", \"thus\", \"to\", \"together\", \"too\", \"top\", \"toward\", \"towards\", \"twelve\", \"twenty\", \"two\", \"un\", \"under\", \"until\", \"up\", \"upon\", \"us\", \"very\", \"via\", \"was\", \"we\", \"well\", \"were\", \"what\", \"whatever\", \"when\", \"whence\", \"whenever\", \"where\", \"whereafter\", \"whereas\", \"whereby\", \"wherein\", \"whereupon\", \"wherever\",\"nbsp\", \"whether\", \"which\",\"+\",\"-\",\"*\",\"/\", \"while\", \"whither\", \"who\", \"whoever\", \"whole\", \"whom\", \"whose\", \"why\", \"will\", \"with\", \"within\", \"without\", \"would\", \"yet\", \"you\", \"your\", \"yours\", \"yourself\", \"yourselves\", \"the\", \"a\", \"b\", \"c\", \"d\", \"e\", \"f\", \"g\", \"h\", \"i\", \"j\", \"k\", \"l\", \"m\", \"n\", \"o\", \"p\", \"q\", \"r\", \"s\", \"t\", \"u\", \"v\", \"w\", \"x\", \"y\", \"z\", \"A\", \"B\", \"C\", \"D\", \"E\", \"F\", \"G\", \"H\", \"I\", \"J\", \"K\", \"L\", \"M\", \"N\", \"O\", \"P\", \"Q\", \"R\", \"S\", \"T\", \"U\", \"V\", \"W\", \"X\", \"Y\", \"Z\", \"co\", \"op\", \"research-articl\", \"pagecount\", \"cit\", \"ibid\", \"les\", \"le\", \"au\", \"que\", \"est\", \"pas\", \"vol\", \"el\", \"los\", \"pp\", \"u201d\", \"well-b\", \"http\", \"volumtype\", \"par\", \"0o\", \"0s\", \"3a\", \"3b\", \"3d\", \"6b\", \"6o\", \"a1\", \"a2\", \"a3\", \"a4\", \"ab\", \"ac\", \"ad\", \"ae\", \"af\", \"ag\", \"aj\", \"al\", \"an\", \"ao\", \"ap\", \"ar\", \"av\", \"aw\", \"ax\", \"ay\", \"az\", \"b1\", \"b2\", \"b3\", \"ba\", \"bc\", \"bd\", \"be\", \"bi\", \"bj\", \"bk\", \"bl\", \"bn\", \"bp\", \"br\", \"bs\", \"bt\", \"bu\", \"bx\", \"c1\", \"c2\", \"c3\", \"cc\", \"cd\", \"ce\", \"cf\", \"cg\", \"ch\", \"ci\", \"cj\", \"cl\", \"cm\", \"cn\", \"cp\", \"cq\", \"cr\", \"cs\", \"ct\", \"cu\", \"cv\", \"cx\", \"cy\", \"cz\", \"d2\", \"da\", \"dc\", \"dd\", \"de\", \"df\", \"di\", \"dj\", \"dk\", \"dl\", \"do\", \"dp\", \"dr\", \"ds\", \"dt\", \"du\", \"dx\", \"dy\", \"e2\", \"e3\", \"ea\", \"ec\", \"ed\", \"ee\", \"ef\", \"ei\", \"ej\", \"el\", \"em\", \"en\", \"eo\", \"ep\", \"eq\", \"er\", \"es\", \"et\", \"eu\", \"ev\", \"ex\", \"ey\", \"f2\", \"fa\", \"fc\", \"ff\", \"fi\", \"fj\", \"fl\", \"fn\", \"fo\", \"fr\", \"fs\", \"ft\", \"fu\", \"fy\", \"ga\", \"ge\", \"gi\", \"gj\", \"gl\", \"go\", \"gr\", \"gs\", \"gy\", \"h2\", \"h3\", \"hh\", \"hi\", \"hj\", \"ho\", \"hr\", \"hs\", \"hu\", \"hy\", \"i\", \"i2\", \"i3\", \"i4\", \"i6\", \"i7\", \"i8\", \"ia\", \"ib\", \"ic\", \"ie\", \"ig\", \"ih\", \"ii\", \"ij\", \"il\", \"in\", \"io\", \"ip\", \"iq\", \"ir\", \"iv\", \"ix\", \"iy\", \"iz\", \"jj\", \"jr\", \"js\", \"jt\", \"ju\", \"ke\", \"kg\", \"kj\", \"km\", \"ko\", \"l2\", \"la\", \"lb\", \"lc\", \"lf\", \"lj\", \"ln\", \"lo\", \"lr\", \"ls\", \"lt\", \"m2\", \"ml\", \"mn\", \"mo\", \"ms\", \"mt\", \"mu\", \"n2\", \"nc\", \"nd\", \"ne\", \"ng\", \"ni\", \"nj\", \"nl\", \"nn\", \"nr\", \"ns\", \"nt\", \"ny\", \"oa\", \"ob\", \"oc\", \"od\", \"of\", \"og\", \"oi\", \"oj\", \"ol\", \"om\", \"on\", \"oo\", \"oq\", \"or\", \"os\", \"ot\", \"ou\", \"ow\", \"ox\", \"oz\", \"p1\", \"p2\", \"p3\", \"pc\", \"pd\", \"pe\", \"pf\", \"ph\", \"pi\", \"pj\", \"pk\", \"pl\", \"pm\", \"pn\", \"po\", \"pq\", \"pr\", \"ps\", \"pt\", \"pu\", \"py\", \"qj\", \"qu\", \"r2\", \"ra\", \"rc\", \"rd\", \"rf\", \"rh\", \"ri\", \"rj\", \"rl\", \"rm\", \"rn\", \"ro\", \"rq\", \"rr\", \"rs\", \"rt\", \"ru\", \"rv\", \"ry\", \"s2\", \"sa\", \"sc\", \"sd\", \"se\", \"sf\", \"si\", \"sj\", \"sl\", \"sm\", \"sn\", \"sp\", \"sq\", \"sr\", \"ss\", \"st\", \"sy\", \"sz\", \"t1\", \"t2\", \"t3\", \"tb\", \"tc\", \"td\", \"te\", \"tf\", \"th\", \"ti\", \"tj\", \"tl\", \"tm\", \"tn\", \"tp\", \"tq\", \"tr\", \"ts\", \"tt\", \"tv\", \"tx\", \"ue\", \"ui\", \"uj\", \"uk\", \"um\", \"un\", \"uo\", \"ur\", \"ut\", \"va\", \"wa\", \"vd\", \"wi\", \"vj\", \"vo\", \"wo\", \"vq\", \"vt\", \"vu\", \"x1\", \"x2\", \"x3\", \"xf\", \"xi\", \"xj\", \"xk\", \"xl\", \"xn\", \"xo\", \"xs\", \"xt\", \"xv\", \"xx\", \"y2\", \"yj\", \"yl\", \"yr\", \"ys\", \"yt\", \"zi\", \"zz\"]"
      ],
      "execution_count": null,
      "outputs": []
    },
    {
      "cell_type": "code",
      "metadata": {
        "id": "wwhQUZrcBe7j"
      },
      "source": [
        "# Custom preprocessing script for our Dataset\n",
        "\n",
        "\n",
        "def do_preprocess(Dataframe__):\n",
        "    cnt = 0\n",
        "    for id, row in Dataframe__.iterrows():\n",
        "        Final_Sentence = \"\"\n",
        "        #print(type(row['EN Question']))\n",
        "        #print(id)\n",
        "        question = row['EN Question'] \n",
        "        sentence = question\n",
        "\n",
        "        tag = '<[^<>]*>'\n",
        "        stop = '\\\\.'\n",
        "        dash = '\\_'\n",
        "        sentence = re.sub(\"|\".join([tag ,dash]), \"  \", sentence)\n",
        "        sentence = re.sub(\"[^\\w+]\" , \" \" , sentence)\n",
        "        pattern = r'[0-9]'\n",
        "        sentence = re.sub(pattern, '', sentence)\n",
        "\n",
        "        # Tokenization\n",
        "        words = nltk.word_tokenize(sentence)\n",
        "        \n",
        "        # Stopwords removal\n",
        "        \n",
        "        words = [w for w in words if w not in sw ]\n",
        "\n",
        "       \n",
        "\n",
        "        #print(words)\n",
        "        for word in words:\n",
        "            Final_Sentence = Final_Sentence  + ' ' + str(lemmatizer.lemmatize(word)).lower()\n",
        "        \n",
        "        Dataframe__.loc[id, 'EN Question'] = Final_Sentence\n",
        "    Dataframe__ = Dataframe__[['EN Question', 'Concepts','Topics']]\n",
        "    return(Dataframe__)"
      ],
      "execution_count": null,
      "outputs": []
    },
    {
      "cell_type": "code",
      "metadata": {
        "id": "HgAh22eUCxvW"
      },
      "source": [
        "train_preprocessed = do_preprocess(DataFrame)"
      ],
      "execution_count": null,
      "outputs": []
    },
    {
      "cell_type": "code",
      "metadata": {
        "colab": {
          "base_uri": "https://localhost:8080/"
        },
        "id": "_7antEo3Ld5c",
        "outputId": "d689643d-fc06-491e-d152-566e141fc35c"
      },
      "source": [
        "for i in range(20):\n",
        "  print(train_preprocessed[:20]['EN Question'][i])\n",
        "  print(\"\\n\")"
      ],
      "execution_count": null,
      "outputs": [
        {
          "output_type": "stream",
          "text": [
            " train speeding kmph cross train running direction min if length train speed train kmph\n",
            "\n",
            "\n",
            " car finish journey hour speed kmph in order cover distance hour speed car increased\n",
            "\n",
            "\n",
            " if profit selling article rs loss selling rs cost price article\n",
            "\n",
            "\n",
            " the average consecutive number the largest number\n",
            "\n",
            "\n",
            " the batting average inning cricket player run his highest score exceeds lowest score run if inning excluded average remaining inning run the highest score player\n",
            "\n",
            "\n",
            " the average weight if average weight weight\n",
            "\n",
            "\n",
            " fifteen movie theatre average customer theatre day if theatre close total theatre attendance stay average daily attendance theatre remaining theatre\n",
            "\n",
            "\n",
            " rs divided\n",
            "\n",
            "\n",
            " watch dealer pay custom duty watch cost rs abroad he desire profit discount buyer the marked price\n",
            "\n",
            "\n",
            " earn ratio they spend ratio save ratio if total monthly saving rs monthly income\n",
            "\n",
            "\n",
            " the marked price article higher cost price if trader sell article allowing discount customer gain percent\n",
            "\n",
            "\n",
            " man double work boy time the number day men boy finish work men day\n",
            "\n",
            "\n",
            " water tap fill tub hour sink empty hour if tap sink open tank filled hour\n",
            "\n",
            "\n",
            " in division sum divisor time quotient time remainder if dividend\n",
            "\n",
            "\n",
            " if sum digit digit number subtracted number divisible\n",
            "\n",
            "\n",
            " person row kmph water take double time upstream compared take distance downstream what speed current\n",
            "\n",
            "\n",
            " person left rs divided son aged year year equal amount attains year age if simple annum younger son share\n",
            "\n",
            "\n",
            " man driving original speed reach destination minute usual time then usual time\n",
            "\n",
            "\n",
            " maninder bought horse rs he sold horse gain sell horse loss if suffered loss rs transaction selling price horse\n",
            "\n",
            "\n",
            " jar red marble green how red marble jar marble red\n",
            "\n",
            "\n"
          ],
          "name": "stdout"
        }
      ]
    },
    {
      "cell_type": "code",
      "metadata": {
        "id": "K1gKWltuK-DX",
        "colab": {
          "base_uri": "https://localhost:8080/",
          "height": 35
        },
        "outputId": "5f008ad6-4087-4fe1-bf76-e8ebd7d09ba8"
      },
      "source": [
        "DataFrame[:10]['EN Question'][1]"
      ],
      "execution_count": null,
      "outputs": [
        {
          "output_type": "execute_result",
          "data": {
            "application/vnd.google.colaboratory.intrinsic+json": {
              "type": "string"
            },
            "text/plain": [
              "' car finish journey hour speed kmph in order cover distance hour speed car increased'"
            ]
          },
          "metadata": {
            "tags": []
          },
          "execution_count": 28
        }
      ]
    },
    {
      "cell_type": "code",
      "metadata": {
        "colab": {
          "base_uri": "https://localhost:8080/"
        },
        "id": "0QdOZGSmuiKg",
        "outputId": "4f5937d5-e62c-43c7-d2b3-bed0049cf960"
      },
      "source": [
        "len(train_preprocessed)"
      ],
      "execution_count": null,
      "outputs": [
        {
          "output_type": "execute_result",
          "data": {
            "text/plain": [
              "31342"
            ]
          },
          "metadata": {
            "tags": []
          },
          "execution_count": 29
        }
      ]
    },
    {
      "cell_type": "code",
      "metadata": {
        "colab": {
          "base_uri": "https://localhost:8080/",
          "height": 1000
        },
        "id": "XtPcQYPatjiP",
        "outputId": "87420f99-c5a7-488f-963a-2406fae2ef96"
      },
      "source": [
        "train_preprocessed[:50]"
      ],
      "execution_count": null,
      "outputs": [
        {
          "output_type": "execute_result",
          "data": {
            "text/html": [
              "<div>\n",
              "<style scoped>\n",
              "    .dataframe tbody tr th:only-of-type {\n",
              "        vertical-align: middle;\n",
              "    }\n",
              "\n",
              "    .dataframe tbody tr th {\n",
              "        vertical-align: top;\n",
              "    }\n",
              "\n",
              "    .dataframe thead th {\n",
              "        text-align: right;\n",
              "    }\n",
              "</style>\n",
              "<table border=\"1\" class=\"dataframe\">\n",
              "  <thead>\n",
              "    <tr style=\"text-align: right;\">\n",
              "      <th></th>\n",
              "      <th>EN Question</th>\n",
              "      <th>Concepts</th>\n",
              "      <th>Topics</th>\n",
              "    </tr>\n",
              "  </thead>\n",
              "  <tbody>\n",
              "    <tr>\n",
              "      <th>0</th>\n",
              "      <td>train speeding kmph cross train running direc...</td>\n",
              "      <td>[SPEED_TIME_AND_DISTANCE]</td>\n",
              "      <td>'TIME_AND_DISTANCE'</td>\n",
              "    </tr>\n",
              "    <tr>\n",
              "      <th>1</th>\n",
              "      <td>car finish journey hour speed kmph in order c...</td>\n",
              "      <td>[SPEED_TIME_AND_DISTANCE]</td>\n",
              "      <td>'TIME_AND_DISTANCE'</td>\n",
              "    </tr>\n",
              "    <tr>\n",
              "      <th>2</th>\n",
              "      <td>if profit selling article rs loss selling rs ...</td>\n",
              "      <td>[SIMPLE_AVERAGE]</td>\n",
              "      <td>'AVERAGES'</td>\n",
              "    </tr>\n",
              "    <tr>\n",
              "      <th>3</th>\n",
              "      <td>the average consecutive number the largest nu...</td>\n",
              "      <td>[SIMPLE_AVERAGE]</td>\n",
              "      <td>'AVERAGES'</td>\n",
              "    </tr>\n",
              "    <tr>\n",
              "      <th>4</th>\n",
              "      <td>the batting average inning cricket player run...</td>\n",
              "      <td>[SIMPLE_AVERAGE]</td>\n",
              "      <td>'AVERAGES'</td>\n",
              "    </tr>\n",
              "    <tr>\n",
              "      <th>5</th>\n",
              "      <td>the average weight if average weight weight</td>\n",
              "      <td>[SIMPLE_AVERAGE]</td>\n",
              "      <td>'AVERAGES'</td>\n",
              "    </tr>\n",
              "    <tr>\n",
              "      <th>6</th>\n",
              "      <td>fifteen movie theatre average customer theatr...</td>\n",
              "      <td>[SIMPLE_AVERAGE]</td>\n",
              "      <td>'AVERAGES'</td>\n",
              "    </tr>\n",
              "    <tr>\n",
              "      <th>7</th>\n",
              "      <td>rs divided</td>\n",
              "      <td>[RATIO]</td>\n",
              "      <td>'RATIO_AND_PROPORTION'</td>\n",
              "    </tr>\n",
              "    <tr>\n",
              "      <th>8</th>\n",
              "      <td>watch dealer pay custom duty watch cost rs ab...</td>\n",
              "      <td>[PROFIT_LOSS_PERCENTAGE]</td>\n",
              "      <td>'PROFIT_AND_LOSS'</td>\n",
              "    </tr>\n",
              "    <tr>\n",
              "      <th>9</th>\n",
              "      <td>earn ratio they spend ratio save ratio if tot...</td>\n",
              "      <td>[RATIO]</td>\n",
              "      <td>'RATIO_AND_PROPORTION'</td>\n",
              "    </tr>\n",
              "    <tr>\n",
              "      <th>10</th>\n",
              "      <td>the marked price article higher cost price if...</td>\n",
              "      <td>[PROFIT_LOSS_PERCENTAGE]</td>\n",
              "      <td>'PROFIT_AND_LOSS'</td>\n",
              "    </tr>\n",
              "    <tr>\n",
              "      <th>11</th>\n",
              "      <td>man double work boy time the number day men b...</td>\n",
              "      <td>[TIME_AND_WORK]</td>\n",
              "      <td>'TIME_AND_WORK'</td>\n",
              "    </tr>\n",
              "    <tr>\n",
              "      <th>12</th>\n",
              "      <td>water tap fill tub hour sink empty hour if ta...</td>\n",
              "      <td>[PIPE_AND_CISTERN]</td>\n",
              "      <td>'TIME_AND_WORK'</td>\n",
              "    </tr>\n",
              "    <tr>\n",
              "      <th>13</th>\n",
              "      <td>in division sum divisor time quotient time re...</td>\n",
              "      <td>[DIVISIBILITY_PROBLEMS]</td>\n",
              "      <td>'PROBABILITY'</td>\n",
              "    </tr>\n",
              "    <tr>\n",
              "      <th>14</th>\n",
              "      <td>if sum digit digit number subtracted number d...</td>\n",
              "      <td>[DIVISIBILITY_PROBLEMS]</td>\n",
              "      <td>'PROBABILITY'</td>\n",
              "    </tr>\n",
              "    <tr>\n",
              "      <th>15</th>\n",
              "      <td>person row kmph water take double time upstre...</td>\n",
              "      <td>[BOAT_AND_STREAM]</td>\n",
              "      <td>'TIME_AND_DISTANCE'</td>\n",
              "    </tr>\n",
              "    <tr>\n",
              "      <th>16</th>\n",
              "      <td>person left rs divided son aged year year equ...</td>\n",
              "      <td>[SIMPLE_INTEREST]</td>\n",
              "      <td>'INTEREST', 'SIMPLE_AND_COMPOUND_INTEREST'</td>\n",
              "    </tr>\n",
              "    <tr>\n",
              "      <th>17</th>\n",
              "      <td>man driving original speed reach destination ...</td>\n",
              "      <td>[SPEED_TIME_AND_DISTANCE]</td>\n",
              "      <td>'TIME_AND_DISTANCE'</td>\n",
              "    </tr>\n",
              "    <tr>\n",
              "      <th>18</th>\n",
              "      <td>maninder bought horse rs he sold horse gain s...</td>\n",
              "      <td>[PROFIT_LOSS_PERCENTAGE]</td>\n",
              "      <td>'PROFIT_AND_LOSS'</td>\n",
              "    </tr>\n",
              "    <tr>\n",
              "      <th>19</th>\n",
              "      <td>jar red marble green how red marble jar marbl...</td>\n",
              "      <td>[AVERAGES]</td>\n",
              "      <td>'AVERAGES'</td>\n",
              "    </tr>\n",
              "    <tr>\n",
              "      <th>20</th>\n",
              "      <td>the average mark student english exam later m...</td>\n",
              "      <td>[AVERAGES]</td>\n",
              "      <td>'AVERAGES'</td>\n",
              "    </tr>\n",
              "    <tr>\n",
              "      <th>21</th>\n",
              "      <td>the average salary staff office corporate hou...</td>\n",
              "      <td>[SIMPLE_AVERAGE]</td>\n",
              "      <td>'AVERAGES'</td>\n",
              "    </tr>\n",
              "    <tr>\n",
              "      <th>22</th>\n",
              "      <td>the average number the number number then number</td>\n",
              "      <td>[SIMPLE_AVERAGE]</td>\n",
              "      <td>'AVERAGES'</td>\n",
              "    </tr>\n",
              "    <tr>\n",
              "      <th>23</th>\n",
              "      <td>the batting average inning cricketer run his ...</td>\n",
              "      <td>[AVERAGES]</td>\n",
              "      <td>'AVERAGES'</td>\n",
              "    </tr>\n",
              "    <tr>\n",
              "      <th>24</th>\n",
              "      <td>an employer reduces number employee ratio inc...</td>\n",
              "      <td>[RATIO]</td>\n",
              "      <td>'RATIO_AND_PROPORTION'</td>\n",
              "    </tr>\n",
              "    <tr>\n",
              "      <th>25</th>\n",
              "      <td>earn ratio they spend ratio save ratio if tot...</td>\n",
              "      <td>[RATIO]</td>\n",
              "      <td>'RATIO_AND_PROPORTION'</td>\n",
              "    </tr>\n",
              "    <tr>\n",
              "      <th>26</th>\n",
              "      <td>while selling businessman discount marked pri...</td>\n",
              "      <td>[PROFIT_LOSS_PERCENTAGE]</td>\n",
              "      <td>'PROFIT_AND_LOSS'</td>\n",
              "    </tr>\n",
              "    <tr>\n",
              "      <th>27</th>\n",
              "      <td>employed work rs finished work finished work ...</td>\n",
              "      <td>[TIME_AND_WORK]</td>\n",
              "      <td>'TIME_AND_WORK'</td>\n",
              "    </tr>\n",
              "    <tr>\n",
              "      <th>28</th>\n",
              "      <td>if divide integer remainder what remainder di...</td>\n",
              "      <td>[DIVISIBILITY]</td>\n",
              "      <td>'NUMBER_SYSTEM'</td>\n",
              "    </tr>\n",
              "    <tr>\n",
              "      <th>29</th>\n",
              "      <td>what highest number divide number leave remai...</td>\n",
              "      <td>[DIVISIBILITY]</td>\n",
              "      <td>'NUMBER_SYSTEM'</td>\n",
              "    </tr>\n",
              "    <tr>\n",
              "      <th>30</th>\n",
              "      <td>how number completely divisible</td>\n",
              "      <td>[DIVISIBILITY]</td>\n",
              "      <td>'NUMBER_SYSTEM'</td>\n",
              "    </tr>\n",
              "    <tr>\n",
              "      <th>31</th>\n",
              "      <td>number divided leaf remainder this number div...</td>\n",
              "      <td>[DIVISIBILITY]</td>\n",
              "      <td>'NUMBER_SYSTEM'</td>\n",
              "    </tr>\n",
              "    <tr>\n",
              "      <th>32</th>\n",
              "      <td>three number ratio the difference greatest sm...</td>\n",
              "      <td>[RATIO]</td>\n",
              "      <td>'RATIO_AND_PROPORTION'</td>\n",
              "    </tr>\n",
              "    <tr>\n",
              "      <th>33</th>\n",
              "      <td>of total number ring mr gold smith designed p...</td>\n",
              "      <td>[DATA_CASELET]</td>\n",
              "      <td>'DATA_CASELET'</td>\n",
              "    </tr>\n",
              "    <tr>\n",
              "      <th>34</th>\n",
              "      <td>which maximum number gentleman pearl ring</td>\n",
              "      <td>[DATA_CASELET]</td>\n",
              "      <td>'DATA_CASELET'</td>\n",
              "    </tr>\n",
              "    <tr>\n",
              "      <th>35</th>\n",
              "      <td>income ratio income increased income increase...</td>\n",
              "      <td>[RATIO]</td>\n",
              "      <td>'RATIO_AND_PROPORTION'</td>\n",
              "    </tr>\n",
              "    <tr>\n",
              "      <th>36</th>\n",
              "      <td>how gentleman pearl ring packed lady diamond ...</td>\n",
              "      <td>[DATA_CASELET]</td>\n",
              "      <td>'DATA_CASELET'</td>\n",
              "    </tr>\n",
              "    <tr>\n",
              "      <th>37</th>\n",
              "      <td>of pack mr smith time labelled mixed pack</td>\n",
              "      <td>[DATA_CASELET]</td>\n",
              "      <td>'DATA_CASELET'</td>\n",
              "    </tr>\n",
              "    <tr>\n",
              "      <th>38</th>\n",
              "      <td>by time lady diamond ring remained single</td>\n",
              "      <td>[DATA_CASELET]</td>\n",
              "      <td>'DATA_CASELET'</td>\n",
              "    </tr>\n",
              "    <tr>\n",
              "      <th>39</th>\n",
              "      <td>by increasing price entry ticket fair ratio n...</td>\n",
              "      <td>[RATIO]</td>\n",
              "      <td>'RATIO_AND_PROPORTION'</td>\n",
              "    </tr>\n",
              "    <tr>\n",
              "      <th>40</th>\n",
              "      <td>some money divided harsh nikhil ratio they sh...</td>\n",
              "      <td>[RATIO]</td>\n",
              "      <td>'RATIO_AND_PROPORTION'</td>\n",
              "    </tr>\n",
              "    <tr>\n",
              "      <th>41</th>\n",
              "      <td>bag form rupee paisa paisa coin ratio what nu...</td>\n",
              "      <td>[RATIO]</td>\n",
              "      <td>'RATIO_AND_PROPORTION'</td>\n",
              "    </tr>\n",
              "    <tr>\n",
              "      <th>42</th>\n",
              "      <td>what total number male athlete participating ...</td>\n",
              "      <td>[DATA_CASELET]</td>\n",
              "      <td>'DATA_CASELET'</td>\n",
              "    </tr>\n",
              "    <tr>\n",
              "      <th>43</th>\n",
              "      <td>what number female table tennis player</td>\n",
              "      <td>[DATA_CASELET]</td>\n",
              "      <td>'DATA_CASELET'</td>\n",
              "    </tr>\n",
              "    <tr>\n",
              "      <th>44</th>\n",
              "      <td>what number male weightlifter</td>\n",
              "      <td>[DATA_CASELET]</td>\n",
              "      <td>'DATA_CASELET'</td>\n",
              "    </tr>\n",
              "    <tr>\n",
              "      <th>45</th>\n",
              "      <td>mark english science his total mark english s...</td>\n",
              "      <td>[RATIO]</td>\n",
              "      <td>'RATIO_AND_PROPORTION'</td>\n",
              "    </tr>\n",
              "    <tr>\n",
              "      <th>46</th>\n",
              "      <td>find fourth proportional</td>\n",
              "      <td>[RATIO]</td>\n",
              "      <td>'RATIO_AND_PROPORTION'</td>\n",
              "    </tr>\n",
              "    <tr>\n",
              "      <th>47</th>\n",
              "      <td>what minimum number female athlete participat...</td>\n",
              "      <td>[DATA_CASELET]</td>\n",
              "      <td>'DATA_CASELET'</td>\n",
              "    </tr>\n",
              "    <tr>\n",
              "      <th>48</th>\n",
              "      <td>what percentage expense company year exceed a...</td>\n",
              "      <td>[DATA_CASELET]</td>\n",
              "      <td>'DATA_CASELET'</td>\n",
              "    </tr>\n",
              "    <tr>\n",
              "      <th>49</th>\n",
              "      <td>what percentage export percentage sale year</td>\n",
              "      <td>[DATA_CASELET]</td>\n",
              "      <td>'DATA_CASELET'</td>\n",
              "    </tr>\n",
              "  </tbody>\n",
              "</table>\n",
              "</div>"
            ],
            "text/plain": [
              "                                          EN Question  ...                                      Topics\n",
              "0    train speeding kmph cross train running direc...  ...                         'TIME_AND_DISTANCE'\n",
              "1    car finish journey hour speed kmph in order c...  ...                         'TIME_AND_DISTANCE'\n",
              "2    if profit selling article rs loss selling rs ...  ...                                  'AVERAGES'\n",
              "3    the average consecutive number the largest nu...  ...                                  'AVERAGES'\n",
              "4    the batting average inning cricket player run...  ...                                  'AVERAGES'\n",
              "5         the average weight if average weight weight  ...                                  'AVERAGES'\n",
              "6    fifteen movie theatre average customer theatr...  ...                                  'AVERAGES'\n",
              "7                                          rs divided  ...                      'RATIO_AND_PROPORTION'\n",
              "8    watch dealer pay custom duty watch cost rs ab...  ...                           'PROFIT_AND_LOSS'\n",
              "9    earn ratio they spend ratio save ratio if tot...  ...                      'RATIO_AND_PROPORTION'\n",
              "10   the marked price article higher cost price if...  ...                           'PROFIT_AND_LOSS'\n",
              "11   man double work boy time the number day men b...  ...                             'TIME_AND_WORK'\n",
              "12   water tap fill tub hour sink empty hour if ta...  ...                             'TIME_AND_WORK'\n",
              "13   in division sum divisor time quotient time re...  ...                               'PROBABILITY'\n",
              "14   if sum digit digit number subtracted number d...  ...                               'PROBABILITY'\n",
              "15   person row kmph water take double time upstre...  ...                         'TIME_AND_DISTANCE'\n",
              "16   person left rs divided son aged year year equ...  ...  'INTEREST', 'SIMPLE_AND_COMPOUND_INTEREST'\n",
              "17   man driving original speed reach destination ...  ...                         'TIME_AND_DISTANCE'\n",
              "18   maninder bought horse rs he sold horse gain s...  ...                           'PROFIT_AND_LOSS'\n",
              "19   jar red marble green how red marble jar marbl...  ...                                  'AVERAGES'\n",
              "20   the average mark student english exam later m...  ...                                  'AVERAGES'\n",
              "21   the average salary staff office corporate hou...  ...                                  'AVERAGES'\n",
              "22   the average number the number number then number  ...                                  'AVERAGES'\n",
              "23   the batting average inning cricketer run his ...  ...                                  'AVERAGES'\n",
              "24   an employer reduces number employee ratio inc...  ...                      'RATIO_AND_PROPORTION'\n",
              "25   earn ratio they spend ratio save ratio if tot...  ...                      'RATIO_AND_PROPORTION'\n",
              "26   while selling businessman discount marked pri...  ...                           'PROFIT_AND_LOSS'\n",
              "27   employed work rs finished work finished work ...  ...                             'TIME_AND_WORK'\n",
              "28   if divide integer remainder what remainder di...  ...                             'NUMBER_SYSTEM'\n",
              "29   what highest number divide number leave remai...  ...                             'NUMBER_SYSTEM'\n",
              "30                    how number completely divisible  ...                             'NUMBER_SYSTEM'\n",
              "31   number divided leaf remainder this number div...  ...                             'NUMBER_SYSTEM'\n",
              "32   three number ratio the difference greatest sm...  ...                      'RATIO_AND_PROPORTION'\n",
              "33   of total number ring mr gold smith designed p...  ...                              'DATA_CASELET'\n",
              "34          which maximum number gentleman pearl ring  ...                              'DATA_CASELET'\n",
              "35   income ratio income increased income increase...  ...                      'RATIO_AND_PROPORTION'\n",
              "36   how gentleman pearl ring packed lady diamond ...  ...                              'DATA_CASELET'\n",
              "37          of pack mr smith time labelled mixed pack  ...                              'DATA_CASELET'\n",
              "38          by time lady diamond ring remained single  ...                              'DATA_CASELET'\n",
              "39   by increasing price entry ticket fair ratio n...  ...                      'RATIO_AND_PROPORTION'\n",
              "40   some money divided harsh nikhil ratio they sh...  ...                      'RATIO_AND_PROPORTION'\n",
              "41   bag form rupee paisa paisa coin ratio what nu...  ...                      'RATIO_AND_PROPORTION'\n",
              "42   what total number male athlete participating ...  ...                              'DATA_CASELET'\n",
              "43             what number female table tennis player  ...                              'DATA_CASELET'\n",
              "44                      what number male weightlifter  ...                              'DATA_CASELET'\n",
              "45   mark english science his total mark english s...  ...                      'RATIO_AND_PROPORTION'\n",
              "46                           find fourth proportional  ...                      'RATIO_AND_PROPORTION'\n",
              "47   what minimum number female athlete participat...  ...                              'DATA_CASELET'\n",
              "48   what percentage expense company year exceed a...  ...                              'DATA_CASELET'\n",
              "49        what percentage export percentage sale year  ...                              'DATA_CASELET'\n",
              "\n",
              "[50 rows x 3 columns]"
            ]
          },
          "metadata": {
            "tags": []
          },
          "execution_count": 30
        }
      ]
    },
    {
      "cell_type": "code",
      "metadata": {
        "id": "N9Dsq3lwAT8k"
      },
      "source": [
        ""
      ],
      "execution_count": null,
      "outputs": []
    },
    {
      "cell_type": "code",
      "metadata": {
        "id": "lqtuWs2YfSb6"
      },
      "source": [
        "x = train_preprocessed[(train_preprocessed[\"Concepts\"] == (\"[UNDETERMINED]\"))]\n",
        "train_preprocessed = train_preprocessed.drop(x.index,axis=0)"
      ],
      "execution_count": null,
      "outputs": []
    },
    {
      "cell_type": "code",
      "metadata": {
        "id": "G-RNErYC1LKw"
      },
      "source": [
        "train_preprocessed = train_preprocessed.sample(frac=1)"
      ],
      "execution_count": null,
      "outputs": []
    },
    {
      "cell_type": "code",
      "metadata": {
        "colab": {
          "base_uri": "https://localhost:8080/",
          "height": 1000
        },
        "id": "nJrqy6xTAccr",
        "outputId": "51636fe8-1640-4118-fdf8-f729fe277147"
      },
      "source": [
        "train_preprocessed[:50]"
      ],
      "execution_count": null,
      "outputs": [
        {
          "output_type": "execute_result",
          "data": {
            "text/html": [
              "<div>\n",
              "<style scoped>\n",
              "    .dataframe tbody tr th:only-of-type {\n",
              "        vertical-align: middle;\n",
              "    }\n",
              "\n",
              "    .dataframe tbody tr th {\n",
              "        vertical-align: top;\n",
              "    }\n",
              "\n",
              "    .dataframe thead th {\n",
              "        text-align: right;\n",
              "    }\n",
              "</style>\n",
              "<table border=\"1\" class=\"dataframe\">\n",
              "  <thead>\n",
              "    <tr style=\"text-align: right;\">\n",
              "      <th></th>\n",
              "      <th>EN Question</th>\n",
              "      <th>Concepts</th>\n",
              "      <th>Topics</th>\n",
              "    </tr>\n",
              "  </thead>\n",
              "  <tbody>\n",
              "    <tr>\n",
              "      <th>13265</th>\n",
              "      <td>when jammu amp kashmir day celebrated india</td>\n",
              "      <td>[MISCELLANEOUS_GK]</td>\n",
              "      <td>'STATIC_GK'</td>\n",
              "    </tr>\n",
              "    <tr>\n",
              "      <th>901</th>\n",
              "      <td>what difference percentage mark student histo...</td>\n",
              "      <td>[DATA_TABLES]</td>\n",
              "      <td>'DATA_TABLES'</td>\n",
              "    </tr>\n",
              "    <tr>\n",
              "      <th>8555</th>\n",
              "      <td>if central coded bfmuqbk friends coded</td>\n",
              "      <td>[CODING_DECODING]</td>\n",
              "      <td>'CODING_DECODING'</td>\n",
              "    </tr>\n",
              "    <tr>\n",
              "      <th>508</th>\n",
              "      <td>which statement correct the global economic p...</td>\n",
              "      <td>[WORLD_ECONOMIC_GEOGRAPHY]</td>\n",
              "      <td>'GEOGRAPHY'</td>\n",
              "    </tr>\n",
              "    <tr>\n",
              "      <th>1061</th>\n",
              "      <td>in question sentence error if error sentence ...</td>\n",
              "      <td>[SPOT_THE_ERROR]</td>\n",
              "      <td>'SPOT_THE_ERROR'</td>\n",
              "    </tr>\n",
              "    <tr>\n",
              "      <th>24221</th>\n",
              "      <td>hibernating animal prepare winter</td>\n",
              "      <td>[COMPREHENSION_PASSAGE]</td>\n",
              "      <td>'COMPREHENSION_PASSAGE'</td>\n",
              "    </tr>\n",
              "    <tr>\n",
              "      <th>7874</th>\n",
              "      <td>square transparent sheet pattern how pattern ...</td>\n",
              "      <td>[PATTERN_FOLDING__PUNCHED_HOLE]</td>\n",
              "      <td>'PATTERN_FOLDING__PUNCHED_HOLE'</td>\n",
              "    </tr>\n",
              "    <tr>\n",
              "      <th>20588</th>\n",
              "      <td>select figure series</td>\n",
              "      <td>[FIGURAL_SERIES]</td>\n",
              "      <td>'SERIES'</td>\n",
              "    </tr>\n",
              "    <tr>\n",
              "      <th>27857</th>\n",
              "      <td>three position dice select number face opposite</td>\n",
              "      <td>[CRITICAL_THINKING]</td>\n",
              "      <td>'CRITICAL_THINKING'</td>\n",
              "    </tr>\n",
              "    <tr>\n",
              "      <th>15583</th>\n",
              "      <td>in question alternative select alternative su...</td>\n",
              "      <td>[ONE_WORD_SUBSTITUTION]</td>\n",
              "      <td>'ONE_WORD_SUBSTITUTION'</td>\n",
              "    </tr>\n",
              "    <tr>\n",
              "      <th>19467</th>\n",
              "      <td>in question word written way correctly spelt ...</td>\n",
              "      <td>[SPELLINGS]</td>\n",
              "      <td>'SPELLINGS'</td>\n",
              "    </tr>\n",
              "    <tr>\n",
              "      <th>20479</th>\n",
              "      <td>in code language slam written ohwi whatwill c...</td>\n",
              "      <td>[CODING_DECODING]</td>\n",
              "      <td>'CODING_DECODING'</td>\n",
              "    </tr>\n",
              "    <tr>\n",
              "      <th>31537</th>\n",
              "      <td>the medicine crocin analgesic antipyretic ana...</td>\n",
              "      <td>[CHEMISTRY]</td>\n",
              "      <td>'CHEMISTRY'</td>\n",
              "    </tr>\n",
              "    <tr>\n",
              "      <th>21043</th>\n",
              "      <td>which department nodal department overseeing ...</td>\n",
              "      <td>[INDIAN_ECONOMY]</td>\n",
              "      <td>'ECONOMY'</td>\n",
              "    </tr>\n",
              "    <tr>\n",
              "      <th>31278</th>\n",
              "      <td>asoka great dynasty maurya dynasty mughal dyn...</td>\n",
              "      <td>[GUPTA_DYNASTY_AND_SOUTH_INDIA__ANCIENT_INDIA]</td>\n",
              "      <td>'HISTORY'</td>\n",
              "    </tr>\n",
              "    <tr>\n",
              "      <th>19386</th>\n",
              "      <td>street seller start he push cart east turn no...</td>\n",
              "      <td>[DISTANCE_AND_DIRECTION]</td>\n",
              "      <td>'DISTANCE_AND_DIRECTION'</td>\n",
              "    </tr>\n",
              "    <tr>\n",
              "      <th>23641</th>\n",
              "      <td>select incorrectly spelt word</td>\n",
              "      <td>[SPELLINGS]</td>\n",
              "      <td>'SPELLINGS'</td>\n",
              "    </tr>\n",
              "    <tr>\n",
              "      <th>18446</th>\n",
              "      <td>who awarded german green talent award</td>\n",
              "      <td>[AWARDS]</td>\n",
              "      <td>'STATIC_GK'</td>\n",
              "    </tr>\n",
              "    <tr>\n",
              "      <th>30543</th>\n",
              "      <td>according constitution india fundamental gove...</td>\n",
              "      <td>[CONSTITUTION]</td>\n",
              "      <td>'POLITY'</td>\n",
              "    </tr>\n",
              "    <tr>\n",
              "      <th>1412</th>\n",
              "      <td>if january fall monday family average annual ...</td>\n",
              "      <td>[DATA_TABLES]</td>\n",
              "      <td>'DATA_TABLES'</td>\n",
              "    </tr>\n",
              "    <tr>\n",
              "      <th>28763</th>\n",
              "      <td>what median</td>\n",
              "      <td>[MEDIAN]</td>\n",
              "      <td>'CENTRAL_TENDENCIES', 'ELEMENTARY_STATISTICS'</td>\n",
              "    </tr>\n",
              "    <tr>\n",
              "      <th>436</th>\n",
              "      <td>in question choose word opposite meaning word...</td>\n",
              "      <td>[ANTONYMS]</td>\n",
              "      <td>'ANTONYMS'</td>\n",
              "    </tr>\n",
              "    <tr>\n",
              "      <th>23413</th>\n",
              "      <td>in code language represents represents repres...</td>\n",
              "      <td>[MATHEMATICAL_OPERATIONS]</td>\n",
              "      <td>'MATHEMATICAL_OPERATIONS'</td>\n",
              "    </tr>\n",
              "    <tr>\n",
              "      <th>24530</th>\n",
              "      <td>which veda sacrificial rutuals</td>\n",
              "      <td>[ANCIENT_HISTORY]</td>\n",
              "      <td>'HISTORY'</td>\n",
              "    </tr>\n",
              "    <tr>\n",
              "      <th>13355</th>\n",
              "      <td>three phone left space mb gb kb which capacity</td>\n",
              "      <td>[CRITICAL_THINKING]</td>\n",
              "      <td>'CRITICAL_THINKING'</td>\n",
              "    </tr>\n",
              "    <tr>\n",
              "      <th>20096</th>\n",
              "      <td>in question select odd letter letter alternative</td>\n",
              "      <td>[ODD_ONE_OUT__REASONING]</td>\n",
              "      <td>'SIMILARITIES_AND_DIFFERENCES'</td>\n",
              "    </tr>\n",
              "    <tr>\n",
              "      <th>19850</th>\n",
              "      <td>leela samson classical dance style</td>\n",
              "      <td>[FAMOUS_PERSONALITIES]</td>\n",
              "      <td>'STATIC_GK'</td>\n",
              "    </tr>\n",
              "    <tr>\n",
              "      <th>22779</th>\n",
              "      <td>if mirror mn answer figure image figure</td>\n",
              "      <td>[MIRROR_IMAGE]</td>\n",
              "      <td>'MIRROR_IMAGE'</td>\n",
              "    </tr>\n",
              "    <tr>\n",
              "      <th>29261</th>\n",
              "      <td>who woman tennis player golf tournament</td>\n",
              "      <td>[GAMES_AND_SPORTS__CURRENT_AFFAIRS]</td>\n",
              "      <td>'CURRENT_AFFAIRS'</td>\n",
              "    </tr>\n",
              "    <tr>\n",
              "      <th>132</th>\n",
              "      <td>at school student awarded grade student grade...</td>\n",
              "      <td>[NUMBER_SYSTEM_BASICS]</td>\n",
              "      <td>'NUMBER_SYSTEM'</td>\n",
              "    </tr>\n",
              "    <tr>\n",
              "      <th>25303</th>\n",
              "      <td>in figure abc θ measure angle</td>\n",
              "      <td>[TRIANGLES]</td>\n",
              "      <td>'GEOMETRY'</td>\n",
              "    </tr>\n",
              "    <tr>\n",
              "      <th>17560</th>\n",
              "      <td>in question alternative select alternative ex...</td>\n",
              "      <td>[IDIOMS_AND_PHRASES]</td>\n",
              "      <td>'IDIOMS_AND_PHRASES'</td>\n",
              "    </tr>\n",
              "    <tr>\n",
              "      <th>26920</th>\n",
              "      <td>who founder mughal empire</td>\n",
              "      <td>[MUGHALS__MEDIEVAL_INDIA]</td>\n",
              "      <td>'HISTORY'</td>\n",
              "    </tr>\n",
              "    <tr>\n",
              "      <th>27990</th>\n",
              "      <td>select correct indirect form sentence vishnu ...</td>\n",
              "      <td>[DIRECT__INDIRECT_NARRATION]</td>\n",
              "      <td>'DIRECT__INDIRECT_NARRATION'</td>\n",
              "    </tr>\n",
              "    <tr>\n",
              "      <th>27132</th>\n",
              "      <td>in question statement conclusion ii you state...</td>\n",
              "      <td>[SYLLOGISM]</td>\n",
              "      <td>'SYLLOGISM'</td>\n",
              "    </tr>\n",
              "    <tr>\n",
              "      <th>24290</th>\n",
              "      <td>if true discount sum year annum rs sum</td>\n",
              "      <td>[SIMPLE_INTEREST]</td>\n",
              "      <td>'INTEREST', 'SIMPLE_AND_COMPOUND_INTEREST'</td>\n",
              "    </tr>\n",
              "    <tr>\n",
              "      <th>1802</th>\n",
              "      <td>which physical quantity unit</td>\n",
              "      <td>[PHYSICS]</td>\n",
              "      <td>'PHYSICS'</td>\n",
              "    </tr>\n",
              "    <tr>\n",
              "      <th>13061</th>\n",
              "      <td>in question select word alternative phycology...</td>\n",
              "      <td>[SEMANTIC_ANALOGY]</td>\n",
              "      <td>'ANALOGY'</td>\n",
              "    </tr>\n",
              "    <tr>\n",
              "      <th>27199</th>\n",
              "      <td>growing by</td>\n",
              "      <td>[CLOZE_TEST]</td>\n",
              "      <td>'CLOZE_TEST'</td>\n",
              "    </tr>\n",
              "    <tr>\n",
              "      <th>8166</th>\n",
              "      <td>choose option closely resembles mirror image ...</td>\n",
              "      <td>[MIRROR_IMAGE]</td>\n",
              "      <td>'MIRROR_IMAGE'</td>\n",
              "    </tr>\n",
              "    <tr>\n",
              "      <th>28553</th>\n",
              "      <td>what average number students studying economi...</td>\n",
              "      <td>[DI_TABULAR]</td>\n",
              "      <td>'DATA_INTERPRETATION'</td>\n",
              "    </tr>\n",
              "    <tr>\n",
              "      <th>28921</th>\n",
              "      <td>india station north pole</td>\n",
              "      <td>[SCIENTIFIC_DEVELOPMENTS]</td>\n",
              "      <td>'SCIENCE_AND_TECHNOLOGY'</td>\n",
              "    </tr>\n",
              "    <tr>\n",
              "      <th>21079</th>\n",
              "      <td>in code language written koj mor soj written ...</td>\n",
              "      <td>[CODING_DECODING]</td>\n",
              "      <td>'CODING_DECODING'</td>\n",
              "    </tr>\n",
              "    <tr>\n",
              "      <th>25878</th>\n",
              "      <td>find answer question mark completes series al...</td>\n",
              "      <td>[FIGURAL_SERIES]</td>\n",
              "      <td>'SERIES'</td>\n",
              "    </tr>\n",
              "    <tr>\n",
              "      <th>7649</th>\n",
              "      <td>arrange event correct chronology champaran sa...</td>\n",
              "      <td>[FREEDOM_STRUGGLE]</td>\n",
              "      <td>'HISTORY'</td>\n",
              "    </tr>\n",
              "    <tr>\n",
              "      <th>17867</th>\n",
              "      <td>in code language friend honest written lip ho...</td>\n",
              "      <td>[CODING_DECODING]</td>\n",
              "      <td>'CODING_DECODING'</td>\n",
              "    </tr>\n",
              "    <tr>\n",
              "      <th>13614</th>\n",
              "      <td>who muslim lady rule india</td>\n",
              "      <td>[DELHI_SULTANATE]</td>\n",
              "      <td>'HISTORY'</td>\n",
              "    </tr>\n",
              "    <tr>\n",
              "      <th>16836</th>\n",
              "      <td>minjar mela popular fair state</td>\n",
              "      <td>[MISCELLANEOUS_GK]</td>\n",
              "      <td>'STATIC_GK'</td>\n",
              "    </tr>\n",
              "    <tr>\n",
              "      <th>29235</th>\n",
              "      <td>if train run reach destination min late but r...</td>\n",
              "      <td>[TRAIN_PROBLEM]</td>\n",
              "      <td>'TIME_AND_DISTANCE'</td>\n",
              "    </tr>\n",
              "    <tr>\n",
              "      <th>24446</th>\n",
              "      <td>in answer figure complete pattern question fi...</td>\n",
              "      <td>[PATTERN_FOLDING__PUNCHED_HOLE]</td>\n",
              "      <td>'PATTERN_FOLDING__PUNCHED_HOLE'</td>\n",
              "    </tr>\n",
              "  </tbody>\n",
              "</table>\n",
              "</div>"
            ],
            "text/plain": [
              "                                             EN Question  ...                                         Topics\n",
              "13265        when jammu amp kashmir day celebrated india  ...                                    'STATIC_GK'\n",
              "901     what difference percentage mark student histo...  ...                                  'DATA_TABLES'\n",
              "8555              if central coded bfmuqbk friends coded  ...                              'CODING_DECODING'\n",
              "508     which statement correct the global economic p...  ...                                    'GEOGRAPHY'\n",
              "1061    in question sentence error if error sentence ...  ...                               'SPOT_THE_ERROR'\n",
              "24221                  hibernating animal prepare winter  ...                        'COMPREHENSION_PASSAGE'\n",
              "7874    square transparent sheet pattern how pattern ...  ...                'PATTERN_FOLDING__PUNCHED_HOLE'\n",
              "20588                               select figure series  ...                                       'SERIES'\n",
              "27857    three position dice select number face opposite  ...                            'CRITICAL_THINKING'\n",
              "15583   in question alternative select alternative su...  ...                        'ONE_WORD_SUBSTITUTION'\n",
              "19467   in question word written way correctly spelt ...  ...                                    'SPELLINGS'\n",
              "20479   in code language slam written ohwi whatwill c...  ...                              'CODING_DECODING'\n",
              "31537   the medicine crocin analgesic antipyretic ana...  ...                                    'CHEMISTRY'\n",
              "21043   which department nodal department overseeing ...  ...                                      'ECONOMY'\n",
              "31278   asoka great dynasty maurya dynasty mughal dyn...  ...                                      'HISTORY'\n",
              "19386   street seller start he push cart east turn no...  ...                       'DISTANCE_AND_DIRECTION'\n",
              "23641                      select incorrectly spelt word  ...                                    'SPELLINGS'\n",
              "18446              who awarded german green talent award  ...                                    'STATIC_GK'\n",
              "30543   according constitution india fundamental gove...  ...                                       'POLITY'\n",
              "1412    if january fall monday family average annual ...  ...                                  'DATA_TABLES'\n",
              "28763                                        what median  ...  'CENTRAL_TENDENCIES', 'ELEMENTARY_STATISTICS'\n",
              "436     in question choose word opposite meaning word...  ...                                     'ANTONYMS'\n",
              "23413   in code language represents represents repres...  ...                      'MATHEMATICAL_OPERATIONS'\n",
              "24530                     which veda sacrificial rutuals  ...                                      'HISTORY'\n",
              "13355     three phone left space mb gb kb which capacity  ...                            'CRITICAL_THINKING'\n",
              "20096   in question select odd letter letter alternative  ...                 'SIMILARITIES_AND_DIFFERENCES'\n",
              "19850                 leela samson classical dance style  ...                                    'STATIC_GK'\n",
              "22779            if mirror mn answer figure image figure  ...                                 'MIRROR_IMAGE'\n",
              "29261            who woman tennis player golf tournament  ...                              'CURRENT_AFFAIRS'\n",
              "132     at school student awarded grade student grade...  ...                                'NUMBER_SYSTEM'\n",
              "25303                      in figure abc θ measure angle  ...                                     'GEOMETRY'\n",
              "17560   in question alternative select alternative ex...  ...                           'IDIOMS_AND_PHRASES'\n",
              "26920                          who founder mughal empire  ...                                      'HISTORY'\n",
              "27990   select correct indirect form sentence vishnu ...  ...                   'DIRECT__INDIRECT_NARRATION'\n",
              "27132   in question statement conclusion ii you state...  ...                                    'SYLLOGISM'\n",
              "24290             if true discount sum year annum rs sum  ...     'INTEREST', 'SIMPLE_AND_COMPOUND_INTEREST'\n",
              "1802                        which physical quantity unit  ...                                      'PHYSICS'\n",
              "13061   in question select word alternative phycology...  ...                                      'ANALOGY'\n",
              "27199                                         growing by  ...                                   'CLOZE_TEST'\n",
              "8166    choose option closely resembles mirror image ...  ...                                 'MIRROR_IMAGE'\n",
              "28553   what average number students studying economi...  ...                          'DATA_INTERPRETATION'\n",
              "28921                           india station north pole  ...                       'SCIENCE_AND_TECHNOLOGY'\n",
              "21079   in code language written koj mor soj written ...  ...                              'CODING_DECODING'\n",
              "25878   find answer question mark completes series al...  ...                                       'SERIES'\n",
              "7649    arrange event correct chronology champaran sa...  ...                                      'HISTORY'\n",
              "17867   in code language friend honest written lip ho...  ...                              'CODING_DECODING'\n",
              "13614                         who muslim lady rule india  ...                                      'HISTORY'\n",
              "16836                     minjar mela popular fair state  ...                                    'STATIC_GK'\n",
              "29235   if train run reach destination min late but r...  ...                            'TIME_AND_DISTANCE'\n",
              "24446   in answer figure complete pattern question fi...  ...                'PATTERN_FOLDING__PUNCHED_HOLE'\n",
              "\n",
              "[50 rows x 3 columns]"
            ]
          },
          "metadata": {
            "tags": []
          },
          "execution_count": 37
        }
      ]
    },
    {
      "cell_type": "code",
      "metadata": {
        "colab": {
          "base_uri": "https://localhost:8080/"
        },
        "id": "z1eihox31iDO",
        "outputId": "54f85fa0-662c-4882-ac57-4033942dd068"
      },
      "source": [
        "len(train_preprocessed)"
      ],
      "execution_count": null,
      "outputs": [
        {
          "output_type": "execute_result",
          "data": {
            "text/plain": [
              "19484"
            ]
          },
          "metadata": {
            "tags": []
          },
          "execution_count": 38
        }
      ]
    },
    {
      "cell_type": "code",
      "metadata": {
        "colab": {
          "base_uri": "https://localhost:8080/"
        },
        "id": "Y74kGQCAf3w8",
        "outputId": "2e26591b-f5ae-4716-b4a0-7946ca7a4441"
      },
      "source": [
        "# Splitting Data \n",
        "\n",
        "\n",
        "from sklearn.model_selection import train_test_split\n",
        "Train_Data,Val_Data = train_test_split(train_preprocessed,test_size=0.1,random_state =72)"
      ],
      "execution_count": null,
      "outputs": [
        {
          "output_type": "stream",
          "text": [
            "17535 1949\n"
          ],
          "name": "stdout"
        }
      ]
    },
    {
      "cell_type": "code",
      "metadata": {
        "id": "AwE5HfQWKaGO"
      },
      "source": [
        "Train_Data_Topics = Train_Data"
      ],
      "execution_count": null,
      "outputs": []
    },
    {
      "cell_type": "code",
      "metadata": {
        "id": "jXGGEzUIICVM"
      },
      "source": [
        "Train_Data_Concepts = Train_Data"
      ],
      "execution_count": null,
      "outputs": []
    },
    {
      "cell_type": "code",
      "metadata": {
        "colab": {
          "base_uri": "https://localhost:8080/"
        },
        "id": "evn9glh3_5Mu",
        "outputId": "a7981749-42b8-47fe-eeb7-612d6795b2ed"
      },
      "source": [
        "len(Train_Data.Concepts.value_counts())"
      ],
      "execution_count": null,
      "outputs": [
        {
          "output_type": "execute_result",
          "data": {
            "text/plain": [
              "185"
            ]
          },
          "metadata": {
            "tags": []
          },
          "execution_count": 42
        }
      ]
    },
    {
      "cell_type": "code",
      "metadata": {
        "colab": {
          "base_uri": "https://localhost:8080/"
        },
        "id": "5krln11UBhjr",
        "outputId": "0591ce32-c995-44ca-a202-807078b2651e"
      },
      "source": [
        "maxx = -1\n",
        "for index, row in Train_Data.iterrows():\n",
        "    sentence = row[\"EN Question\"]\n",
        "    words = sentence.split()\n",
        "    maxx = max(maxx, len(words))\n",
        "\n",
        "print(maxx)"
      ],
      "execution_count": null,
      "outputs": [
        {
          "output_type": "stream",
          "text": [
            "107\n"
          ],
          "name": "stdout"
        }
      ]
    },
    {
      "cell_type": "markdown",
      "metadata": {
        "id": "fa990JdACYXh"
      },
      "source": [
        "LOADING THE DATA FROM DATAFRAME"
      ]
    },
    {
      "cell_type": "code",
      "metadata": {
        "colab": {
          "base_uri": "https://localhost:8080/",
          "height": 609
        },
        "id": "e3ZJHeN7GcdD",
        "outputId": "dcbd1626-f42d-407b-9d41-73d9ed834227"
      },
      "source": [
        "(X_train, y_train), (X_test, y_test), preprocess = text.texts_from_df(train_df= Train_Data_Concepts, \n",
        "                                                                      text_column = 'EN Question',\n",
        "                                                                      label_columns = 'Concepts',\n",
        "                                                                      maxlen = 128,\n",
        "                                                                      preprocess_mode = 'bert')"
      ],
      "execution_count": null,
      "outputs": [
        {
          "output_type": "stream",
          "text": [
            "['[ACTIVE_PASSIVE_VOICE]', '[ACTIVE_PASSIVE_VOICE__WORD_REPLACEMENT]', '[ADDITION_SUBTRACTION]', '[AGE_PROBLEM]', '[ALGEBRAIC_EQUATIONS]', '[ALGEBRAIC_EXPRESSIONS]', '[ALGEBRAIC_FORMULAS]', '[ALPHABET_ANALOGY]', '[ANALOGY]', '[ANALYTICAL_REASONING]', '[ANCIENT_HISTORY]', '[ANGLES]', '[ANTONYMS]', '[AP_GP]', '[ARRANGEMENT__PUZZLE]', '[ARTICLES__SPOT_THE_ERROR]', '[ART_AND_CULTURE_OF_INDIA]', '[AUTHORS_AND_BOOKS]', '[AVERAGES]', '[AVERAGE_SPEED]', '[AWARDS]', '[BAR_GRAPH]', '[BASIC_ECONOMICS]', '[BIOLOGY]', '[BLOOD_RELATION]', '[BOAT_AND_STREAM]', '[BODMAS]', '[BUDDHISM_AND_JAINISM__ANCIENT_INDIA]', '[CENSUS]', '[CHEMISTRY]', '[CIRCLE]', '[CLOZE_TEST]', '[CNN]', '[CODED_INEQUALITIES]', '[CODING_DECODING]', '[COMPLETE_THE_SERIES]', '[COMPOUND_INTEREST]', '[COMPREHENSION_PASSAGE]', '[COMPUTERS]', '[CONSTITUTION]', '[COORDINATE_GEOMETRY]', '[CORRELATION]', '[COST_PRICE_SELLING_PRICE]', '[COUNTING_FIGURES]', '[CRITICAL_THINKING]', '[CURRENT_EVENTS_OF_NATIONAL_AND_INTERNATIONAL_IMPORTANCE]', '[DATA_CASELET]', '[DATA_SUFFICIENCY]', '[DATA_TABLES]', '[DECIMAL_AND_FRACTIONS]', '[DECISION_TREES]', '[DELHI_SULTANATE]', '[DICTIONARY_ORDER__REASONING]', '[DIRECT__INDIRECT_NARRATION]', '[DISCOUNT_PROBLEMS]', '[DISTANCE_AND_DIRECTION]', '[DIVISIBILITY]', '[DIVISIBILITY_PROBLEMS]', '[DIVISION_MULTIPLICATION]', '[DI_TABULAR]', '[EARTH_AND_ITS_ATMOSPHERE]', '[ECONOMY__CURRENT_AFFAIRS]', '[EFFICIENCY_PROBLEM]', '[EMBEDDED_FIGURES]', '[ENERGY]', '[ENVIRONMENTAL_AND_ECOLOGY]', '[ENVIRONMENTAL_ISSUES]', '[FAMOUS_PERSONALITIES]', '[FIGURAL_SERIES]', '[FIGURE_ANALOGY]', '[FILL_IN_THE_BLANKS]', '[FIRSTS]', '[FLAGSHIP_GOVERNMENT_PROGRAMS]', '[FREEDOM_STRUGGLE]', '[GAMES_AND_SPORTS]', '[GAMES_AND_SPORTS__CURRENT_AFFAIRS]', '[GAUSSIAN_DISTRIBUTION]', '[GRAMMAR]', '[GRAMMAR__PHRASE_REPLACEMENT]', '[GUPTA_DYNASTY_AND_SOUTH_INDIA__ANCIENT_INDIA]', '[HCF]', '[HEIGHT_AND_DISTANCE]', '[HISTOGRAM]', '[IDIOMS_AND_PHRASES]', '[IMPORTANT_DATES]', '[IMPORTANT_GOVERNMENT_AND_PUBLIC_SECTOR_ORGANIZATIONS_OF_INDIA]', '[INC__MODERN_INDIA]', '[INDIAN_ECONOMIC_GEOGRAPHY]', '[INDIAN_ECONOMY]', '[INDIAN_LITERATURE]', '[INDIAN_PHYSICAL_GEOGRAPHY]', '[INDIA_AFTER_INDEPENDENCE__MODERN_INDIA]', '[INDUS_VALLEY_CIVILIZATION__ANCIENT_INDIA]', '[INFERENCE__COMPREHENSION_PASSAGE]', '[KERNELS]', '[K_NEAREST_NEIGHBORS]', '[LCM]', '[LINEAR_REGRESSION]', '[LOGISTIC_REGRESSION]', '[MATHEMATICAL_OPERATIONS]', '[MEAN]', '[MEDIAN]', '[MILK_AND_WATER_PROBLEM]', '[MIRROR_IMAGE]', '[MISCELLANEOUS_GK]', '[MISCELLANEOUS__CURRENT_AFFAIRS]', '[MISCELLANEOUS__REASONING]', '[MIXED_SERIES]', '[MIXTURES_AND_ALLEGATIONS]', '[MIX_PROBLEM__INTEREST]', '[MODE]', '[MONUMENTS_AND_PLACES_OF_INDIA]', '[MOUNTAINS]', '[MUGHALS__MEDIEVAL_INDIA]', '[NATIONAL_PARKS_WILDLIFE_SANCTUARY]', '[NATURAL_DISASTERS]', '[NUMBER_ANALOGY]', '[NUMBER_SYSTEM_BASICS]', '[ODD_ONE_OUT__REASONING]', '[ODD_TERM_IN_SERIES]', '[ONE_WORD_SUBSTITUTION]', '[PARA_JUMBLE]', '[PARTITION_OF_BENGAL__MODERN_INDIA]', '[PATTERN_FOLDING__PUNCHED_HOLE]', '[PERCENTAGE]', '[PERCENTAGE_CHANGE]', '[PERFECT_SQUARE]', '[PERIMETER_AREA_OF_2D_SHAPES]', '[PHRASE_REPLACEMENT]', '[PHYSICS]', '[PIE_CHART]', '[PIPE_AND_CISTERN]', '[POLITICAL_SYSTEM_OF_INDIA]', '[POLITY__CURRENT_AFFAIRS]', '[POLYGON]', '[PROBABILITY_WITHOUT_REPLACEMENT]', '[PROBABILITY_WITH_REPLACEMENT]', '[PROBLEM_SOLVING]', '[PROFIT_LOSS_PERCENTAGE]', '[PROPORTION]', '[QUADRATIC_EQUATIONS]', '[QUADRILATERALS]', '[RANDOM_FOREST]', '[RATIONAL_NUMBER]', '[RATIO]', '[REVOLT_OF_1857__MODERN_INDIA]', '[RIVERS]', '[SCIENCE_AND_TECHNOLOGY__CURRENT_AFFAIRS]', '[SCIENTIFIC_DEVELOPMENTS]', '[SEATING_ARRANGEMENT]', '[SEMANTIC_ANALOGY]', '[SEMANTIC_ANALYSIS]', '[SENTENCE_IMPROVEMENT]', '[SIMPLE_AVERAGE]', '[SIMPLE_EQUATIONS]', '[SIMPLE_INTEREST]', '[SOCIAL_AND_ECONOMIC_GEOGRAPHY_OF_INDIA_AND_WORLD]', '[SPEED_TIME_AND_DISTANCE]', '[SPELLINGS]', '[SPOT_THE_ERROR]', '[STATEMENT_AND_ASSUMPTION]', '[STATEMENT_AND_CONCLUSION]', '[SUBJECT_VERB_AGREEMENT__SPOT_THE_ERROR]', '[SUBJECT_VERB_AGREEMENT__WORD_REPLACEMENT]', '[SUPPORT_VECTOR_MACHINES]', '[SURDS_AND_INDICES]', '[SURFACE_AREA_VOLUME_OF_3D_SHAPES]', '[SYLLOGISM]', '[SYNONYMS]', '[TABLE]', '[TIME_AND_WORK]', '[TRAIN_PROBLEM]', '[TRANSPORT_SYSTEM_IN_INDIA]', '[TRIANGLES]', '[TRIGONOMETRY]', '[UNIVERSE_AND_SOLAR_SYSTEM]', '[UN_AND_OTHER_IMPORTANT_WORLD_ORGANIZATIONS]', '[VEDIC_AGE__ANCIENT_INDIA]', '[VENN_DIAGRAMS]', '[VENN_DIAGRAM]', '[VOCABULARY]', '[VOCABULARY__COMPREHENSION_PASSAGE]', '[VOCABULARY__FILL_IN_THE_BLANKS]', '[WORLD_ECONOMIC_GEOGRAPHY]', '[WORLD_GEOGRAPHY]']\n",
            "       [ACTIVE_PASSIVE_VOICE]  ...  [WORLD_GEOGRAPHY]\n",
            "21112                     0.0  ...                0.0\n",
            "1546                      0.0  ...                0.0\n",
            "21616                     0.0  ...                0.0\n",
            "22350                     0.0  ...                0.0\n",
            "27113                     0.0  ...                0.0\n",
            "\n",
            "[5 rows x 185 columns]\n",
            "['[ACTIVE_PASSIVE_VOICE]', '[ACTIVE_PASSIVE_VOICE__WORD_REPLACEMENT]', '[ADDITION_SUBTRACTION]', '[AGE_PROBLEM]', '[ALGEBRAIC_EQUATIONS]', '[ALGEBRAIC_EXPRESSIONS]', '[ALGEBRAIC_FORMULAS]', '[ALPHABET_ANALOGY]', '[ANALOGY]', '[ANALYTICAL_REASONING]', '[ANCIENT_HISTORY]', '[ANGLES]', '[ANTONYMS]', '[AP_GP]', '[ARRANGEMENT__PUZZLE]', '[ARTICLES__SPOT_THE_ERROR]', '[ART_AND_CULTURE_OF_INDIA]', '[AUTHORS_AND_BOOKS]', '[AVERAGES]', '[AVERAGE_SPEED]', '[AWARDS]', '[BAR_GRAPH]', '[BASIC_ECONOMICS]', '[BIOLOGY]', '[BLOOD_RELATION]', '[BOAT_AND_STREAM]', '[BODMAS]', '[BUDDHISM_AND_JAINISM__ANCIENT_INDIA]', '[CENSUS]', '[CHEMISTRY]', '[CIRCLE]', '[CLOZE_TEST]', '[CNN]', '[CODED_INEQUALITIES]', '[CODING_DECODING]', '[COMPLETE_THE_SERIES]', '[COMPOUND_INTEREST]', '[COMPREHENSION_PASSAGE]', '[COMPUTERS]', '[CONSTITUTION]', '[COORDINATE_GEOMETRY]', '[CORRELATION]', '[COST_PRICE_SELLING_PRICE]', '[COUNTING_FIGURES]', '[CRITICAL_THINKING]', '[CURRENT_EVENTS_OF_NATIONAL_AND_INTERNATIONAL_IMPORTANCE]', '[DATA_CASELET]', '[DATA_SUFFICIENCY]', '[DATA_TABLES]', '[DECIMAL_AND_FRACTIONS]', '[DECISION_TREES]', '[DELHI_SULTANATE]', '[DICTIONARY_ORDER__REASONING]', '[DIRECT__INDIRECT_NARRATION]', '[DISCOUNT_PROBLEMS]', '[DISTANCE_AND_DIRECTION]', '[DIVISIBILITY]', '[DIVISIBILITY_PROBLEMS]', '[DIVISION_MULTIPLICATION]', '[DI_TABULAR]', '[EARTH_AND_ITS_ATMOSPHERE]', '[ECONOMY__CURRENT_AFFAIRS]', '[EFFICIENCY_PROBLEM]', '[EMBEDDED_FIGURES]', '[ENERGY]', '[ENVIRONMENTAL_AND_ECOLOGY]', '[ENVIRONMENTAL_ISSUES]', '[FAMOUS_PERSONALITIES]', '[FIGURAL_SERIES]', '[FIGURE_ANALOGY]', '[FILL_IN_THE_BLANKS]', '[FIRSTS]', '[FLAGSHIP_GOVERNMENT_PROGRAMS]', '[FREEDOM_STRUGGLE]', '[GAMES_AND_SPORTS]', '[GAMES_AND_SPORTS__CURRENT_AFFAIRS]', '[GAUSSIAN_DISTRIBUTION]', '[GRAMMAR]', '[GRAMMAR__PHRASE_REPLACEMENT]', '[GUPTA_DYNASTY_AND_SOUTH_INDIA__ANCIENT_INDIA]', '[HCF]', '[HEIGHT_AND_DISTANCE]', '[HISTOGRAM]', '[IDIOMS_AND_PHRASES]', '[IMPORTANT_DATES]', '[IMPORTANT_GOVERNMENT_AND_PUBLIC_SECTOR_ORGANIZATIONS_OF_INDIA]', '[INC__MODERN_INDIA]', '[INDIAN_ECONOMIC_GEOGRAPHY]', '[INDIAN_ECONOMY]', '[INDIAN_LITERATURE]', '[INDIAN_PHYSICAL_GEOGRAPHY]', '[INDIA_AFTER_INDEPENDENCE__MODERN_INDIA]', '[INDUS_VALLEY_CIVILIZATION__ANCIENT_INDIA]', '[INFERENCE__COMPREHENSION_PASSAGE]', '[KERNELS]', '[K_NEAREST_NEIGHBORS]', '[LCM]', '[LINEAR_REGRESSION]', '[LOGISTIC_REGRESSION]', '[MATHEMATICAL_OPERATIONS]', '[MEAN]', '[MEDIAN]', '[MILK_AND_WATER_PROBLEM]', '[MIRROR_IMAGE]', '[MISCELLANEOUS_GK]', '[MISCELLANEOUS__CURRENT_AFFAIRS]', '[MISCELLANEOUS__REASONING]', '[MIXED_SERIES]', '[MIXTURES_AND_ALLEGATIONS]', '[MIX_PROBLEM__INTEREST]', '[MODE]', '[MONUMENTS_AND_PLACES_OF_INDIA]', '[MOUNTAINS]', '[MUGHALS__MEDIEVAL_INDIA]', '[NATIONAL_PARKS_WILDLIFE_SANCTUARY]', '[NATURAL_DISASTERS]', '[NUMBER_ANALOGY]', '[NUMBER_SYSTEM_BASICS]', '[ODD_ONE_OUT__REASONING]', '[ODD_TERM_IN_SERIES]', '[ONE_WORD_SUBSTITUTION]', '[PARA_JUMBLE]', '[PARTITION_OF_BENGAL__MODERN_INDIA]', '[PATTERN_FOLDING__PUNCHED_HOLE]', '[PERCENTAGE]', '[PERCENTAGE_CHANGE]', '[PERFECT_SQUARE]', '[PERIMETER_AREA_OF_2D_SHAPES]', '[PHRASE_REPLACEMENT]', '[PHYSICS]', '[PIE_CHART]', '[PIPE_AND_CISTERN]', '[POLITICAL_SYSTEM_OF_INDIA]', '[POLITY__CURRENT_AFFAIRS]', '[POLYGON]', '[PROBABILITY_WITHOUT_REPLACEMENT]', '[PROBABILITY_WITH_REPLACEMENT]', '[PROBLEM_SOLVING]', '[PROFIT_LOSS_PERCENTAGE]', '[PROPORTION]', '[QUADRATIC_EQUATIONS]', '[QUADRILATERALS]', '[RANDOM_FOREST]', '[RATIONAL_NUMBER]', '[RATIO]', '[REVOLT_OF_1857__MODERN_INDIA]', '[RIVERS]', '[SCIENCE_AND_TECHNOLOGY__CURRENT_AFFAIRS]', '[SCIENTIFIC_DEVELOPMENTS]', '[SEATING_ARRANGEMENT]', '[SEMANTIC_ANALOGY]', '[SEMANTIC_ANALYSIS]', '[SENTENCE_IMPROVEMENT]', '[SIMPLE_AVERAGE]', '[SIMPLE_EQUATIONS]', '[SIMPLE_INTEREST]', '[SOCIAL_AND_ECONOMIC_GEOGRAPHY_OF_INDIA_AND_WORLD]', '[SPEED_TIME_AND_DISTANCE]', '[SPELLINGS]', '[SPOT_THE_ERROR]', '[STATEMENT_AND_ASSUMPTION]', '[STATEMENT_AND_CONCLUSION]', '[SUBJECT_VERB_AGREEMENT__SPOT_THE_ERROR]', '[SUBJECT_VERB_AGREEMENT__WORD_REPLACEMENT]', '[SUPPORT_VECTOR_MACHINES]', '[SURDS_AND_INDICES]', '[SURFACE_AREA_VOLUME_OF_3D_SHAPES]', '[SYLLOGISM]', '[SYNONYMS]', '[TABLE]', '[TIME_AND_WORK]', '[TRAIN_PROBLEM]', '[TRANSPORT_SYSTEM_IN_INDIA]', '[TRIANGLES]', '[TRIGONOMETRY]', '[UNIVERSE_AND_SOLAR_SYSTEM]', '[UN_AND_OTHER_IMPORTANT_WORLD_ORGANIZATIONS]', '[VEDIC_AGE__ANCIENT_INDIA]', '[VENN_DIAGRAMS]', '[VENN_DIAGRAM]', '[VOCABULARY]', '[VOCABULARY__COMPREHENSION_PASSAGE]', '[VOCABULARY__FILL_IN_THE_BLANKS]', '[WORLD_ECONOMIC_GEOGRAPHY]', '[WORLD_GEOGRAPHY]']\n",
            "       [ACTIVE_PASSIVE_VOICE]  ...  [WORLD_GEOGRAPHY]\n",
            "13928                     0.0  ...                0.0\n",
            "26312                     0.0  ...                0.0\n",
            "19745                     0.0  ...                0.0\n",
            "16292                     0.0  ...                0.0\n",
            "22798                     0.0  ...                0.0\n",
            "\n",
            "[5 rows x 185 columns]\n",
            "downloading pretrained BERT model (uncased_L-12_H-768_A-12.zip)...\n",
            "[██████████████████████████████████████████████████]\n",
            "extracting pretrained BERT model...\n",
            "done.\n",
            "\n",
            "cleanup downloaded zip...\n",
            "done.\n",
            "\n",
            "preprocessing train...\n",
            "language: en\n"
          ],
          "name": "stdout"
        },
        {
          "output_type": "display_data",
          "data": {
            "text/html": [
              "done."
            ],
            "text/plain": [
              "<IPython.core.display.HTML object>"
            ]
          },
          "metadata": {
            "tags": []
          }
        },
        {
          "output_type": "stream",
          "text": [
            "Is Multi-Label? False\n",
            "preprocessing test...\n",
            "language: en\n"
          ],
          "name": "stdout"
        },
        {
          "output_type": "display_data",
          "data": {
            "text/html": [
              "done."
            ],
            "text/plain": [
              "<IPython.core.display.HTML object>"
            ]
          },
          "metadata": {
            "tags": []
          }
        }
      ]
    },
    {
      "cell_type": "markdown",
      "metadata": {
        "id": "MxvBlTNGCgiH"
      },
      "source": [
        "CREATING ,LOADING A MODEL"
      ]
    },
    {
      "cell_type": "code",
      "metadata": {
        "colab": {
          "base_uri": "https://localhost:8080/"
        },
        "id": "CGVfy151G5Ym",
        "outputId": "6a4f3675-885d-45ed-8faf-fe8e96580612"
      },
      "source": [
        "model = text.text_classifier(name= 'bert',\n",
        "                             train_data= (X_train, y_train),\n",
        "                             preproc = preprocess)"
      ],
      "execution_count": null,
      "outputs": [
        {
          "output_type": "stream",
          "text": [
            "Is Multi-Label? False\n",
            "maxlen is 128\n",
            "done.\n"
          ],
          "name": "stdout"
        }
      ]
    },
    {
      "cell_type": "markdown",
      "metadata": {
        "id": "9o6zdQVLFEP7"
      },
      "source": [
        "Load BERT and wrap it in a Learner object"
      ]
    },
    {
      "cell_type": "code",
      "metadata": {
        "id": "0jubqD68LZAj"
      },
      "source": [
        "learner = ktrain.get_learner(model = model,\n",
        "                             train_data = (X_train, y_train),\n",
        "                             val_data = (X_test, y_test),\n",
        "                             batch_size = 18)"
      ],
      "execution_count": null,
      "outputs": []
    },
    {
      "cell_type": "markdown",
      "metadata": {
        "id": "HDsEdXy4RgNv"
      },
      "source": [
        "Trained for 5 epochs 2 at a time "
      ]
    },
    {
      "cell_type": "code",
      "metadata": {
        "colab": {
          "base_uri": "https://localhost:8080/"
        },
        "id": "kXHUExAfQWoC",
        "outputId": "4115c036-9ed9-4aae-e7c0-f714a66ed258"
      },
      "source": [
        "learner.fit_onecycle(lr = 2e-5, epochs = 5)"
      ],
      "execution_count": null,
      "outputs": [
        {
          "output_type": "stream",
          "text": [
            "\n",
            "\n",
            "begin training using onecycle policy with max lr of 2e-05...\n",
            "Epoch 1/5\n",
            "877/877 [==============================] - 609s 695ms/step - loss: 0.5629 - accuracy: 0.8703 - val_loss: 1.0014 - val_accuracy: 0.7543\n",
            "Epoch 2/5\n",
            "877/877 [==============================] - 610s 695ms/step - loss: 0.5332 - accuracy: 0.8721 - val_loss: 0.9853 - val_accuracy: 0.7605\n",
            "Epoch 3/5\n",
            "877/877 [==============================] - 609s 694ms/step - loss: 0.4564 - accuracy: 0.8921 - val_loss: 1.0271 - val_accuracy: 0.7640\n",
            "Epoch 4/5\n",
            "877/877 [==============================] - 610s 695ms/step - loss: 0.3300 - accuracy: 0.9212 - val_loss: 1.0184 - val_accuracy: 0.7697\n",
            "Epoch 5/5\n",
            "877/877 [==============================] - 609s 694ms/step - loss: 0.2457 - accuracy: 0.9431 - val_loss: 1.0196 - val_accuracy: 0.7668\n"
          ],
          "name": "stdout"
        },
        {
          "output_type": "execute_result",
          "data": {
            "text/plain": [
              "<tensorflow.python.keras.callbacks.History at 0x7f108ff2c3d0>"
            ]
          },
          "metadata": {
            "tags": []
          },
          "execution_count": 58
        }
      ]
    },
    {
      "cell_type": "code",
      "metadata": {
        "id": "GyVcV2l2b_Ui"
      },
      "source": [
        "predictor = ktrain.get_predictor(learner.model, preproc= preprocess)"
      ],
      "execution_count": null,
      "outputs": []
    },
    {
      "cell_type": "code",
      "metadata": {
        "id": "StKorMh_LiAM"
      },
      "source": [
        "TestData = np.array(Val_Data['EN Question'])\n",
        "Y_Pred_Class_Concepts = predictor.predict(TestData)"
      ],
      "execution_count": null,
      "outputs": []
    },
    {
      "cell_type": "code",
      "metadata": {
        "id": "nBmqz1FRLh5K"
      },
      "source": [
        "Y_Pred_Prob_Concepts = predictor.predict_proba(TestData)"
      ],
      "execution_count": null,
      "outputs": []
    },
    {
      "cell_type": "code",
      "metadata": {
        "id": "yZWs8sDZLg_3"
      },
      "source": [
        "Prob_Vals_Concepts = []\n",
        "for i in range(len(Y_Pred_Prob_Concepts)):\n",
        "  Value = (np.max(Y_Pred_Prob_Concepts[i]))\n",
        "  Prob_Vals_Concepts.append(Value)"
      ],
      "execution_count": null,
      "outputs": []
    },
    {
      "cell_type": "code",
      "metadata": {
        "id": "xBJuYTsdMET5"
      },
      "source": [
        "Predicted_Labels_Concepts = []\n",
        "Actual_Labels_Concepts = []\n",
        "Questions = []\n",
        "for i in range(len(Y_Pred_Class_Concepts)):\n",
        "  Value = (Y_Pred_Class_Concepts[i])\n",
        "  Predicted_Labels_Concepts.append(Value)\n",
        "  Actual_Labels_Concepts.append(Val_Data.iloc[i]['Concepts'])"
      ],
      "execution_count": null,
      "outputs": []
    },
    {
      "cell_type": "code",
      "metadata": {
        "id": "jgFZioAD6ksb",
        "colab": {
          "base_uri": "https://localhost:8080/",
          "height": 471
        },
        "outputId": "fbea7566-8d35-4eef-9155-5173da4b655f"
      },
      "source": [
        "(X_train, y_train), (X_test, y_test), preprocess = text.texts_from_df(train_df= Train_Data_Topics, \n",
        "                                                                      text_column = 'EN Question',\n",
        "                                                                      label_columns = 'Topics',\n",
        "                                                                      maxlen = 128,\n",
        "                                                                      preprocess_mode = 'bert')"
      ],
      "execution_count": null,
      "outputs": [
        {
          "output_type": "stream",
          "text": [
            "[\"'ACTIVE_PASSIVE_VOICE'\", \"'ALGEBRA', 'ELEMENTARY_ALGEBRA'\", \"'ANALOGY'\", \"'ANALYTICAL_REASONING'\", \"'ANTONYMS'\", \"'AVERAGES'\", \"'BIOLOGY'\", \"'BLOOD_RELATION'\", \"'CENTRAL_TENDENCIES', 'ELEMENTARY_STATISTICS'\", \"'CHEMISTRY'\", \"'CLOZE_TEST'\", \"'CODED_INEQUALITIES'\", \"'CODING_DECODING'\", \"'COMPREHENSION_PASSAGE'\", \"'CRITICAL_THINKING'\", \"'CURRENT_AFFAIRS'\", \"'DATA_CASELET'\", \"'DATA_INTERPRETATION'\", \"'DATA_SUFFICIENCY'\", \"'DATA_TABLES'\", \"'DECISION_TREES'\", \"'DEEP_LEARNING'\", \"'DIRECT__INDIRECT_NARRATION'\", \"'DISTANCE_AND_DIRECTION'\", \"'ECONOMY'\", \"'ELEMENTARY_ALGEBRA'\", \"'ELEMENTARY_STATISTICS'\", \"'EMBEDDED_FIGURES'\", \"'ENSEMBLE_ALGORITHMS'\", \"'FILL_IN_THE_BLANKS'\", \"'GEOGRAPHY'\", \"'GEOMETRY'\", \"'GRAMMAR'\", \"'HISTORY'\", \"'IDIOMS_AND_PHRASES'\", \"'INTEREST', 'SIMPLE_AND_COMPOUND_INTEREST'\", \"'K-NEAREST_NEIGHBORS'\", \"'LINEAR_REGRESSION'\", \"'LOGISTIC_REGRESSION'\", \"'MATHEMATICAL_OPERATIONS'\", \"'MENSURATION'\", \"'MIRROR_IMAGE'\", \"'MISCELLANEOUS'\", \"'MIXTURES_AND_ALLEGATIONS'\", \"'NUMBER_SYSTEM'\", \"'ONE_WORD_SUBSTITUTION'\", \"'PARA_JUMBLE'\", \"'PATTERN_FOLDING__PUNCHED_HOLE'\", \"'PERCENTAGE'\", \"'PHRASE_REPLACEMENT'\", \"'PHYSICS'\", \"'POLITY'\", \"'PROBABILITY'\", \"'PROBABILITY_DISTRIBUTIONS'\", \"'PROBLEM_SOLVING'\", \"'PROFIT_AND_LOSS'\", \"'PUZZLE'\", \"'QUADRATIC_EQUATIONS'\", \"'RATIO_AND_PROPORTION'\", \"'RATIO_AND_PROPORTION', 'PROBLEM_SOLVING'\", \"'RELATIONSHIP_WITH_VARIABLES'\", \"'SCIENCE_AND_TECHNOLOGY'\", \"'SEATING_ARRANGEMENT', 'PUZZLE'\", \"'SEMANTIC_ANALYSIS'\", \"'SENTENCE_IMPROVEMENT'\", \"'SERIES'\", \"'SIMILARITIES_AND_DIFFERENCES'\", \"'SIMPLIFICATION'\", \"'SPELLINGS'\", \"'SPOT_THE_ERROR'\", \"'STATEMENT_AND_ASSUMPTION'\", \"'STATEMENT_AND_CONCLUSION'\", \"'STATIC_GK'\", \"'SUPPORT_VECTOR_MACHINES'\", \"'SYLLOGISM'\", \"'SYNONYMS'\", \"'TIME_AND_DISTANCE'\", \"'TIME_AND_WORK'\", \"'TRIGONOMETRY'\", \"'VENN_DIAGRAM'\", \"'VENN_DIAGRAMS'\", \"'WORD_BUILDING'\", \"'WORD_REPLACEMENT'\", 'REVOLT_OF_1857__MODERN_INDIA']\n",
            "       'ACTIVE_PASSIVE_VOICE'  ...  REVOLT_OF_1857__MODERN_INDIA\n",
            "21166                     0.0  ...                           0.0\n",
            "22929                     0.0  ...                           0.0\n",
            "19766                     0.0  ...                           0.0\n",
            "19571                     0.0  ...                           0.0\n",
            "30874                     0.0  ...                           0.0\n",
            "\n",
            "[5 rows x 84 columns]\n",
            "[\"'ACTIVE_PASSIVE_VOICE'\", \"'ALGEBRA', 'ELEMENTARY_ALGEBRA'\", \"'ANALOGY'\", \"'ANALYTICAL_REASONING'\", \"'ANTONYMS'\", \"'AVERAGES'\", \"'BIOLOGY'\", \"'BLOOD_RELATION'\", \"'CENTRAL_TENDENCIES', 'ELEMENTARY_STATISTICS'\", \"'CHEMISTRY'\", \"'CLOZE_TEST'\", \"'CODED_INEQUALITIES'\", \"'CODING_DECODING'\", \"'COMPREHENSION_PASSAGE'\", \"'CRITICAL_THINKING'\", \"'CURRENT_AFFAIRS'\", \"'DATA_CASELET'\", \"'DATA_INTERPRETATION'\", \"'DATA_SUFFICIENCY'\", \"'DATA_TABLES'\", \"'DECISION_TREES'\", \"'DEEP_LEARNING'\", \"'DIRECT__INDIRECT_NARRATION'\", \"'DISTANCE_AND_DIRECTION'\", \"'ECONOMY'\", \"'ELEMENTARY_ALGEBRA'\", \"'ELEMENTARY_STATISTICS'\", \"'EMBEDDED_FIGURES'\", \"'ENSEMBLE_ALGORITHMS'\", \"'FILL_IN_THE_BLANKS'\", \"'GEOGRAPHY'\", \"'GEOMETRY'\", \"'GRAMMAR'\", \"'HISTORY'\", \"'IDIOMS_AND_PHRASES'\", \"'INTEREST', 'SIMPLE_AND_COMPOUND_INTEREST'\", \"'K-NEAREST_NEIGHBORS'\", \"'LINEAR_REGRESSION'\", \"'LOGISTIC_REGRESSION'\", \"'MATHEMATICAL_OPERATIONS'\", \"'MENSURATION'\", \"'MIRROR_IMAGE'\", \"'MISCELLANEOUS'\", \"'MIXTURES_AND_ALLEGATIONS'\", \"'NUMBER_SYSTEM'\", \"'ONE_WORD_SUBSTITUTION'\", \"'PARA_JUMBLE'\", \"'PATTERN_FOLDING__PUNCHED_HOLE'\", \"'PERCENTAGE'\", \"'PHRASE_REPLACEMENT'\", \"'PHYSICS'\", \"'POLITY'\", \"'PROBABILITY'\", \"'PROBABILITY_DISTRIBUTIONS'\", \"'PROBLEM_SOLVING'\", \"'PROFIT_AND_LOSS'\", \"'PUZZLE'\", \"'QUADRATIC_EQUATIONS'\", \"'RATIO_AND_PROPORTION'\", \"'RATIO_AND_PROPORTION', 'PROBLEM_SOLVING'\", \"'RELATIONSHIP_WITH_VARIABLES'\", \"'SCIENCE_AND_TECHNOLOGY'\", \"'SEATING_ARRANGEMENT', 'PUZZLE'\", \"'SEMANTIC_ANALYSIS'\", \"'SENTENCE_IMPROVEMENT'\", \"'SERIES'\", \"'SIMILARITIES_AND_DIFFERENCES'\", \"'SIMPLIFICATION'\", \"'SPELLINGS'\", \"'SPOT_THE_ERROR'\", \"'STATEMENT_AND_ASSUMPTION'\", \"'STATEMENT_AND_CONCLUSION'\", \"'STATIC_GK'\", \"'SUPPORT_VECTOR_MACHINES'\", \"'SYLLOGISM'\", \"'SYNONYMS'\", \"'TIME_AND_DISTANCE'\", \"'TIME_AND_WORK'\", \"'TRIGONOMETRY'\", \"'VENN_DIAGRAM'\", \"'VENN_DIAGRAMS'\", \"'WORD_BUILDING'\", \"'WORD_REPLACEMENT'\", 'REVOLT_OF_1857__MODERN_INDIA']\n",
            "       'ACTIVE_PASSIVE_VOICE'  ...  REVOLT_OF_1857__MODERN_INDIA\n",
            "13540                     0.0  ...                           0.0\n",
            "27583                     0.0  ...                           0.0\n",
            "21099                     0.0  ...                           0.0\n",
            "7563                      0.0  ...                           0.0\n",
            "24135                     0.0  ...                           0.0\n",
            "\n",
            "[5 rows x 84 columns]\n",
            "preprocessing train...\n",
            "language: en\n"
          ],
          "name": "stdout"
        },
        {
          "output_type": "display_data",
          "data": {
            "text/html": [
              "done."
            ],
            "text/plain": [
              "<IPython.core.display.HTML object>"
            ]
          },
          "metadata": {
            "tags": []
          }
        },
        {
          "output_type": "stream",
          "text": [
            "Is Multi-Label? False\n",
            "preprocessing test...\n",
            "language: en\n"
          ],
          "name": "stdout"
        },
        {
          "output_type": "display_data",
          "data": {
            "text/html": [
              "done."
            ],
            "text/plain": [
              "<IPython.core.display.HTML object>"
            ]
          },
          "metadata": {
            "tags": []
          }
        }
      ]
    },
    {
      "cell_type": "code",
      "metadata": {
        "id": "sBc2jVIX6coL",
        "colab": {
          "base_uri": "https://localhost:8080/"
        },
        "outputId": "ca01554a-978e-4ff6-9b6e-85bce1a29b59"
      },
      "source": [
        "model = text.text_classifier(name= 'bert',\n",
        "                             train_data= (X_train, y_train),\n",
        "                             preproc = preprocess)"
      ],
      "execution_count": null,
      "outputs": [
        {
          "output_type": "stream",
          "text": [
            "Is Multi-Label? False\n",
            "maxlen is 128\n",
            "done.\n"
          ],
          "name": "stdout"
        }
      ]
    },
    {
      "cell_type": "code",
      "metadata": {
        "id": "6ZDEBGd-6wAG"
      },
      "source": [
        "learner = ktrain.get_learner(model = model,\n",
        "                             train_data = (X_train, y_train),\n",
        "                             val_data = (X_test, y_test),\n",
        "                             batch_size = 18)"
      ],
      "execution_count": null,
      "outputs": []
    },
    {
      "cell_type": "code",
      "metadata": {
        "id": "pK2kSRNM6zsR",
        "colab": {
          "base_uri": "https://localhost:8080/"
        },
        "outputId": "fd1dd3bb-8a0a-400a-dc9f-2dc766b79c24"
      },
      "source": [
        "learner.fit_onecycle(lr = 2e-5, epochs = 2)"
      ],
      "execution_count": null,
      "outputs": [
        {
          "output_type": "stream",
          "text": [
            "\n",
            "\n",
            "begin training using onecycle policy with max lr of 2e-05...\n",
            "Epoch 1/2\n",
            "877/877 [==============================] - 611s 676ms/step - loss: 2.5940 - accuracy: 0.4400 - val_loss: 1.0578 - val_accuracy: 0.7486\n",
            "Epoch 2/2\n",
            "877/877 [==============================] - 594s 677ms/step - loss: 0.8322 - accuracy: 0.8007 - val_loss: 0.7400 - val_accuracy: 0.8090\n"
          ],
          "name": "stdout"
        },
        {
          "output_type": "execute_result",
          "data": {
            "text/plain": [
              "<tensorflow.python.keras.callbacks.History at 0x7f1090bb8090>"
            ]
          },
          "metadata": {
            "tags": []
          },
          "execution_count": 68
        }
      ]
    },
    {
      "cell_type": "code",
      "metadata": {
        "id": "7MG6BHiwLfZT"
      },
      "source": [
        "predictor = ktrain.get_predictor(learner.model, preproc= preprocess)"
      ],
      "execution_count": null,
      "outputs": []
    },
    {
      "cell_type": "code",
      "metadata": {
        "id": "3FXiOrWaLiDk"
      },
      "source": [
        "Data = np.array(Train_Data_Topics['EN Question'])\n",
        "y_pred = predictor.predict(Data,return_proba=True)"
      ],
      "execution_count": null,
      "outputs": []
    },
    {
      "cell_type": "code",
      "metadata": {
        "id": "F_iiDsyi4A3S"
      },
      "source": [
        "Train_Data_ = np.array(Train_Data_Topics)"
      ],
      "execution_count": null,
      "outputs": []
    },
    {
      "cell_type": "code",
      "metadata": {
        "id": "xlacM69_4V-n",
        "colab": {
          "base_uri": "https://localhost:8080/"
        },
        "outputId": "e064050b-6caf-48b8-bef5-7914022d08ab"
      },
      "source": [
        "print(y_pred.shape,len(Train_Data_Topics))"
      ],
      "execution_count": null,
      "outputs": [
        {
          "output_type": "stream",
          "text": [
            "(17535, 84) 17535\n"
          ],
          "name": "stdout"
        }
      ]
    },
    {
      "cell_type": "code",
      "metadata": {
        "colab": {
          "base_uri": "https://localhost:8080/"
        },
        "id": "j4_JEuaq4F80",
        "outputId": "c44bbdab-6dba-4468-da69-5d642bf73133"
      },
      "source": [
        "cnt  = 0 \n",
        "for ix,val in enumerate(y_pred):\n",
        "    if(np.max(val) <= 0.8):\n",
        "      cnt += 1\n",
        "print(cnt)"
      ],
      "execution_count": null,
      "outputs": [
        {
          "output_type": "stream",
          "text": [
            "5646\n"
          ],
          "name": "stdout"
        }
      ]
    },
    {
      "cell_type": "code",
      "metadata": {
        "id": "HwlAFLNKVRhV"
      },
      "source": [
        "for ix,val in enumerate(y_pred):\n",
        "    if(np.max(val) <= 0.8):\n",
        "      #print(ix)\n",
        "      x = (Train_Data_[ix][0])\n",
        "      to_be_removed = (Train_Data_Topics[Train_Data_Topics['EN Question']==x])\n",
        "      Train_Data_Topics = Train_Data_Topics.drop(to_be_removed.index,axis = 0)"
      ],
      "execution_count": null,
      "outputs": []
    },
    {
      "cell_type": "code",
      "metadata": {
        "colab": {
          "base_uri": "https://localhost:8080/"
        },
        "id": "KWGYIxhDVarr",
        "outputId": "d2d8e695-f4da-4d61-f2db-81283a55d333"
      },
      "source": [
        "len(Train_Data_Topics)"
      ],
      "execution_count": null,
      "outputs": [
        {
          "output_type": "execute_result",
          "data": {
            "text/plain": [
              "11889"
            ]
          },
          "metadata": {
            "tags": []
          },
          "execution_count": 75
        }
      ]
    },
    {
      "cell_type": "code",
      "metadata": {
        "colab": {
          "base_uri": "https://localhost:8080/"
        },
        "id": "7O7HEwTI5cq0",
        "outputId": "3cf2e0c3-9bb4-4676-c64b-9f0062e13553"
      },
      "source": [
        "len(Train_Data_Topics.Topics.value_counts())"
      ],
      "execution_count": null,
      "outputs": [
        {
          "output_type": "execute_result",
          "data": {
            "text/plain": [
              "65"
            ]
          },
          "metadata": {
            "tags": []
          },
          "execution_count": 76
        }
      ]
    },
    {
      "cell_type": "code",
      "metadata": {
        "colab": {
          "base_uri": "https://localhost:8080/"
        },
        "id": "0WePzeuO5fgq",
        "outputId": "e84c12a3-b53e-4ced-cec0-1604f488dcc8"
      },
      "source": [
        "maxx = -1\n",
        "for index, row in Train_Data_Topics.iterrows():\n",
        "    sentence = row[\"EN Question\"]\n",
        "    words = sentence.split()\n",
        "    maxx = max(maxx, len(words))\n",
        "\n",
        "print(maxx)"
      ],
      "execution_count": null,
      "outputs": [
        {
          "output_type": "stream",
          "text": [
            "107\n"
          ],
          "name": "stdout"
        }
      ]
    },
    {
      "cell_type": "code",
      "metadata": {
        "colab": {
          "base_uri": "https://localhost:8080/",
          "height": 471
        },
        "id": "-TWPk9lZ5mPg",
        "outputId": "5f716432-1793-4b94-9b39-4dcdc08d551d"
      },
      "source": [
        "(X_train, y_train), (X_test, y_test), preprocess = text.texts_from_df(train_df= Train_Data_Topics, \n",
        "                                                                      text_column = 'EN Question',\n",
        "                                                                      label_columns = 'Topics',\n",
        "                                                                      maxlen = 128,\n",
        "                                                                      preprocess_mode = 'bert')"
      ],
      "execution_count": null,
      "outputs": [
        {
          "output_type": "stream",
          "text": [
            "[\"'ACTIVE_PASSIVE_VOICE'\", \"'ALGEBRA', 'ELEMENTARY_ALGEBRA'\", \"'ANALOGY'\", \"'ANALYTICAL_REASONING'\", \"'ANTONYMS'\", \"'AVERAGES'\", \"'BIOLOGY'\", \"'BLOOD_RELATION'\", \"'CHEMISTRY'\", \"'CLOZE_TEST'\", \"'CODING_DECODING'\", \"'COMPREHENSION_PASSAGE'\", \"'CRITICAL_THINKING'\", \"'CURRENT_AFFAIRS'\", \"'DATA_INTERPRETATION'\", \"'DATA_SUFFICIENCY'\", \"'DIRECT__INDIRECT_NARRATION'\", \"'DISTANCE_AND_DIRECTION'\", \"'ECONOMY'\", \"'ELEMENTARY_ALGEBRA'\", \"'EMBEDDED_FIGURES'\", \"'FILL_IN_THE_BLANKS'\", \"'GEOGRAPHY'\", \"'GEOMETRY'\", \"'GRAMMAR'\", \"'HISTORY'\", \"'IDIOMS_AND_PHRASES'\", \"'INTEREST', 'SIMPLE_AND_COMPOUND_INTEREST'\", \"'MATHEMATICAL_OPERATIONS'\", \"'MENSURATION'\", \"'MIRROR_IMAGE'\", \"'MISCELLANEOUS'\", \"'NUMBER_SYSTEM'\", \"'ONE_WORD_SUBSTITUTION'\", \"'PARA_JUMBLE'\", \"'PATTERN_FOLDING__PUNCHED_HOLE'\", \"'PERCENTAGE'\", \"'PHRASE_REPLACEMENT'\", \"'PHYSICS'\", \"'POLITY'\", \"'PROBABILITY'\", \"'PROBLEM_SOLVING'\", \"'PROFIT_AND_LOSS'\", \"'PUZZLE'\", \"'RATIO_AND_PROPORTION', 'PROBLEM_SOLVING'\", \"'SCIENCE_AND_TECHNOLOGY'\", \"'SEMANTIC_ANALYSIS'\", \"'SENTENCE_IMPROVEMENT'\", \"'SERIES'\", \"'SIMILARITIES_AND_DIFFERENCES'\", \"'SIMPLIFICATION'\", \"'SPELLINGS'\", \"'SPOT_THE_ERROR'\", \"'STATEMENT_AND_CONCLUSION'\", \"'STATIC_GK'\", \"'SYLLOGISM'\", \"'SYNONYMS'\", \"'TIME_AND_DISTANCE'\", \"'TIME_AND_WORK'\", \"'TRIGONOMETRY'\", \"'VENN_DIAGRAM'\", \"'VENN_DIAGRAMS'\", \"'WORD_BUILDING'\", \"'WORD_REPLACEMENT'\", 'REVOLT_OF_1857__MODERN_INDIA']\n",
            "       'ACTIVE_PASSIVE_VOICE'  ...  REVOLT_OF_1857__MODERN_INDIA\n",
            "19502                     0.0  ...                           0.0\n",
            "29531                     0.0  ...                           0.0\n",
            "9760                      0.0  ...                           0.0\n",
            "23889                     0.0  ...                           0.0\n",
            "23301                     0.0  ...                           0.0\n",
            "\n",
            "[5 rows x 65 columns]\n",
            "[\"'ACTIVE_PASSIVE_VOICE'\", \"'ALGEBRA', 'ELEMENTARY_ALGEBRA'\", \"'ANALOGY'\", \"'ANALYTICAL_REASONING'\", \"'ANTONYMS'\", \"'AVERAGES'\", \"'BIOLOGY'\", \"'BLOOD_RELATION'\", \"'CHEMISTRY'\", \"'CLOZE_TEST'\", \"'CODING_DECODING'\", \"'COMPREHENSION_PASSAGE'\", \"'CRITICAL_THINKING'\", \"'CURRENT_AFFAIRS'\", \"'DATA_INTERPRETATION'\", \"'DATA_SUFFICIENCY'\", \"'DIRECT__INDIRECT_NARRATION'\", \"'DISTANCE_AND_DIRECTION'\", \"'ECONOMY'\", \"'ELEMENTARY_ALGEBRA'\", \"'EMBEDDED_FIGURES'\", \"'FILL_IN_THE_BLANKS'\", \"'GEOGRAPHY'\", \"'GEOMETRY'\", \"'GRAMMAR'\", \"'HISTORY'\", \"'IDIOMS_AND_PHRASES'\", \"'INTEREST', 'SIMPLE_AND_COMPOUND_INTEREST'\", \"'MATHEMATICAL_OPERATIONS'\", \"'MENSURATION'\", \"'MIRROR_IMAGE'\", \"'MISCELLANEOUS'\", \"'NUMBER_SYSTEM'\", \"'ONE_WORD_SUBSTITUTION'\", \"'PARA_JUMBLE'\", \"'PATTERN_FOLDING__PUNCHED_HOLE'\", \"'PERCENTAGE'\", \"'PHRASE_REPLACEMENT'\", \"'PHYSICS'\", \"'POLITY'\", \"'PROBABILITY'\", \"'PROBLEM_SOLVING'\", \"'PROFIT_AND_LOSS'\", \"'PUZZLE'\", \"'RATIO_AND_PROPORTION', 'PROBLEM_SOLVING'\", \"'SCIENCE_AND_TECHNOLOGY'\", \"'SEMANTIC_ANALYSIS'\", \"'SENTENCE_IMPROVEMENT'\", \"'SERIES'\", \"'SIMILARITIES_AND_DIFFERENCES'\", \"'SIMPLIFICATION'\", \"'SPELLINGS'\", \"'SPOT_THE_ERROR'\", \"'STATEMENT_AND_CONCLUSION'\", \"'STATIC_GK'\", \"'SYLLOGISM'\", \"'SYNONYMS'\", \"'TIME_AND_DISTANCE'\", \"'TIME_AND_WORK'\", \"'TRIGONOMETRY'\", \"'VENN_DIAGRAM'\", \"'VENN_DIAGRAMS'\", \"'WORD_BUILDING'\", \"'WORD_REPLACEMENT'\", 'REVOLT_OF_1857__MODERN_INDIA']\n",
            "       'ACTIVE_PASSIVE_VOICE'  ...  REVOLT_OF_1857__MODERN_INDIA\n",
            "31328                     0.0  ...                           0.0\n",
            "14949                     0.0  ...                           0.0\n",
            "20600                     0.0  ...                           0.0\n",
            "7684                      0.0  ...                           0.0\n",
            "25158                     0.0  ...                           0.0\n",
            "\n",
            "[5 rows x 65 columns]\n",
            "preprocessing train...\n",
            "language: en\n"
          ],
          "name": "stdout"
        },
        {
          "output_type": "display_data",
          "data": {
            "text/html": [
              "done."
            ],
            "text/plain": [
              "<IPython.core.display.HTML object>"
            ]
          },
          "metadata": {
            "tags": []
          }
        },
        {
          "output_type": "stream",
          "text": [
            "Is Multi-Label? False\n",
            "preprocessing test...\n",
            "language: en\n"
          ],
          "name": "stdout"
        },
        {
          "output_type": "display_data",
          "data": {
            "text/html": [
              "done."
            ],
            "text/plain": [
              "<IPython.core.display.HTML object>"
            ]
          },
          "metadata": {
            "tags": []
          }
        }
      ]
    },
    {
      "cell_type": "code",
      "metadata": {
        "colab": {
          "base_uri": "https://localhost:8080/"
        },
        "id": "0Qbs6F6V5vXb",
        "outputId": "5737805f-78f5-474a-9ab7-b8c0a74e879b"
      },
      "source": [
        "model = text.text_classifier(name= 'bert',\n",
        "                             train_data= (X_train, y_train),\n",
        "                             preproc = preprocess)"
      ],
      "execution_count": null,
      "outputs": [
        {
          "output_type": "stream",
          "text": [
            "Is Multi-Label? False\n",
            "maxlen is 128\n",
            "done.\n"
          ],
          "name": "stdout"
        }
      ]
    },
    {
      "cell_type": "code",
      "metadata": {
        "id": "CkNaoXEe5yDy"
      },
      "source": [
        "learner = ktrain.get_learner(model = model,\n",
        "                             train_data = (X_train, y_train),\n",
        "                             val_data = (X_test, y_test),\n",
        "                             batch_size = 18)"
      ],
      "execution_count": null,
      "outputs": []
    },
    {
      "cell_type": "code",
      "metadata": {
        "colab": {
          "base_uri": "https://localhost:8080/"
        },
        "id": "kd2ciqlD50o2",
        "outputId": "61766f36-82a6-4b8e-cd07-f9164a8dc65c"
      },
      "source": [
        "learner.fit_onecycle(lr = 2e-5, epochs = 2)"
      ],
      "execution_count": null,
      "outputs": [
        {
          "output_type": "stream",
          "text": [
            "\n",
            "\n",
            "begin training using onecycle policy with max lr of 2e-05...\n",
            "Epoch 1/2\n",
            "595/595 [==============================] - 406s 683ms/step - loss: 0.2395 - accuracy: 0.9639 - val_loss: 0.2594 - val_accuracy: 0.9563\n",
            "Epoch 2/2\n",
            "595/595 [==============================] - 408s 686ms/step - loss: 0.1849 - accuracy: 0.9689 - val_loss: 0.2290 - val_accuracy: 0.9588\n"
          ],
          "name": "stdout"
        },
        {
          "output_type": "execute_result",
          "data": {
            "text/plain": [
              "<tensorflow.python.keras.callbacks.History at 0x7f10861b5d50>"
            ]
          },
          "metadata": {
            "tags": []
          },
          "execution_count": 82
        }
      ]
    },
    {
      "cell_type": "code",
      "metadata": {
        "id": "UjNOe2PtE_b5"
      },
      "source": [
        "TestData = np.array(Val_Data['EN Question'])\n",
        "Y_Pred_Class_Topics = predictor.predict(TestData)"
      ],
      "execution_count": null,
      "outputs": []
    },
    {
      "cell_type": "code",
      "metadata": {
        "id": "ubMSjO_VDFO1"
      },
      "source": [
        "Y_Pred_Prob_Topics = predictor.predict_proba(TestData)"
      ],
      "execution_count": null,
      "outputs": []
    },
    {
      "cell_type": "code",
      "metadata": {
        "id": "LLzAeKOGDLiP"
      },
      "source": [
        "Prob_Vals_Topics = []\n",
        "for i in range(len(Y_Pred_Prob_Topics)):\n",
        "  Value = (np.max(Y_Pred_Prob_Topics[i]))\n",
        "  Prob_Vals_Topics.append(Value)"
      ],
      "execution_count": null,
      "outputs": []
    },
    {
      "cell_type": "code",
      "metadata": {
        "id": "_NUuC48CDgSb"
      },
      "source": [
        "Predicted_Labels_Topics = []\n",
        "Actual_Labels_Topics = []\n",
        "Questions = []\n",
        "for i in range(len(Y_Pred_Class_Topics)):\n",
        "  Value = (Y_Pred_Class_Topics[i])\n",
        "  Predicted_Labels_Topics.append(Value)\n",
        "  Actual_Labels_Topics.append(Val_Data.iloc[i]['Concepts'])"
      ],
      "execution_count": null,
      "outputs": []
    },
    {
      "cell_type": "code",
      "metadata": {
        "id": "18SM8uHnGYow"
      },
      "source": [
        "Questions = []\n",
        "for i in range(len(Val_Data)):\n",
        "  question = np.array(DataFrame_For_Questions[(DataFrame_For_Questions.index == Val_Data.index[i])])[0][1]\n",
        "  Questions.append(question)"
      ],
      "execution_count": null,
      "outputs": []
    },
    {
      "cell_type": "code",
      "metadata": {
        "id": "DECQY4PR4fVk"
      },
      "source": [
        "Prefernce = []\n",
        "for i in range(len(Val_Data)):\n",
        "  if Predicted_Labels_Concepts[i]==Actual_Labels_Concepts[i]:\n",
        "    Prefernce.append(\"Concept\")\n",
        "  elif Predicted_Labels_Topics[i]==Actual_Labels_Topics[i]:\n",
        "    Prefernce.append(\"Topic\")\n",
        "  else:\n",
        "    if Prob_Vals_Topics[i] < Prob_Vals_Concepts[i]:\n",
        "      Prefernce.append(\"Concept\")\n",
        "    else:\n",
        "      Prefernce.append(\"Topic\")"
      ],
      "execution_count": null,
      "outputs": []
    },
    {
      "cell_type": "code",
      "metadata": {
        "id": "8KlFW7_Nlbha"
      },
      "source": [
        "for i in range(len(Val_Data)):\n",
        "  Predicted_Labels_Topics[i] = (\"[\"+ Predicted_Labels_Topics[i][1:-1]+\"]\")"
      ],
      "execution_count": null,
      "outputs": []
    },
    {
      "cell_type": "code",
      "metadata": {
        "id": "nJ2orHKKD_0e"
      },
      "source": [
        "Val_Data_Dict = {\n",
        "    \"Questions\" : Questions,\n",
        "    \"Actual Concept Labels\" : Actual_Labels_Concepts,\n",
        "    \"Predicted Concept Labels\" : Predicted_Labels_Concepts,\n",
        "    \"Concept Probalblistic Confidence\" : Prob_Vals_Concepts,\n",
        "    \"Actual Topic Labels\" : Actual_Labels_Topics,\n",
        "    \"Predicted Topic Labels\" : Predicted_Labels_Topics,\n",
        "    \"Topic Probalblistic Confidence\" : Prob_Vals_Topics,\n",
        "    \"Preference\": Prefernce\n",
        "}"
      ],
      "execution_count": null,
      "outputs": []
    },
    {
      "cell_type": "code",
      "metadata": {
        "id": "RdOk6YpCF3VT"
      },
      "source": [
        "Val_Data_Summary = pd.DataFrame(Val_Data_Dict)"
      ],
      "execution_count": null,
      "outputs": []
    },
    {
      "cell_type": "code",
      "metadata": {
        "id": "hAh9vOQoJZlU"
      },
      "source": [
        "Val_Data_Summary.to_csv(\"Val_Data_Summary_Both_Model_Included.csv\",index=False)"
      ],
      "execution_count": null,
      "outputs": []
    },
    {
      "cell_type": "code",
      "metadata": {
        "colab": {
          "base_uri": "https://localhost:8080/"
        },
        "id": "KMA4xnzPMpOX",
        "outputId": "f54bb2bb-383d-4aad-cd8a-747075886ffd"
      },
      "source": [
        "(int(sum(Val_Data_Summary['Actual Concept Labels'] == Val_Data_Summary['Predicted Concept Labels'])))/len(Val_Data_Summary)"
      ],
      "execution_count": null,
      "outputs": [
        {
          "output_type": "execute_result",
          "data": {
            "text/plain": [
              "0.775782452539764"
            ]
          },
          "metadata": {
            "tags": []
          },
          "execution_count": 94
        }
      ]
    },
    {
      "cell_type": "code",
      "metadata": {
        "colab": {
          "base_uri": "https://localhost:8080/"
        },
        "id": "tbODIzLyOJyK",
        "outputId": "4dde6ddc-fe3b-4418-85b6-465761790d41"
      },
      "source": [
        "cnt = 0\n",
        "for i in range(len(Prob_Vals_Concepts)):\n",
        "  if Prob_Vals_Concepts[i] >= 0.8:\n",
        "    cnt += 1\n",
        "print(cnt)"
      ],
      "execution_count": null,
      "outputs": [
        {
          "output_type": "stream",
          "text": [
            "1498\n"
          ],
          "name": "stdout"
        }
      ]
    },
    {
      "cell_type": "code",
      "metadata": {
        "id": "Mpw1DLCJOR6i",
        "colab": {
          "base_uri": "https://localhost:8080/"
        },
        "outputId": "1a0392eb-6c15-47bf-be70-ac6d6e503b8d"
      },
      "source": [
        "from sklearn.metrics import accuracy_score\n",
        "from sklearn.metrics import classification_report\n",
        "\n",
        "print(\"Accuracy score for test data is:\")\n",
        "print(accuracy_score(Actual_Labels_Concepts, Predicted_Labels_Concepts))"
      ],
      "execution_count": null,
      "outputs": [
        {
          "output_type": "stream",
          "text": [
            "Accuracy score for test data is:\n",
            "0.775782452539764\n"
          ],
          "name": "stdout"
        }
      ]
    },
    {
      "cell_type": "code",
      "metadata": {
        "id": "qF7NbEeLogkz"
      },
      "source": [
        ""
      ],
      "execution_count": null,
      "outputs": []
    },
    {
      "cell_type": "code",
      "metadata": {
        "id": "XaIAj7POpA94"
      },
      "source": [
        ""
      ],
      "execution_count": null,
      "outputs": []
    }
  ]
}